{
  "nbformat": 4,
  "nbformat_minor": 0,
  "metadata": {
    "colab": {
      "provenance": [],
      "mount_file_id": "1_JtwRtURMctCKQZYU9UpoxS7Jq5pProj",
      "authorship_tag": "ABX9TyO5rS1KDcGrGICHCL/N7u9K",
      "include_colab_link": true
    },
    "kernelspec": {
      "name": "python3",
      "display_name": "Python 3"
    },
    "language_info": {
      "name": "python"
    }
  },
  "cells": [
    {
      "cell_type": "markdown",
      "metadata": {
        "id": "view-in-github",
        "colab_type": "text"
      },
      "source": [
        "<a href=\"https://colab.research.google.com/github/thanaphornkanking/BSC_DPDM23/blob/main/Understanding_Data.ipynb\" target=\"_parent\"><img src=\"https://colab.research.google.com/assets/colab-badge.svg\" alt=\"Open In Colab\"/></a>"
      ]
    },
    {
      "cell_type": "markdown",
      "source": [
        "#Load data"
      ],
      "metadata": {
        "id": "b4nAgdKIBy89"
      }
    },
    {
      "cell_type": "markdown",
      "source": [
        "##Load excel from Gdrive"
      ],
      "metadata": {
        "id": "tiOJbHtuETxK"
      }
    },
    {
      "cell_type": "code",
      "source": [
        "from google.colab import drive\n",
        "drive.mount('/content/drive')  # mount =  เชื่อมไดร์ฟ\n",
        "import pandas as pd #ใช้ pandas"
      ],
      "metadata": {
        "colab": {
          "base_uri": "https://localhost:8080/"
        },
        "id": "qtAssPH-DsWz",
        "outputId": "f4ddcf64-edea-4d40-e126-bb186004cfa9"
      },
      "execution_count": 1,
      "outputs": [
        {
          "output_type": "stream",
          "name": "stdout",
          "text": [
            "Mounted at /content/drive\n"
          ]
        }
      ]
    },
    {
      "cell_type": "code",
      "source": [
        "data_from_gdrive = pd.read_excel('/content/drive/MyDrive/BSC_DPDM23/2563.xls',header=2)\n",
        "data_from_gdrive"
      ],
      "metadata": {
        "colab": {
          "base_uri": "https://localhost:8080/",
          "height": 1000
        },
        "id": "6T6GIiM1EbU9",
        "outputId": "10d58ad7-b35f-421b-b6dd-5f1e60515d63"
      },
      "execution_count": null,
      "outputs": [
        {
          "output_type": "execute_result",
          "data": {
            "text/plain": [
              "    เลขที่คำขอ เลขที่บัตรส่งเสริม                        ชื่อบริษัทภาษาไทย  \\\n",
              "0       610707   62-0422-1-04-1-0  กรุงเทพ ไดอ์แคสซ์ติ้ง แอนด์ อินแจ๊กชั่น   \n",
              "1       620660   63-0107-1-00-1-0                        เจ้าพระยา คาร์บอน   \n",
              "2       610182   63-0101-1-00-1-0                        อาร์ต ออฟ เบคกิ้ง   \n",
              "3       620318   63-0080-1-00-0-0       เอ็นจีเค สปาร์คปลั๊กส์ (ประเทศไทย)   \n",
              "4       620185   63-0079-1-00-0-0       เอ็นจีเค สปาร์คปลั๊กส์ (ประเทศไทย)   \n",
              "..         ...                ...                                      ...   \n",
              "655    E630369   63-0669-1-00-0-0  อีเลคโทรลักซ์ โปรเฟสชั่นแนล (ประเทศไทย)   \n",
              "656    E630401   63-0682-1-00-1-0                            โกลว์ พลังงาน   \n",
              "657    E630277   63-0666-1-03-1-0         ยูนิค อุตสาหกรรมพลาสติก (แม่สอด)   \n",
              "658     610552   63-0676-1-00-1-0                   ไอชิน เอไอ (ประเทศไทย)   \n",
              "659    E630269   63-0668-1-00-1-0     เอ็มเอ็มซี อีเล็คโทรนิคส์ (ไทยแลนด์)   \n",
              "\n",
              "                                     สถานที่ตั้งโรงงาน  เบอร์โทรศัพท์  \\\n",
              "0    46/1,46/2 หมู่ที่ 12 ถนนบางพลี-บางนาตราด ต.บาง...  02-3373078-84   \n",
              "1            ต.เขาล้าน อ.ทับสะแก ประจวบคีรีขันธ์ 77130    081-8412110   \n",
              "2    111/21 หมู่ที่ 2 ต.ท่าจีน อ.เมือง สมุทรสาคร 74000     034-440157   \n",
              "3     700/864 หมู่ที่ 1 ต.พานทอง อ.พานทอง ชลบุรี 20160            NaN   \n",
              "4     700/864 หมู่ที่ 1 ต.พานทอง อ.พานทอง ชลบุรี 20160            NaN   \n",
              "..                                                 ...            ...   \n",
              "655  222 หมู่ที่ 11 ต.หนองละลอก อ.บ้านค่าย ระยอง 21120            NaN   \n",
              "656              60/5 ต.มาบยางพร อ.ปลวกแดง ระยอง 21140            NaN   \n",
              "657     269/11 หมู่ที่ 15 ต.แม่กาษา อ.แม่สอด ตาก 63110    064-9510202   \n",
              "658  80 หมู่ที่ 5 ถนนบางนา-ตราด ต.บางสมัคร อ.บางปะก...     038-570062   \n",
              "659  129/2 หมู่ที่ 17 ถนนเทพรัตน ต.บางเสาธง อ.บางเส...   02-3152273-4   \n",
              "\n",
              "       เบอร์โทรสาร          จังหวัด ประเภทกิจการ  \\\n",
              "0    02-3373589-90      สมุทรปราการ        [6.6]   \n",
              "1              NaN  ประจวบคีรีขันธ์       [1.15]   \n",
              "2              NaN        สมุทรสาคร       [1.17]   \n",
              "3              NaN           ชลบุรี     [4.8.17]   \n",
              "4              NaN           ชลบุรี     [4.8.17]   \n",
              "..             ...              ...          ...   \n",
              "655            NaN            ระยอง       [7.34]   \n",
              "656            NaN            ระยอง    [7.1.1.2]   \n",
              "657            NaN              ตาก       [6.16]   \n",
              "658     038-570067       ฉะเชิงเทรา    [4.8.6.6]   \n",
              "659            NaN      สมุทรปราการ    [5.4.3.2]   \n",
              "\n",
              "                            ชื่อผลิตภัณฑ์  อุตสาหการ  ...  สาขาการตลาด  \\\n",
              "0            Plastic Parts for Automotive          0  ...            0   \n",
              "1                        Activated Carbon          0  ...            1   \n",
              "2           Frozen Pizza Disc/Pizza Dough          1  ...            0   \n",
              "3                      Temperature Sensor          0  ...            0   \n",
              "4                           Oxygen Sensor          2  ...            0   \n",
              "..                                    ...        ...  ...          ...   \n",
              "655   International Business Center : IBC          6  ...            0   \n",
              "656  Electricity Power from Solar Rooftop          0  ...            0   \n",
              "657                           Plastic Bag          0  ...            0   \n",
              "658                           Drive Shaft          0  ...            0   \n",
              "659                     Multiband Antenna          0  ...            0   \n",
              "\n",
              "     สาขาการจัดการ  สาขาเลขานุการ  สาขาคอมพิวเตอร์ธุรกิจ  \\\n",
              "0                0              0                      0   \n",
              "1                1              0                      0   \n",
              "2                0              0                      0   \n",
              "3                0              0                      0   \n",
              "4                0              0                      0   \n",
              "..             ...            ...                    ...   \n",
              "655              0              0                      0   \n",
              "656              0              0                      0   \n",
              "657              0              0                      0   \n",
              "658              0              0                      0   \n",
              "659              0              0                      0   \n",
              "\n",
              "     สาขาการเงินการธนาคาร  สาขาพัฒนาชุมชน-การสหกรณ์  พาณิชยการ  \\\n",
              "0                       0                         0          0   \n",
              "1                       0                         0          0   \n",
              "2                       0                         2          3   \n",
              "3                       0                         0          0   \n",
              "4                       0                         0          0   \n",
              "..                    ...                       ...        ...   \n",
              "655                     0                         0          0   \n",
              "656                     0                         0          0   \n",
              "657                     0                         0          0   \n",
              "658                     0                         0          0   \n",
              "659                     0                         0          0   \n",
              "\n",
              "     สาขาอุตสาหกรรมการท่องเที่ยว  สาขาศิลปศาสตร์  อาชีวศึกษาบริหารธุรกิจ อื่นๆ  \n",
              "0                              0               0                             0  \n",
              "1                              0               0                             0  \n",
              "2                              0               0                             0  \n",
              "3                              0               0                             0  \n",
              "4                              0               0                             0  \n",
              "..                           ...             ...                           ...  \n",
              "655                            0               0                             0  \n",
              "656                            0               0                             0  \n",
              "657                            0               0                             0  \n",
              "658                            0               0                             0  \n",
              "659                            0               0                             0  \n",
              "\n",
              "[660 rows x 165 columns]"
            ],
            "text/html": [
              "\n",
              "  <div id=\"df-37d83019-4907-4fae-9d4c-94b983387e4a\" class=\"colab-df-container\">\n",
              "    <div>\n",
              "<style scoped>\n",
              "    .dataframe tbody tr th:only-of-type {\n",
              "        vertical-align: middle;\n",
              "    }\n",
              "\n",
              "    .dataframe tbody tr th {\n",
              "        vertical-align: top;\n",
              "    }\n",
              "\n",
              "    .dataframe thead th {\n",
              "        text-align: right;\n",
              "    }\n",
              "</style>\n",
              "<table border=\"1\" class=\"dataframe\">\n",
              "  <thead>\n",
              "    <tr style=\"text-align: right;\">\n",
              "      <th></th>\n",
              "      <th>เลขที่คำขอ</th>\n",
              "      <th>เลขที่บัตรส่งเสริม</th>\n",
              "      <th>ชื่อบริษัทภาษาไทย</th>\n",
              "      <th>สถานที่ตั้งโรงงาน</th>\n",
              "      <th>เบอร์โทรศัพท์</th>\n",
              "      <th>เบอร์โทรสาร</th>\n",
              "      <th>จังหวัด</th>\n",
              "      <th>ประเภทกิจการ</th>\n",
              "      <th>ชื่อผลิตภัณฑ์</th>\n",
              "      <th>อุตสาหการ</th>\n",
              "      <th>...</th>\n",
              "      <th>สาขาการตลาด</th>\n",
              "      <th>สาขาการจัดการ</th>\n",
              "      <th>สาขาเลขานุการ</th>\n",
              "      <th>สาขาคอมพิวเตอร์ธุรกิจ</th>\n",
              "      <th>สาขาการเงินการธนาคาร</th>\n",
              "      <th>สาขาพัฒนาชุมชน-การสหกรณ์</th>\n",
              "      <th>พาณิชยการ</th>\n",
              "      <th>สาขาอุตสาหกรรมการท่องเที่ยว</th>\n",
              "      <th>สาขาศิลปศาสตร์</th>\n",
              "      <th>อาชีวศึกษาบริหารธุรกิจ อื่นๆ</th>\n",
              "    </tr>\n",
              "  </thead>\n",
              "  <tbody>\n",
              "    <tr>\n",
              "      <th>0</th>\n",
              "      <td>610707</td>\n",
              "      <td>62-0422-1-04-1-0</td>\n",
              "      <td>กรุงเทพ ไดอ์แคสซ์ติ้ง แอนด์ อินแจ๊กชั่น</td>\n",
              "      <td>46/1,46/2 หมู่ที่ 12 ถนนบางพลี-บางนาตราด ต.บาง...</td>\n",
              "      <td>02-3373078-84</td>\n",
              "      <td>02-3373589-90</td>\n",
              "      <td>สมุทรปราการ</td>\n",
              "      <td>[6.6]</td>\n",
              "      <td>Plastic Parts for Automotive</td>\n",
              "      <td>0</td>\n",
              "      <td>...</td>\n",
              "      <td>0</td>\n",
              "      <td>0</td>\n",
              "      <td>0</td>\n",
              "      <td>0</td>\n",
              "      <td>0</td>\n",
              "      <td>0</td>\n",
              "      <td>0</td>\n",
              "      <td>0</td>\n",
              "      <td>0</td>\n",
              "      <td>0</td>\n",
              "    </tr>\n",
              "    <tr>\n",
              "      <th>1</th>\n",
              "      <td>620660</td>\n",
              "      <td>63-0107-1-00-1-0</td>\n",
              "      <td>เจ้าพระยา คาร์บอน</td>\n",
              "      <td>ต.เขาล้าน อ.ทับสะแก ประจวบคีรีขันธ์ 77130</td>\n",
              "      <td>081-8412110</td>\n",
              "      <td>NaN</td>\n",
              "      <td>ประจวบคีรีขันธ์</td>\n",
              "      <td>[1.15]</td>\n",
              "      <td>Activated Carbon</td>\n",
              "      <td>0</td>\n",
              "      <td>...</td>\n",
              "      <td>1</td>\n",
              "      <td>1</td>\n",
              "      <td>0</td>\n",
              "      <td>0</td>\n",
              "      <td>0</td>\n",
              "      <td>0</td>\n",
              "      <td>0</td>\n",
              "      <td>0</td>\n",
              "      <td>0</td>\n",
              "      <td>0</td>\n",
              "    </tr>\n",
              "    <tr>\n",
              "      <th>2</th>\n",
              "      <td>610182</td>\n",
              "      <td>63-0101-1-00-1-0</td>\n",
              "      <td>อาร์ต ออฟ เบคกิ้ง</td>\n",
              "      <td>111/21 หมู่ที่ 2 ต.ท่าจีน อ.เมือง สมุทรสาคร 74000</td>\n",
              "      <td>034-440157</td>\n",
              "      <td>NaN</td>\n",
              "      <td>สมุทรสาคร</td>\n",
              "      <td>[1.17]</td>\n",
              "      <td>Frozen Pizza Disc/Pizza Dough</td>\n",
              "      <td>1</td>\n",
              "      <td>...</td>\n",
              "      <td>0</td>\n",
              "      <td>0</td>\n",
              "      <td>0</td>\n",
              "      <td>0</td>\n",
              "      <td>0</td>\n",
              "      <td>2</td>\n",
              "      <td>3</td>\n",
              "      <td>0</td>\n",
              "      <td>0</td>\n",
              "      <td>0</td>\n",
              "    </tr>\n",
              "    <tr>\n",
              "      <th>3</th>\n",
              "      <td>620318</td>\n",
              "      <td>63-0080-1-00-0-0</td>\n",
              "      <td>เอ็นจีเค สปาร์คปลั๊กส์ (ประเทศไทย)</td>\n",
              "      <td>700/864 หมู่ที่ 1 ต.พานทอง อ.พานทอง ชลบุรี 20160</td>\n",
              "      <td>NaN</td>\n",
              "      <td>NaN</td>\n",
              "      <td>ชลบุรี</td>\n",
              "      <td>[4.8.17]</td>\n",
              "      <td>Temperature Sensor</td>\n",
              "      <td>0</td>\n",
              "      <td>...</td>\n",
              "      <td>0</td>\n",
              "      <td>0</td>\n",
              "      <td>0</td>\n",
              "      <td>0</td>\n",
              "      <td>0</td>\n",
              "      <td>0</td>\n",
              "      <td>0</td>\n",
              "      <td>0</td>\n",
              "      <td>0</td>\n",
              "      <td>0</td>\n",
              "    </tr>\n",
              "    <tr>\n",
              "      <th>4</th>\n",
              "      <td>620185</td>\n",
              "      <td>63-0079-1-00-0-0</td>\n",
              "      <td>เอ็นจีเค สปาร์คปลั๊กส์ (ประเทศไทย)</td>\n",
              "      <td>700/864 หมู่ที่ 1 ต.พานทอง อ.พานทอง ชลบุรี 20160</td>\n",
              "      <td>NaN</td>\n",
              "      <td>NaN</td>\n",
              "      <td>ชลบุรี</td>\n",
              "      <td>[4.8.17]</td>\n",
              "      <td>Oxygen Sensor</td>\n",
              "      <td>2</td>\n",
              "      <td>...</td>\n",
              "      <td>0</td>\n",
              "      <td>0</td>\n",
              "      <td>0</td>\n",
              "      <td>0</td>\n",
              "      <td>0</td>\n",
              "      <td>0</td>\n",
              "      <td>0</td>\n",
              "      <td>0</td>\n",
              "      <td>0</td>\n",
              "      <td>0</td>\n",
              "    </tr>\n",
              "    <tr>\n",
              "      <th>...</th>\n",
              "      <td>...</td>\n",
              "      <td>...</td>\n",
              "      <td>...</td>\n",
              "      <td>...</td>\n",
              "      <td>...</td>\n",
              "      <td>...</td>\n",
              "      <td>...</td>\n",
              "      <td>...</td>\n",
              "      <td>...</td>\n",
              "      <td>...</td>\n",
              "      <td>...</td>\n",
              "      <td>...</td>\n",
              "      <td>...</td>\n",
              "      <td>...</td>\n",
              "      <td>...</td>\n",
              "      <td>...</td>\n",
              "      <td>...</td>\n",
              "      <td>...</td>\n",
              "      <td>...</td>\n",
              "      <td>...</td>\n",
              "      <td>...</td>\n",
              "    </tr>\n",
              "    <tr>\n",
              "      <th>655</th>\n",
              "      <td>E630369</td>\n",
              "      <td>63-0669-1-00-0-0</td>\n",
              "      <td>อีเลคโทรลักซ์ โปรเฟสชั่นแนล (ประเทศไทย)</td>\n",
              "      <td>222 หมู่ที่ 11 ต.หนองละลอก อ.บ้านค่าย ระยอง 21120</td>\n",
              "      <td>NaN</td>\n",
              "      <td>NaN</td>\n",
              "      <td>ระยอง</td>\n",
              "      <td>[7.34]</td>\n",
              "      <td>International Business Center : IBC</td>\n",
              "      <td>6</td>\n",
              "      <td>...</td>\n",
              "      <td>0</td>\n",
              "      <td>0</td>\n",
              "      <td>0</td>\n",
              "      <td>0</td>\n",
              "      <td>0</td>\n",
              "      <td>0</td>\n",
              "      <td>0</td>\n",
              "      <td>0</td>\n",
              "      <td>0</td>\n",
              "      <td>0</td>\n",
              "    </tr>\n",
              "    <tr>\n",
              "      <th>656</th>\n",
              "      <td>E630401</td>\n",
              "      <td>63-0682-1-00-1-0</td>\n",
              "      <td>โกลว์ พลังงาน</td>\n",
              "      <td>60/5 ต.มาบยางพร อ.ปลวกแดง ระยอง 21140</td>\n",
              "      <td>NaN</td>\n",
              "      <td>NaN</td>\n",
              "      <td>ระยอง</td>\n",
              "      <td>[7.1.1.2]</td>\n",
              "      <td>Electricity Power from Solar Rooftop</td>\n",
              "      <td>0</td>\n",
              "      <td>...</td>\n",
              "      <td>0</td>\n",
              "      <td>0</td>\n",
              "      <td>0</td>\n",
              "      <td>0</td>\n",
              "      <td>0</td>\n",
              "      <td>0</td>\n",
              "      <td>0</td>\n",
              "      <td>0</td>\n",
              "      <td>0</td>\n",
              "      <td>0</td>\n",
              "    </tr>\n",
              "    <tr>\n",
              "      <th>657</th>\n",
              "      <td>E630277</td>\n",
              "      <td>63-0666-1-03-1-0</td>\n",
              "      <td>ยูนิค อุตสาหกรรมพลาสติก (แม่สอด)</td>\n",
              "      <td>269/11 หมู่ที่ 15 ต.แม่กาษา อ.แม่สอด ตาก 63110</td>\n",
              "      <td>064-9510202</td>\n",
              "      <td>NaN</td>\n",
              "      <td>ตาก</td>\n",
              "      <td>[6.16]</td>\n",
              "      <td>Plastic Bag</td>\n",
              "      <td>0</td>\n",
              "      <td>...</td>\n",
              "      <td>0</td>\n",
              "      <td>0</td>\n",
              "      <td>0</td>\n",
              "      <td>0</td>\n",
              "      <td>0</td>\n",
              "      <td>0</td>\n",
              "      <td>0</td>\n",
              "      <td>0</td>\n",
              "      <td>0</td>\n",
              "      <td>0</td>\n",
              "    </tr>\n",
              "    <tr>\n",
              "      <th>658</th>\n",
              "      <td>610552</td>\n",
              "      <td>63-0676-1-00-1-0</td>\n",
              "      <td>ไอชิน เอไอ (ประเทศไทย)</td>\n",
              "      <td>80 หมู่ที่ 5 ถนนบางนา-ตราด ต.บางสมัคร อ.บางปะก...</td>\n",
              "      <td>038-570062</td>\n",
              "      <td>038-570067</td>\n",
              "      <td>ฉะเชิงเทรา</td>\n",
              "      <td>[4.8.6.6]</td>\n",
              "      <td>Drive Shaft</td>\n",
              "      <td>0</td>\n",
              "      <td>...</td>\n",
              "      <td>0</td>\n",
              "      <td>0</td>\n",
              "      <td>0</td>\n",
              "      <td>0</td>\n",
              "      <td>0</td>\n",
              "      <td>0</td>\n",
              "      <td>0</td>\n",
              "      <td>0</td>\n",
              "      <td>0</td>\n",
              "      <td>0</td>\n",
              "    </tr>\n",
              "    <tr>\n",
              "      <th>659</th>\n",
              "      <td>E630269</td>\n",
              "      <td>63-0668-1-00-1-0</td>\n",
              "      <td>เอ็มเอ็มซี อีเล็คโทรนิคส์ (ไทยแลนด์)</td>\n",
              "      <td>129/2 หมู่ที่ 17 ถนนเทพรัตน ต.บางเสาธง อ.บางเส...</td>\n",
              "      <td>02-3152273-4</td>\n",
              "      <td>NaN</td>\n",
              "      <td>สมุทรปราการ</td>\n",
              "      <td>[5.4.3.2]</td>\n",
              "      <td>Multiband Antenna</td>\n",
              "      <td>0</td>\n",
              "      <td>...</td>\n",
              "      <td>0</td>\n",
              "      <td>0</td>\n",
              "      <td>0</td>\n",
              "      <td>0</td>\n",
              "      <td>0</td>\n",
              "      <td>0</td>\n",
              "      <td>0</td>\n",
              "      <td>0</td>\n",
              "      <td>0</td>\n",
              "      <td>0</td>\n",
              "    </tr>\n",
              "  </tbody>\n",
              "</table>\n",
              "<p>660 rows × 165 columns</p>\n",
              "</div>\n",
              "    <div class=\"colab-df-buttons\">\n",
              "\n",
              "  <div class=\"colab-df-container\">\n",
              "    <button class=\"colab-df-convert\" onclick=\"convertToInteractive('df-37d83019-4907-4fae-9d4c-94b983387e4a')\"\n",
              "            title=\"Convert this dataframe to an interactive table.\"\n",
              "            style=\"display:none;\">\n",
              "\n",
              "  <svg xmlns=\"http://www.w3.org/2000/svg\" height=\"24px\" viewBox=\"0 -960 960 960\">\n",
              "    <path d=\"M120-120v-720h720v720H120Zm60-500h600v-160H180v160Zm220 220h160v-160H400v160Zm0 220h160v-160H400v160ZM180-400h160v-160H180v160Zm440 0h160v-160H620v160ZM180-180h160v-160H180v160Zm440 0h160v-160H620v160Z\"/>\n",
              "  </svg>\n",
              "    </button>\n",
              "\n",
              "  <style>\n",
              "    .colab-df-container {\n",
              "      display:flex;\n",
              "      gap: 12px;\n",
              "    }\n",
              "\n",
              "    .colab-df-convert {\n",
              "      background-color: #E8F0FE;\n",
              "      border: none;\n",
              "      border-radius: 50%;\n",
              "      cursor: pointer;\n",
              "      display: none;\n",
              "      fill: #1967D2;\n",
              "      height: 32px;\n",
              "      padding: 0 0 0 0;\n",
              "      width: 32px;\n",
              "    }\n",
              "\n",
              "    .colab-df-convert:hover {\n",
              "      background-color: #E2EBFA;\n",
              "      box-shadow: 0px 1px 2px rgba(60, 64, 67, 0.3), 0px 1px 3px 1px rgba(60, 64, 67, 0.15);\n",
              "      fill: #174EA6;\n",
              "    }\n",
              "\n",
              "    .colab-df-buttons div {\n",
              "      margin-bottom: 4px;\n",
              "    }\n",
              "\n",
              "    [theme=dark] .colab-df-convert {\n",
              "      background-color: #3B4455;\n",
              "      fill: #D2E3FC;\n",
              "    }\n",
              "\n",
              "    [theme=dark] .colab-df-convert:hover {\n",
              "      background-color: #434B5C;\n",
              "      box-shadow: 0px 1px 3px 1px rgba(0, 0, 0, 0.15);\n",
              "      filter: drop-shadow(0px 1px 2px rgba(0, 0, 0, 0.3));\n",
              "      fill: #FFFFFF;\n",
              "    }\n",
              "  </style>\n",
              "\n",
              "    <script>\n",
              "      const buttonEl =\n",
              "        document.querySelector('#df-37d83019-4907-4fae-9d4c-94b983387e4a button.colab-df-convert');\n",
              "      buttonEl.style.display =\n",
              "        google.colab.kernel.accessAllowed ? 'block' : 'none';\n",
              "\n",
              "      async function convertToInteractive(key) {\n",
              "        const element = document.querySelector('#df-37d83019-4907-4fae-9d4c-94b983387e4a');\n",
              "        const dataTable =\n",
              "          await google.colab.kernel.invokeFunction('convertToInteractive',\n",
              "                                                    [key], {});\n",
              "        if (!dataTable) return;\n",
              "\n",
              "        const docLinkHtml = 'Like what you see? Visit the ' +\n",
              "          '<a target=\"_blank\" href=https://colab.research.google.com/notebooks/data_table.ipynb>data table notebook</a>'\n",
              "          + ' to learn more about interactive tables.';\n",
              "        element.innerHTML = '';\n",
              "        dataTable['output_type'] = 'display_data';\n",
              "        await google.colab.output.renderOutput(dataTable, element);\n",
              "        const docLink = document.createElement('div');\n",
              "        docLink.innerHTML = docLinkHtml;\n",
              "        element.appendChild(docLink);\n",
              "      }\n",
              "    </script>\n",
              "  </div>\n",
              "\n",
              "\n",
              "<div id=\"df-95bfb319-e89f-452d-adcd-975d7c01557d\">\n",
              "  <button class=\"colab-df-quickchart\" onclick=\"quickchart('df-95bfb319-e89f-452d-adcd-975d7c01557d')\"\n",
              "            title=\"Suggest charts\"\n",
              "            style=\"display:none;\">\n",
              "\n",
              "<svg xmlns=\"http://www.w3.org/2000/svg\" height=\"24px\"viewBox=\"0 0 24 24\"\n",
              "     width=\"24px\">\n",
              "    <g>\n",
              "        <path d=\"M19 3H5c-1.1 0-2 .9-2 2v14c0 1.1.9 2 2 2h14c1.1 0 2-.9 2-2V5c0-1.1-.9-2-2-2zM9 17H7v-7h2v7zm4 0h-2V7h2v10zm4 0h-2v-4h2v4z\"/>\n",
              "    </g>\n",
              "</svg>\n",
              "  </button>\n",
              "\n",
              "<style>\n",
              "  .colab-df-quickchart {\n",
              "      --bg-color: #E8F0FE;\n",
              "      --fill-color: #1967D2;\n",
              "      --hover-bg-color: #E2EBFA;\n",
              "      --hover-fill-color: #174EA6;\n",
              "      --disabled-fill-color: #AAA;\n",
              "      --disabled-bg-color: #DDD;\n",
              "  }\n",
              "\n",
              "  [theme=dark] .colab-df-quickchart {\n",
              "      --bg-color: #3B4455;\n",
              "      --fill-color: #D2E3FC;\n",
              "      --hover-bg-color: #434B5C;\n",
              "      --hover-fill-color: #FFFFFF;\n",
              "      --disabled-bg-color: #3B4455;\n",
              "      --disabled-fill-color: #666;\n",
              "  }\n",
              "\n",
              "  .colab-df-quickchart {\n",
              "    background-color: var(--bg-color);\n",
              "    border: none;\n",
              "    border-radius: 50%;\n",
              "    cursor: pointer;\n",
              "    display: none;\n",
              "    fill: var(--fill-color);\n",
              "    height: 32px;\n",
              "    padding: 0;\n",
              "    width: 32px;\n",
              "  }\n",
              "\n",
              "  .colab-df-quickchart:hover {\n",
              "    background-color: var(--hover-bg-color);\n",
              "    box-shadow: 0 1px 2px rgba(60, 64, 67, 0.3), 0 1px 3px 1px rgba(60, 64, 67, 0.15);\n",
              "    fill: var(--button-hover-fill-color);\n",
              "  }\n",
              "\n",
              "  .colab-df-quickchart-complete:disabled,\n",
              "  .colab-df-quickchart-complete:disabled:hover {\n",
              "    background-color: var(--disabled-bg-color);\n",
              "    fill: var(--disabled-fill-color);\n",
              "    box-shadow: none;\n",
              "  }\n",
              "\n",
              "  .colab-df-spinner {\n",
              "    border: 2px solid var(--fill-color);\n",
              "    border-color: transparent;\n",
              "    border-bottom-color: var(--fill-color);\n",
              "    animation:\n",
              "      spin 1s steps(1) infinite;\n",
              "  }\n",
              "\n",
              "  @keyframes spin {\n",
              "    0% {\n",
              "      border-color: transparent;\n",
              "      border-bottom-color: var(--fill-color);\n",
              "      border-left-color: var(--fill-color);\n",
              "    }\n",
              "    20% {\n",
              "      border-color: transparent;\n",
              "      border-left-color: var(--fill-color);\n",
              "      border-top-color: var(--fill-color);\n",
              "    }\n",
              "    30% {\n",
              "      border-color: transparent;\n",
              "      border-left-color: var(--fill-color);\n",
              "      border-top-color: var(--fill-color);\n",
              "      border-right-color: var(--fill-color);\n",
              "    }\n",
              "    40% {\n",
              "      border-color: transparent;\n",
              "      border-right-color: var(--fill-color);\n",
              "      border-top-color: var(--fill-color);\n",
              "    }\n",
              "    60% {\n",
              "      border-color: transparent;\n",
              "      border-right-color: var(--fill-color);\n",
              "    }\n",
              "    80% {\n",
              "      border-color: transparent;\n",
              "      border-right-color: var(--fill-color);\n",
              "      border-bottom-color: var(--fill-color);\n",
              "    }\n",
              "    90% {\n",
              "      border-color: transparent;\n",
              "      border-bottom-color: var(--fill-color);\n",
              "    }\n",
              "  }\n",
              "</style>\n",
              "\n",
              "  <script>\n",
              "    async function quickchart(key) {\n",
              "      const quickchartButtonEl =\n",
              "        document.querySelector('#' + key + ' button');\n",
              "      quickchartButtonEl.disabled = true;  // To prevent multiple clicks.\n",
              "      quickchartButtonEl.classList.add('colab-df-spinner');\n",
              "      try {\n",
              "        const charts = await google.colab.kernel.invokeFunction(\n",
              "            'suggestCharts', [key], {});\n",
              "      } catch (error) {\n",
              "        console.error('Error during call to suggestCharts:', error);\n",
              "      }\n",
              "      quickchartButtonEl.classList.remove('colab-df-spinner');\n",
              "      quickchartButtonEl.classList.add('colab-df-quickchart-complete');\n",
              "    }\n",
              "    (() => {\n",
              "      let quickchartButtonEl =\n",
              "        document.querySelector('#df-95bfb319-e89f-452d-adcd-975d7c01557d button');\n",
              "      quickchartButtonEl.style.display =\n",
              "        google.colab.kernel.accessAllowed ? 'block' : 'none';\n",
              "    })();\n",
              "  </script>\n",
              "</div>\n",
              "    </div>\n",
              "  </div>\n"
            ]
          },
          "metadata": {},
          "execution_count": 2
        }
      ]
    },
    {
      "cell_type": "markdown",
      "source": [
        "##Load excel from Gsheet"
      ],
      "metadata": {
        "id": "XbXpU6zwGDL9"
      }
    },
    {
      "cell_type": "code",
      "source": [
        "#gsheet\n",
        "from google.colab import auth\n",
        "auth.authenticate_user()\n",
        "\n",
        "import gspread\n",
        "from google.auth import default\n",
        "creds, _ = default()\n",
        "gc = gspread.authorize(creds)"
      ],
      "metadata": {
        "id": "XLj2MqArHBys"
      },
      "execution_count": null,
      "outputs": []
    },
    {
      "cell_type": "code",
      "source": [
        "gsht = gc.open_by_key('1u8ZknYU6REgk4iUjZImcv2gdQ2GToCZGAtlcb2KRBVk')"
      ],
      "metadata": {
        "id": "8iWTqViBHahA"
      },
      "execution_count": null,
      "outputs": []
    },
    {
      "cell_type": "code",
      "source": [
        "worksheet2 = gsht.worksheet(\"มิ.ย. 2563\")\n",
        "rows = worksheet2.get_all_values()\n",
        "data_from_gsheets = pd.DataFrame.from_records(rows)"
      ],
      "metadata": {
        "id": "2u0_mOAxKU2P"
      },
      "execution_count": null,
      "outputs": []
    },
    {
      "cell_type": "code",
      "source": [
        "data_from_gsheets.colums = data_from_gsheets.iloc[2] #set header\n",
        "data_from_gsheets = data_from_gsheets.iloc[2:].reset_index().iloc[:1] # skip rows\n",
        "data_from_gsheets.head()"
      ],
      "metadata": {
        "id": "vnGFUesBKGVn",
        "outputId": "8090ec6e-1ba4-49e2-a0c2-6d8c1ebea75e",
        "colab": {
          "base_uri": "https://localhost:8080/",
          "height": 217
        }
      },
      "execution_count": null,
      "outputs": [
        {
          "output_type": "stream",
          "name": "stderr",
          "text": [
            "<ipython-input-6-3e57e8dac28b>:1: UserWarning: Pandas doesn't allow columns to be created via a new attribute name - see https://pandas.pydata.org/pandas-docs/stable/indexing.html#attribute-access\n",
            "  data_from_gsheets.colums = data_from_gsheets.iloc[2] #set header\n"
          ]
        },
        {
          "output_type": "execute_result",
          "data": {
            "text/plain": [
              "   index           0                   1                  2  \\\n",
              "0      2  เลขที่คำขอ  เลขที่บัตรส่งเสริม  ชื่อบริษัทภาษาไทย   \n",
              "\n",
              "                   3              4            5        6             7  \\\n",
              "0  สถานที่ตั้งโรงงาน  เบอร์โทรศัพท์  เบอร์โทรสาร  จังหวัด  ประเภทกิจการ   \n",
              "\n",
              "               8  ...          155            156            157  \\\n",
              "0  ชื่อผลิตภัณฑ์  ...  สาขาการตลาด  สาขาการจัดการ  สาขาเลขานุการ   \n",
              "\n",
              "                     158                   159                       160  \\\n",
              "0  สาขาคอมพิวเตอร์ธุรกิจ  สาขาการเงินการธนาคาร  สาขาพัฒนาชุมชน-การสหกรณ์   \n",
              "\n",
              "         161                          162             163  \\\n",
              "0  พาณิชยการ  สาขาอุตสาหกรรมการท่องเที่ยว  สาขาศิลปศาสตร์   \n",
              "\n",
              "                            164  \n",
              "0  อาชีวศึกษาบริหารธุรกิจ อื่นๆ  \n",
              "\n",
              "[1 rows x 166 columns]"
            ],
            "text/html": [
              "\n",
              "  <div id=\"df-77c1f790-f048-42be-bb72-5ce64fc36f2d\" class=\"colab-df-container\">\n",
              "    <div>\n",
              "<style scoped>\n",
              "    .dataframe tbody tr th:only-of-type {\n",
              "        vertical-align: middle;\n",
              "    }\n",
              "\n",
              "    .dataframe tbody tr th {\n",
              "        vertical-align: top;\n",
              "    }\n",
              "\n",
              "    .dataframe thead th {\n",
              "        text-align: right;\n",
              "    }\n",
              "</style>\n",
              "<table border=\"1\" class=\"dataframe\">\n",
              "  <thead>\n",
              "    <tr style=\"text-align: right;\">\n",
              "      <th></th>\n",
              "      <th>index</th>\n",
              "      <th>0</th>\n",
              "      <th>1</th>\n",
              "      <th>2</th>\n",
              "      <th>3</th>\n",
              "      <th>4</th>\n",
              "      <th>5</th>\n",
              "      <th>6</th>\n",
              "      <th>7</th>\n",
              "      <th>8</th>\n",
              "      <th>...</th>\n",
              "      <th>155</th>\n",
              "      <th>156</th>\n",
              "      <th>157</th>\n",
              "      <th>158</th>\n",
              "      <th>159</th>\n",
              "      <th>160</th>\n",
              "      <th>161</th>\n",
              "      <th>162</th>\n",
              "      <th>163</th>\n",
              "      <th>164</th>\n",
              "    </tr>\n",
              "  </thead>\n",
              "  <tbody>\n",
              "    <tr>\n",
              "      <th>0</th>\n",
              "      <td>2</td>\n",
              "      <td>เลขที่คำขอ</td>\n",
              "      <td>เลขที่บัตรส่งเสริม</td>\n",
              "      <td>ชื่อบริษัทภาษาไทย</td>\n",
              "      <td>สถานที่ตั้งโรงงาน</td>\n",
              "      <td>เบอร์โทรศัพท์</td>\n",
              "      <td>เบอร์โทรสาร</td>\n",
              "      <td>จังหวัด</td>\n",
              "      <td>ประเภทกิจการ</td>\n",
              "      <td>ชื่อผลิตภัณฑ์</td>\n",
              "      <td>...</td>\n",
              "      <td>สาขาการตลาด</td>\n",
              "      <td>สาขาการจัดการ</td>\n",
              "      <td>สาขาเลขานุการ</td>\n",
              "      <td>สาขาคอมพิวเตอร์ธุรกิจ</td>\n",
              "      <td>สาขาการเงินการธนาคาร</td>\n",
              "      <td>สาขาพัฒนาชุมชน-การสหกรณ์</td>\n",
              "      <td>พาณิชยการ</td>\n",
              "      <td>สาขาอุตสาหกรรมการท่องเที่ยว</td>\n",
              "      <td>สาขาศิลปศาสตร์</td>\n",
              "      <td>อาชีวศึกษาบริหารธุรกิจ อื่นๆ</td>\n",
              "    </tr>\n",
              "  </tbody>\n",
              "</table>\n",
              "<p>1 rows × 166 columns</p>\n",
              "</div>\n",
              "    <div class=\"colab-df-buttons\">\n",
              "\n",
              "  <div class=\"colab-df-container\">\n",
              "    <button class=\"colab-df-convert\" onclick=\"convertToInteractive('df-77c1f790-f048-42be-bb72-5ce64fc36f2d')\"\n",
              "            title=\"Convert this dataframe to an interactive table.\"\n",
              "            style=\"display:none;\">\n",
              "\n",
              "  <svg xmlns=\"http://www.w3.org/2000/svg\" height=\"24px\" viewBox=\"0 -960 960 960\">\n",
              "    <path d=\"M120-120v-720h720v720H120Zm60-500h600v-160H180v160Zm220 220h160v-160H400v160Zm0 220h160v-160H400v160ZM180-400h160v-160H180v160Zm440 0h160v-160H620v160ZM180-180h160v-160H180v160Zm440 0h160v-160H620v160Z\"/>\n",
              "  </svg>\n",
              "    </button>\n",
              "\n",
              "  <style>\n",
              "    .colab-df-container {\n",
              "      display:flex;\n",
              "      gap: 12px;\n",
              "    }\n",
              "\n",
              "    .colab-df-convert {\n",
              "      background-color: #E8F0FE;\n",
              "      border: none;\n",
              "      border-radius: 50%;\n",
              "      cursor: pointer;\n",
              "      display: none;\n",
              "      fill: #1967D2;\n",
              "      height: 32px;\n",
              "      padding: 0 0 0 0;\n",
              "      width: 32px;\n",
              "    }\n",
              "\n",
              "    .colab-df-convert:hover {\n",
              "      background-color: #E2EBFA;\n",
              "      box-shadow: 0px 1px 2px rgba(60, 64, 67, 0.3), 0px 1px 3px 1px rgba(60, 64, 67, 0.15);\n",
              "      fill: #174EA6;\n",
              "    }\n",
              "\n",
              "    .colab-df-buttons div {\n",
              "      margin-bottom: 4px;\n",
              "    }\n",
              "\n",
              "    [theme=dark] .colab-df-convert {\n",
              "      background-color: #3B4455;\n",
              "      fill: #D2E3FC;\n",
              "    }\n",
              "\n",
              "    [theme=dark] .colab-df-convert:hover {\n",
              "      background-color: #434B5C;\n",
              "      box-shadow: 0px 1px 3px 1px rgba(0, 0, 0, 0.15);\n",
              "      filter: drop-shadow(0px 1px 2px rgba(0, 0, 0, 0.3));\n",
              "      fill: #FFFFFF;\n",
              "    }\n",
              "  </style>\n",
              "\n",
              "    <script>\n",
              "      const buttonEl =\n",
              "        document.querySelector('#df-77c1f790-f048-42be-bb72-5ce64fc36f2d button.colab-df-convert');\n",
              "      buttonEl.style.display =\n",
              "        google.colab.kernel.accessAllowed ? 'block' : 'none';\n",
              "\n",
              "      async function convertToInteractive(key) {\n",
              "        const element = document.querySelector('#df-77c1f790-f048-42be-bb72-5ce64fc36f2d');\n",
              "        const dataTable =\n",
              "          await google.colab.kernel.invokeFunction('convertToInteractive',\n",
              "                                                    [key], {});\n",
              "        if (!dataTable) return;\n",
              "\n",
              "        const docLinkHtml = 'Like what you see? Visit the ' +\n",
              "          '<a target=\"_blank\" href=https://colab.research.google.com/notebooks/data_table.ipynb>data table notebook</a>'\n",
              "          + ' to learn more about interactive tables.';\n",
              "        element.innerHTML = '';\n",
              "        dataTable['output_type'] = 'display_data';\n",
              "        await google.colab.output.renderOutput(dataTable, element);\n",
              "        const docLink = document.createElement('div');\n",
              "        docLink.innerHTML = docLinkHtml;\n",
              "        element.appendChild(docLink);\n",
              "      }\n",
              "    </script>\n",
              "  </div>\n",
              "\n",
              "    </div>\n",
              "  </div>\n"
            ]
          },
          "metadata": {},
          "execution_count": 6
        }
      ]
    },
    {
      "cell_type": "markdown",
      "source": [
        "##Load csv from Google Drive"
      ],
      "metadata": {
        "id": "my1h5kVG1_Kt"
      }
    },
    {
      "cell_type": "code",
      "source": [
        "shopping_data = pd.read_csv('/content/drive/MyDrive/BSC_DPDM23/customer_shopping_data.csv')"
      ],
      "metadata": {
        "id": "secOYjSi18kN"
      },
      "execution_count": 22,
      "outputs": []
    },
    {
      "cell_type": "code",
      "source": [
        "shopping_data.head()"
      ],
      "metadata": {
        "id": "ogGCK5R02lOB",
        "outputId": "19cc88c9-5cea-4933-8f06-c12c72643aed",
        "colab": {
          "base_uri": "https://localhost:8080/",
          "height": 206
        }
      },
      "execution_count": 23,
      "outputs": [
        {
          "output_type": "execute_result",
          "data": {
            "text/plain": [
              "  invoice_no customer_id  gender  age  category  quantity    price  \\\n",
              "0    I138884     C241288  Female   28  Clothing         5  1500.40   \n",
              "1    I317333     C111565    Male   21     Shoes         3  1800.51   \n",
              "2    I127801     C266599    Male   20  Clothing         1   300.08   \n",
              "3    I173702     C988172  Female   66     Shoes         5  3000.85   \n",
              "4    I337046     C189076  Female   53     Books         4    60.60   \n",
              "\n",
              "  payment_method invoice_date   shopping_mall  \n",
              "0    Credit Card     5/8/2022          Kanyon  \n",
              "1     Debit Card   12/12/2021  Forum Istanbul  \n",
              "2           Cash    9/11/2021       Metrocity  \n",
              "3    Credit Card   16/05/2021    Metropol AVM  \n",
              "4           Cash   24/10/2021          Kanyon  "
            ],
            "text/html": [
              "\n",
              "  <div id=\"df-4a3c65e5-f902-47eb-9e95-4e8d787abd2c\" class=\"colab-df-container\">\n",
              "    <div>\n",
              "<style scoped>\n",
              "    .dataframe tbody tr th:only-of-type {\n",
              "        vertical-align: middle;\n",
              "    }\n",
              "\n",
              "    .dataframe tbody tr th {\n",
              "        vertical-align: top;\n",
              "    }\n",
              "\n",
              "    .dataframe thead th {\n",
              "        text-align: right;\n",
              "    }\n",
              "</style>\n",
              "<table border=\"1\" class=\"dataframe\">\n",
              "  <thead>\n",
              "    <tr style=\"text-align: right;\">\n",
              "      <th></th>\n",
              "      <th>invoice_no</th>\n",
              "      <th>customer_id</th>\n",
              "      <th>gender</th>\n",
              "      <th>age</th>\n",
              "      <th>category</th>\n",
              "      <th>quantity</th>\n",
              "      <th>price</th>\n",
              "      <th>payment_method</th>\n",
              "      <th>invoice_date</th>\n",
              "      <th>shopping_mall</th>\n",
              "    </tr>\n",
              "  </thead>\n",
              "  <tbody>\n",
              "    <tr>\n",
              "      <th>0</th>\n",
              "      <td>I138884</td>\n",
              "      <td>C241288</td>\n",
              "      <td>Female</td>\n",
              "      <td>28</td>\n",
              "      <td>Clothing</td>\n",
              "      <td>5</td>\n",
              "      <td>1500.40</td>\n",
              "      <td>Credit Card</td>\n",
              "      <td>5/8/2022</td>\n",
              "      <td>Kanyon</td>\n",
              "    </tr>\n",
              "    <tr>\n",
              "      <th>1</th>\n",
              "      <td>I317333</td>\n",
              "      <td>C111565</td>\n",
              "      <td>Male</td>\n",
              "      <td>21</td>\n",
              "      <td>Shoes</td>\n",
              "      <td>3</td>\n",
              "      <td>1800.51</td>\n",
              "      <td>Debit Card</td>\n",
              "      <td>12/12/2021</td>\n",
              "      <td>Forum Istanbul</td>\n",
              "    </tr>\n",
              "    <tr>\n",
              "      <th>2</th>\n",
              "      <td>I127801</td>\n",
              "      <td>C266599</td>\n",
              "      <td>Male</td>\n",
              "      <td>20</td>\n",
              "      <td>Clothing</td>\n",
              "      <td>1</td>\n",
              "      <td>300.08</td>\n",
              "      <td>Cash</td>\n",
              "      <td>9/11/2021</td>\n",
              "      <td>Metrocity</td>\n",
              "    </tr>\n",
              "    <tr>\n",
              "      <th>3</th>\n",
              "      <td>I173702</td>\n",
              "      <td>C988172</td>\n",
              "      <td>Female</td>\n",
              "      <td>66</td>\n",
              "      <td>Shoes</td>\n",
              "      <td>5</td>\n",
              "      <td>3000.85</td>\n",
              "      <td>Credit Card</td>\n",
              "      <td>16/05/2021</td>\n",
              "      <td>Metropol AVM</td>\n",
              "    </tr>\n",
              "    <tr>\n",
              "      <th>4</th>\n",
              "      <td>I337046</td>\n",
              "      <td>C189076</td>\n",
              "      <td>Female</td>\n",
              "      <td>53</td>\n",
              "      <td>Books</td>\n",
              "      <td>4</td>\n",
              "      <td>60.60</td>\n",
              "      <td>Cash</td>\n",
              "      <td>24/10/2021</td>\n",
              "      <td>Kanyon</td>\n",
              "    </tr>\n",
              "  </tbody>\n",
              "</table>\n",
              "</div>\n",
              "    <div class=\"colab-df-buttons\">\n",
              "\n",
              "  <div class=\"colab-df-container\">\n",
              "    <button class=\"colab-df-convert\" onclick=\"convertToInteractive('df-4a3c65e5-f902-47eb-9e95-4e8d787abd2c')\"\n",
              "            title=\"Convert this dataframe to an interactive table.\"\n",
              "            style=\"display:none;\">\n",
              "\n",
              "  <svg xmlns=\"http://www.w3.org/2000/svg\" height=\"24px\" viewBox=\"0 -960 960 960\">\n",
              "    <path d=\"M120-120v-720h720v720H120Zm60-500h600v-160H180v160Zm220 220h160v-160H400v160Zm0 220h160v-160H400v160ZM180-400h160v-160H180v160Zm440 0h160v-160H620v160ZM180-180h160v-160H180v160Zm440 0h160v-160H620v160Z\"/>\n",
              "  </svg>\n",
              "    </button>\n",
              "\n",
              "  <style>\n",
              "    .colab-df-container {\n",
              "      display:flex;\n",
              "      gap: 12px;\n",
              "    }\n",
              "\n",
              "    .colab-df-convert {\n",
              "      background-color: #E8F0FE;\n",
              "      border: none;\n",
              "      border-radius: 50%;\n",
              "      cursor: pointer;\n",
              "      display: none;\n",
              "      fill: #1967D2;\n",
              "      height: 32px;\n",
              "      padding: 0 0 0 0;\n",
              "      width: 32px;\n",
              "    }\n",
              "\n",
              "    .colab-df-convert:hover {\n",
              "      background-color: #E2EBFA;\n",
              "      box-shadow: 0px 1px 2px rgba(60, 64, 67, 0.3), 0px 1px 3px 1px rgba(60, 64, 67, 0.15);\n",
              "      fill: #174EA6;\n",
              "    }\n",
              "\n",
              "    .colab-df-buttons div {\n",
              "      margin-bottom: 4px;\n",
              "    }\n",
              "\n",
              "    [theme=dark] .colab-df-convert {\n",
              "      background-color: #3B4455;\n",
              "      fill: #D2E3FC;\n",
              "    }\n",
              "\n",
              "    [theme=dark] .colab-df-convert:hover {\n",
              "      background-color: #434B5C;\n",
              "      box-shadow: 0px 1px 3px 1px rgba(0, 0, 0, 0.15);\n",
              "      filter: drop-shadow(0px 1px 2px rgba(0, 0, 0, 0.3));\n",
              "      fill: #FFFFFF;\n",
              "    }\n",
              "  </style>\n",
              "\n",
              "    <script>\n",
              "      const buttonEl =\n",
              "        document.querySelector('#df-4a3c65e5-f902-47eb-9e95-4e8d787abd2c button.colab-df-convert');\n",
              "      buttonEl.style.display =\n",
              "        google.colab.kernel.accessAllowed ? 'block' : 'none';\n",
              "\n",
              "      async function convertToInteractive(key) {\n",
              "        const element = document.querySelector('#df-4a3c65e5-f902-47eb-9e95-4e8d787abd2c');\n",
              "        const dataTable =\n",
              "          await google.colab.kernel.invokeFunction('convertToInteractive',\n",
              "                                                    [key], {});\n",
              "        if (!dataTable) return;\n",
              "\n",
              "        const docLinkHtml = 'Like what you see? Visit the ' +\n",
              "          '<a target=\"_blank\" href=https://colab.research.google.com/notebooks/data_table.ipynb>data table notebook</a>'\n",
              "          + ' to learn more about interactive tables.';\n",
              "        element.innerHTML = '';\n",
              "        dataTable['output_type'] = 'display_data';\n",
              "        await google.colab.output.renderOutput(dataTable, element);\n",
              "        const docLink = document.createElement('div');\n",
              "        docLink.innerHTML = docLinkHtml;\n",
              "        element.appendChild(docLink);\n",
              "      }\n",
              "    </script>\n",
              "  </div>\n",
              "\n",
              "\n",
              "<div id=\"df-7827a887-fcd5-4bc3-8b38-0707deb248c8\">\n",
              "  <button class=\"colab-df-quickchart\" onclick=\"quickchart('df-7827a887-fcd5-4bc3-8b38-0707deb248c8')\"\n",
              "            title=\"Suggest charts\"\n",
              "            style=\"display:none;\">\n",
              "\n",
              "<svg xmlns=\"http://www.w3.org/2000/svg\" height=\"24px\"viewBox=\"0 0 24 24\"\n",
              "     width=\"24px\">\n",
              "    <g>\n",
              "        <path d=\"M19 3H5c-1.1 0-2 .9-2 2v14c0 1.1.9 2 2 2h14c1.1 0 2-.9 2-2V5c0-1.1-.9-2-2-2zM9 17H7v-7h2v7zm4 0h-2V7h2v10zm4 0h-2v-4h2v4z\"/>\n",
              "    </g>\n",
              "</svg>\n",
              "  </button>\n",
              "\n",
              "<style>\n",
              "  .colab-df-quickchart {\n",
              "      --bg-color: #E8F0FE;\n",
              "      --fill-color: #1967D2;\n",
              "      --hover-bg-color: #E2EBFA;\n",
              "      --hover-fill-color: #174EA6;\n",
              "      --disabled-fill-color: #AAA;\n",
              "      --disabled-bg-color: #DDD;\n",
              "  }\n",
              "\n",
              "  [theme=dark] .colab-df-quickchart {\n",
              "      --bg-color: #3B4455;\n",
              "      --fill-color: #D2E3FC;\n",
              "      --hover-bg-color: #434B5C;\n",
              "      --hover-fill-color: #FFFFFF;\n",
              "      --disabled-bg-color: #3B4455;\n",
              "      --disabled-fill-color: #666;\n",
              "  }\n",
              "\n",
              "  .colab-df-quickchart {\n",
              "    background-color: var(--bg-color);\n",
              "    border: none;\n",
              "    border-radius: 50%;\n",
              "    cursor: pointer;\n",
              "    display: none;\n",
              "    fill: var(--fill-color);\n",
              "    height: 32px;\n",
              "    padding: 0;\n",
              "    width: 32px;\n",
              "  }\n",
              "\n",
              "  .colab-df-quickchart:hover {\n",
              "    background-color: var(--hover-bg-color);\n",
              "    box-shadow: 0 1px 2px rgba(60, 64, 67, 0.3), 0 1px 3px 1px rgba(60, 64, 67, 0.15);\n",
              "    fill: var(--button-hover-fill-color);\n",
              "  }\n",
              "\n",
              "  .colab-df-quickchart-complete:disabled,\n",
              "  .colab-df-quickchart-complete:disabled:hover {\n",
              "    background-color: var(--disabled-bg-color);\n",
              "    fill: var(--disabled-fill-color);\n",
              "    box-shadow: none;\n",
              "  }\n",
              "\n",
              "  .colab-df-spinner {\n",
              "    border: 2px solid var(--fill-color);\n",
              "    border-color: transparent;\n",
              "    border-bottom-color: var(--fill-color);\n",
              "    animation:\n",
              "      spin 1s steps(1) infinite;\n",
              "  }\n",
              "\n",
              "  @keyframes spin {\n",
              "    0% {\n",
              "      border-color: transparent;\n",
              "      border-bottom-color: var(--fill-color);\n",
              "      border-left-color: var(--fill-color);\n",
              "    }\n",
              "    20% {\n",
              "      border-color: transparent;\n",
              "      border-left-color: var(--fill-color);\n",
              "      border-top-color: var(--fill-color);\n",
              "    }\n",
              "    30% {\n",
              "      border-color: transparent;\n",
              "      border-left-color: var(--fill-color);\n",
              "      border-top-color: var(--fill-color);\n",
              "      border-right-color: var(--fill-color);\n",
              "    }\n",
              "    40% {\n",
              "      border-color: transparent;\n",
              "      border-right-color: var(--fill-color);\n",
              "      border-top-color: var(--fill-color);\n",
              "    }\n",
              "    60% {\n",
              "      border-color: transparent;\n",
              "      border-right-color: var(--fill-color);\n",
              "    }\n",
              "    80% {\n",
              "      border-color: transparent;\n",
              "      border-right-color: var(--fill-color);\n",
              "      border-bottom-color: var(--fill-color);\n",
              "    }\n",
              "    90% {\n",
              "      border-color: transparent;\n",
              "      border-bottom-color: var(--fill-color);\n",
              "    }\n",
              "  }\n",
              "</style>\n",
              "\n",
              "  <script>\n",
              "    async function quickchart(key) {\n",
              "      const quickchartButtonEl =\n",
              "        document.querySelector('#' + key + ' button');\n",
              "      quickchartButtonEl.disabled = true;  // To prevent multiple clicks.\n",
              "      quickchartButtonEl.classList.add('colab-df-spinner');\n",
              "      try {\n",
              "        const charts = await google.colab.kernel.invokeFunction(\n",
              "            'suggestCharts', [key], {});\n",
              "      } catch (error) {\n",
              "        console.error('Error during call to suggestCharts:', error);\n",
              "      }\n",
              "      quickchartButtonEl.classList.remove('colab-df-spinner');\n",
              "      quickchartButtonEl.classList.add('colab-df-quickchart-complete');\n",
              "    }\n",
              "    (() => {\n",
              "      let quickchartButtonEl =\n",
              "        document.querySelector('#df-7827a887-fcd5-4bc3-8b38-0707deb248c8 button');\n",
              "      quickchartButtonEl.style.display =\n",
              "        google.colab.kernel.accessAllowed ? 'block' : 'none';\n",
              "    })();\n",
              "  </script>\n",
              "</div>\n",
              "    </div>\n",
              "  </div>\n"
            ]
          },
          "metadata": {},
          "execution_count": 23
        }
      ]
    },
    {
      "cell_type": "markdown",
      "source": [
        "#Basic stat"
      ],
      "metadata": {
        "id": "iLXsKv46B1-h"
      }
    },
    {
      "cell_type": "code",
      "source": [
        "shopping_data.describe()"
      ],
      "metadata": {
        "id": "q6tBMZbTLFhi",
        "outputId": "f488f0f3-d03e-4c88-ae0c-b2fa7193eced",
        "colab": {
          "base_uri": "https://localhost:8080/",
          "height": 300
        }
      },
      "execution_count": 24,
      "outputs": [
        {
          "output_type": "execute_result",
          "data": {
            "text/plain": [
              "                age      quantity         price\n",
              "count  99457.000000  99457.000000  99457.000000\n",
              "mean      43.427089      3.003429    689.256321\n",
              "std       14.990054      1.413025    941.184567\n",
              "min       18.000000      1.000000      5.230000\n",
              "25%       30.000000      2.000000     45.450000\n",
              "50%       43.000000      3.000000    203.300000\n",
              "75%       56.000000      4.000000   1200.320000\n",
              "max       69.000000      5.000000   5250.000000"
            ],
            "text/html": [
              "\n",
              "  <div id=\"df-ddeec6d8-2414-4e25-97ba-5ce335ac37c4\" class=\"colab-df-container\">\n",
              "    <div>\n",
              "<style scoped>\n",
              "    .dataframe tbody tr th:only-of-type {\n",
              "        vertical-align: middle;\n",
              "    }\n",
              "\n",
              "    .dataframe tbody tr th {\n",
              "        vertical-align: top;\n",
              "    }\n",
              "\n",
              "    .dataframe thead th {\n",
              "        text-align: right;\n",
              "    }\n",
              "</style>\n",
              "<table border=\"1\" class=\"dataframe\">\n",
              "  <thead>\n",
              "    <tr style=\"text-align: right;\">\n",
              "      <th></th>\n",
              "      <th>age</th>\n",
              "      <th>quantity</th>\n",
              "      <th>price</th>\n",
              "    </tr>\n",
              "  </thead>\n",
              "  <tbody>\n",
              "    <tr>\n",
              "      <th>count</th>\n",
              "      <td>99457.000000</td>\n",
              "      <td>99457.000000</td>\n",
              "      <td>99457.000000</td>\n",
              "    </tr>\n",
              "    <tr>\n",
              "      <th>mean</th>\n",
              "      <td>43.427089</td>\n",
              "      <td>3.003429</td>\n",
              "      <td>689.256321</td>\n",
              "    </tr>\n",
              "    <tr>\n",
              "      <th>std</th>\n",
              "      <td>14.990054</td>\n",
              "      <td>1.413025</td>\n",
              "      <td>941.184567</td>\n",
              "    </tr>\n",
              "    <tr>\n",
              "      <th>min</th>\n",
              "      <td>18.000000</td>\n",
              "      <td>1.000000</td>\n",
              "      <td>5.230000</td>\n",
              "    </tr>\n",
              "    <tr>\n",
              "      <th>25%</th>\n",
              "      <td>30.000000</td>\n",
              "      <td>2.000000</td>\n",
              "      <td>45.450000</td>\n",
              "    </tr>\n",
              "    <tr>\n",
              "      <th>50%</th>\n",
              "      <td>43.000000</td>\n",
              "      <td>3.000000</td>\n",
              "      <td>203.300000</td>\n",
              "    </tr>\n",
              "    <tr>\n",
              "      <th>75%</th>\n",
              "      <td>56.000000</td>\n",
              "      <td>4.000000</td>\n",
              "      <td>1200.320000</td>\n",
              "    </tr>\n",
              "    <tr>\n",
              "      <th>max</th>\n",
              "      <td>69.000000</td>\n",
              "      <td>5.000000</td>\n",
              "      <td>5250.000000</td>\n",
              "    </tr>\n",
              "  </tbody>\n",
              "</table>\n",
              "</div>\n",
              "    <div class=\"colab-df-buttons\">\n",
              "\n",
              "  <div class=\"colab-df-container\">\n",
              "    <button class=\"colab-df-convert\" onclick=\"convertToInteractive('df-ddeec6d8-2414-4e25-97ba-5ce335ac37c4')\"\n",
              "            title=\"Convert this dataframe to an interactive table.\"\n",
              "            style=\"display:none;\">\n",
              "\n",
              "  <svg xmlns=\"http://www.w3.org/2000/svg\" height=\"24px\" viewBox=\"0 -960 960 960\">\n",
              "    <path d=\"M120-120v-720h720v720H120Zm60-500h600v-160H180v160Zm220 220h160v-160H400v160Zm0 220h160v-160H400v160ZM180-400h160v-160H180v160Zm440 0h160v-160H620v160ZM180-180h160v-160H180v160Zm440 0h160v-160H620v160Z\"/>\n",
              "  </svg>\n",
              "    </button>\n",
              "\n",
              "  <style>\n",
              "    .colab-df-container {\n",
              "      display:flex;\n",
              "      gap: 12px;\n",
              "    }\n",
              "\n",
              "    .colab-df-convert {\n",
              "      background-color: #E8F0FE;\n",
              "      border: none;\n",
              "      border-radius: 50%;\n",
              "      cursor: pointer;\n",
              "      display: none;\n",
              "      fill: #1967D2;\n",
              "      height: 32px;\n",
              "      padding: 0 0 0 0;\n",
              "      width: 32px;\n",
              "    }\n",
              "\n",
              "    .colab-df-convert:hover {\n",
              "      background-color: #E2EBFA;\n",
              "      box-shadow: 0px 1px 2px rgba(60, 64, 67, 0.3), 0px 1px 3px 1px rgba(60, 64, 67, 0.15);\n",
              "      fill: #174EA6;\n",
              "    }\n",
              "\n",
              "    .colab-df-buttons div {\n",
              "      margin-bottom: 4px;\n",
              "    }\n",
              "\n",
              "    [theme=dark] .colab-df-convert {\n",
              "      background-color: #3B4455;\n",
              "      fill: #D2E3FC;\n",
              "    }\n",
              "\n",
              "    [theme=dark] .colab-df-convert:hover {\n",
              "      background-color: #434B5C;\n",
              "      box-shadow: 0px 1px 3px 1px rgba(0, 0, 0, 0.15);\n",
              "      filter: drop-shadow(0px 1px 2px rgba(0, 0, 0, 0.3));\n",
              "      fill: #FFFFFF;\n",
              "    }\n",
              "  </style>\n",
              "\n",
              "    <script>\n",
              "      const buttonEl =\n",
              "        document.querySelector('#df-ddeec6d8-2414-4e25-97ba-5ce335ac37c4 button.colab-df-convert');\n",
              "      buttonEl.style.display =\n",
              "        google.colab.kernel.accessAllowed ? 'block' : 'none';\n",
              "\n",
              "      async function convertToInteractive(key) {\n",
              "        const element = document.querySelector('#df-ddeec6d8-2414-4e25-97ba-5ce335ac37c4');\n",
              "        const dataTable =\n",
              "          await google.colab.kernel.invokeFunction('convertToInteractive',\n",
              "                                                    [key], {});\n",
              "        if (!dataTable) return;\n",
              "\n",
              "        const docLinkHtml = 'Like what you see? Visit the ' +\n",
              "          '<a target=\"_blank\" href=https://colab.research.google.com/notebooks/data_table.ipynb>data table notebook</a>'\n",
              "          + ' to learn more about interactive tables.';\n",
              "        element.innerHTML = '';\n",
              "        dataTable['output_type'] = 'display_data';\n",
              "        await google.colab.output.renderOutput(dataTable, element);\n",
              "        const docLink = document.createElement('div');\n",
              "        docLink.innerHTML = docLinkHtml;\n",
              "        element.appendChild(docLink);\n",
              "      }\n",
              "    </script>\n",
              "  </div>\n",
              "\n",
              "\n",
              "<div id=\"df-1f6c1a83-e402-4e2a-8f2a-aa406e7a19f0\">\n",
              "  <button class=\"colab-df-quickchart\" onclick=\"quickchart('df-1f6c1a83-e402-4e2a-8f2a-aa406e7a19f0')\"\n",
              "            title=\"Suggest charts\"\n",
              "            style=\"display:none;\">\n",
              "\n",
              "<svg xmlns=\"http://www.w3.org/2000/svg\" height=\"24px\"viewBox=\"0 0 24 24\"\n",
              "     width=\"24px\">\n",
              "    <g>\n",
              "        <path d=\"M19 3H5c-1.1 0-2 .9-2 2v14c0 1.1.9 2 2 2h14c1.1 0 2-.9 2-2V5c0-1.1-.9-2-2-2zM9 17H7v-7h2v7zm4 0h-2V7h2v10zm4 0h-2v-4h2v4z\"/>\n",
              "    </g>\n",
              "</svg>\n",
              "  </button>\n",
              "\n",
              "<style>\n",
              "  .colab-df-quickchart {\n",
              "      --bg-color: #E8F0FE;\n",
              "      --fill-color: #1967D2;\n",
              "      --hover-bg-color: #E2EBFA;\n",
              "      --hover-fill-color: #174EA6;\n",
              "      --disabled-fill-color: #AAA;\n",
              "      --disabled-bg-color: #DDD;\n",
              "  }\n",
              "\n",
              "  [theme=dark] .colab-df-quickchart {\n",
              "      --bg-color: #3B4455;\n",
              "      --fill-color: #D2E3FC;\n",
              "      --hover-bg-color: #434B5C;\n",
              "      --hover-fill-color: #FFFFFF;\n",
              "      --disabled-bg-color: #3B4455;\n",
              "      --disabled-fill-color: #666;\n",
              "  }\n",
              "\n",
              "  .colab-df-quickchart {\n",
              "    background-color: var(--bg-color);\n",
              "    border: none;\n",
              "    border-radius: 50%;\n",
              "    cursor: pointer;\n",
              "    display: none;\n",
              "    fill: var(--fill-color);\n",
              "    height: 32px;\n",
              "    padding: 0;\n",
              "    width: 32px;\n",
              "  }\n",
              "\n",
              "  .colab-df-quickchart:hover {\n",
              "    background-color: var(--hover-bg-color);\n",
              "    box-shadow: 0 1px 2px rgba(60, 64, 67, 0.3), 0 1px 3px 1px rgba(60, 64, 67, 0.15);\n",
              "    fill: var(--button-hover-fill-color);\n",
              "  }\n",
              "\n",
              "  .colab-df-quickchart-complete:disabled,\n",
              "  .colab-df-quickchart-complete:disabled:hover {\n",
              "    background-color: var(--disabled-bg-color);\n",
              "    fill: var(--disabled-fill-color);\n",
              "    box-shadow: none;\n",
              "  }\n",
              "\n",
              "  .colab-df-spinner {\n",
              "    border: 2px solid var(--fill-color);\n",
              "    border-color: transparent;\n",
              "    border-bottom-color: var(--fill-color);\n",
              "    animation:\n",
              "      spin 1s steps(1) infinite;\n",
              "  }\n",
              "\n",
              "  @keyframes spin {\n",
              "    0% {\n",
              "      border-color: transparent;\n",
              "      border-bottom-color: var(--fill-color);\n",
              "      border-left-color: var(--fill-color);\n",
              "    }\n",
              "    20% {\n",
              "      border-color: transparent;\n",
              "      border-left-color: var(--fill-color);\n",
              "      border-top-color: var(--fill-color);\n",
              "    }\n",
              "    30% {\n",
              "      border-color: transparent;\n",
              "      border-left-color: var(--fill-color);\n",
              "      border-top-color: var(--fill-color);\n",
              "      border-right-color: var(--fill-color);\n",
              "    }\n",
              "    40% {\n",
              "      border-color: transparent;\n",
              "      border-right-color: var(--fill-color);\n",
              "      border-top-color: var(--fill-color);\n",
              "    }\n",
              "    60% {\n",
              "      border-color: transparent;\n",
              "      border-right-color: var(--fill-color);\n",
              "    }\n",
              "    80% {\n",
              "      border-color: transparent;\n",
              "      border-right-color: var(--fill-color);\n",
              "      border-bottom-color: var(--fill-color);\n",
              "    }\n",
              "    90% {\n",
              "      border-color: transparent;\n",
              "      border-bottom-color: var(--fill-color);\n",
              "    }\n",
              "  }\n",
              "</style>\n",
              "\n",
              "  <script>\n",
              "    async function quickchart(key) {\n",
              "      const quickchartButtonEl =\n",
              "        document.querySelector('#' + key + ' button');\n",
              "      quickchartButtonEl.disabled = true;  // To prevent multiple clicks.\n",
              "      quickchartButtonEl.classList.add('colab-df-spinner');\n",
              "      try {\n",
              "        const charts = await google.colab.kernel.invokeFunction(\n",
              "            'suggestCharts', [key], {});\n",
              "      } catch (error) {\n",
              "        console.error('Error during call to suggestCharts:', error);\n",
              "      }\n",
              "      quickchartButtonEl.classList.remove('colab-df-spinner');\n",
              "      quickchartButtonEl.classList.add('colab-df-quickchart-complete');\n",
              "    }\n",
              "    (() => {\n",
              "      let quickchartButtonEl =\n",
              "        document.querySelector('#df-1f6c1a83-e402-4e2a-8f2a-aa406e7a19f0 button');\n",
              "      quickchartButtonEl.style.display =\n",
              "        google.colab.kernel.accessAllowed ? 'block' : 'none';\n",
              "    })();\n",
              "  </script>\n",
              "</div>\n",
              "    </div>\n",
              "  </div>\n"
            ]
          },
          "metadata": {},
          "execution_count": 24
        }
      ]
    },
    {
      "cell_type": "markdown",
      "source": [
        "#### How many pament methods?"
      ],
      "metadata": {
        "id": "36MMJa9n34ei"
      }
    },
    {
      "cell_type": "code",
      "source": [
        "shopping_data['payment_method'].unique()"
      ],
      "metadata": {
        "id": "sRsOS7CK4EaI",
        "outputId": "4a3fb026-80af-4bd7-cc56-f7427f5435f5",
        "colab": {
          "base_uri": "https://localhost:8080/"
        }
      },
      "execution_count": 26,
      "outputs": [
        {
          "output_type": "execute_result",
          "data": {
            "text/plain": [
              "array(['Credit Card', 'Debit Card', 'Cash'], dtype=object)"
            ]
          },
          "metadata": {},
          "execution_count": 26
        }
      ]
    },
    {
      "cell_type": "code",
      "source": [
        "set(shopping_data['payment_method'])"
      ],
      "metadata": {
        "id": "7g98-C3q5Jv2",
        "outputId": "b256d63a-3c85-424c-eb29-c85fdf701115",
        "colab": {
          "base_uri": "https://localhost:8080/"
        }
      },
      "execution_count": 27,
      "outputs": [
        {
          "output_type": "execute_result",
          "data": {
            "text/plain": [
              "{'Cash', 'Credit Card', 'Debit Card'}"
            ]
          },
          "metadata": {},
          "execution_count": 27
        }
      ]
    },
    {
      "cell_type": "code",
      "source": [
        "shopping_data.value_counts('payment_method')"
      ],
      "metadata": {
        "id": "mnFTMF855Wzk",
        "outputId": "3c59431f-0438-4e18-fda4-0629a8865607",
        "colab": {
          "base_uri": "https://localhost:8080/"
        }
      },
      "execution_count": 28,
      "outputs": [
        {
          "output_type": "execute_result",
          "data": {
            "text/plain": [
              "payment_method\n",
              "Cash           44447\n",
              "Credit Card    34931\n",
              "Debit Card     20079\n",
              "dtype: int64"
            ]
          },
          "metadata": {},
          "execution_count": 28
        }
      ]
    },
    {
      "cell_type": "markdown",
      "source": [
        "####Average Purchase Amount(USD) of customer age aboce 40 yr"
      ],
      "metadata": {
        "id": "I2w4X6QS5wAA"
      }
    },
    {
      "cell_type": "code",
      "source": [
        "shopping_data[shopping_data['age']>40].mean()"
      ],
      "metadata": {
        "id": "fZAIX4it5wcI",
        "outputId": "e0e16eba-010f-454a-f5cf-a23233aafae5",
        "colab": {
          "base_uri": "https://localhost:8080/"
        }
      },
      "execution_count": 30,
      "outputs": [
        {
          "output_type": "stream",
          "name": "stderr",
          "text": [
            "<ipython-input-30-8240fae5f60c>:1: FutureWarning: The default value of numeric_only in DataFrame.mean is deprecated. In a future version, it will default to False. In addition, specifying 'numeric_only=None' is deprecated. Select only valid columns or specify the value of numeric_only to silence this warning.\n",
            "  shopping_data[shopping_data['age']>40].mean()\n"
          ]
        },
        {
          "output_type": "execute_result",
          "data": {
            "text/plain": [
              "age          54.976743\n",
              "quantity      3.003426\n",
              "price       690.853136\n",
              "dtype: float64"
            ]
          },
          "metadata": {},
          "execution_count": 30
        }
      ]
    },
    {
      "cell_type": "code",
      "source": [
        "shopping_data[shopping_data['age']>40].describe()"
      ],
      "metadata": {
        "id": "6oaTnH8s-MV5",
        "outputId": "76d315b5-1a98-408d-d22f-3cd923efe8c8",
        "colab": {
          "base_uri": "https://localhost:8080/",
          "height": 300
        }
      },
      "execution_count": 33,
      "outputs": [
        {
          "output_type": "execute_result",
          "data": {
            "text/plain": [
              "                age      quantity         price\n",
              "count  55167.000000  55167.000000  55167.000000\n",
              "mean      54.976743      3.003426    690.853136\n",
              "std        8.374926      1.412343    942.539041\n",
              "min       41.000000      1.000000      5.230000\n",
              "25%       48.000000      2.000000     45.450000\n",
              "50%       55.000000      3.000000    203.300000\n",
              "75%       62.000000      4.000000   1200.320000\n",
              "max       69.000000      5.000000   5250.000000"
            ],
            "text/html": [
              "\n",
              "  <div id=\"df-835d4db1-f9e5-4799-bc40-e141e6fcba20\" class=\"colab-df-container\">\n",
              "    <div>\n",
              "<style scoped>\n",
              "    .dataframe tbody tr th:only-of-type {\n",
              "        vertical-align: middle;\n",
              "    }\n",
              "\n",
              "    .dataframe tbody tr th {\n",
              "        vertical-align: top;\n",
              "    }\n",
              "\n",
              "    .dataframe thead th {\n",
              "        text-align: right;\n",
              "    }\n",
              "</style>\n",
              "<table border=\"1\" class=\"dataframe\">\n",
              "  <thead>\n",
              "    <tr style=\"text-align: right;\">\n",
              "      <th></th>\n",
              "      <th>age</th>\n",
              "      <th>quantity</th>\n",
              "      <th>price</th>\n",
              "    </tr>\n",
              "  </thead>\n",
              "  <tbody>\n",
              "    <tr>\n",
              "      <th>count</th>\n",
              "      <td>55167.000000</td>\n",
              "      <td>55167.000000</td>\n",
              "      <td>55167.000000</td>\n",
              "    </tr>\n",
              "    <tr>\n",
              "      <th>mean</th>\n",
              "      <td>54.976743</td>\n",
              "      <td>3.003426</td>\n",
              "      <td>690.853136</td>\n",
              "    </tr>\n",
              "    <tr>\n",
              "      <th>std</th>\n",
              "      <td>8.374926</td>\n",
              "      <td>1.412343</td>\n",
              "      <td>942.539041</td>\n",
              "    </tr>\n",
              "    <tr>\n",
              "      <th>min</th>\n",
              "      <td>41.000000</td>\n",
              "      <td>1.000000</td>\n",
              "      <td>5.230000</td>\n",
              "    </tr>\n",
              "    <tr>\n",
              "      <th>25%</th>\n",
              "      <td>48.000000</td>\n",
              "      <td>2.000000</td>\n",
              "      <td>45.450000</td>\n",
              "    </tr>\n",
              "    <tr>\n",
              "      <th>50%</th>\n",
              "      <td>55.000000</td>\n",
              "      <td>3.000000</td>\n",
              "      <td>203.300000</td>\n",
              "    </tr>\n",
              "    <tr>\n",
              "      <th>75%</th>\n",
              "      <td>62.000000</td>\n",
              "      <td>4.000000</td>\n",
              "      <td>1200.320000</td>\n",
              "    </tr>\n",
              "    <tr>\n",
              "      <th>max</th>\n",
              "      <td>69.000000</td>\n",
              "      <td>5.000000</td>\n",
              "      <td>5250.000000</td>\n",
              "    </tr>\n",
              "  </tbody>\n",
              "</table>\n",
              "</div>\n",
              "    <div class=\"colab-df-buttons\">\n",
              "\n",
              "  <div class=\"colab-df-container\">\n",
              "    <button class=\"colab-df-convert\" onclick=\"convertToInteractive('df-835d4db1-f9e5-4799-bc40-e141e6fcba20')\"\n",
              "            title=\"Convert this dataframe to an interactive table.\"\n",
              "            style=\"display:none;\">\n",
              "\n",
              "  <svg xmlns=\"http://www.w3.org/2000/svg\" height=\"24px\" viewBox=\"0 -960 960 960\">\n",
              "    <path d=\"M120-120v-720h720v720H120Zm60-500h600v-160H180v160Zm220 220h160v-160H400v160Zm0 220h160v-160H400v160ZM180-400h160v-160H180v160Zm440 0h160v-160H620v160ZM180-180h160v-160H180v160Zm440 0h160v-160H620v160Z\"/>\n",
              "  </svg>\n",
              "    </button>\n",
              "\n",
              "  <style>\n",
              "    .colab-df-container {\n",
              "      display:flex;\n",
              "      gap: 12px;\n",
              "    }\n",
              "\n",
              "    .colab-df-convert {\n",
              "      background-color: #E8F0FE;\n",
              "      border: none;\n",
              "      border-radius: 50%;\n",
              "      cursor: pointer;\n",
              "      display: none;\n",
              "      fill: #1967D2;\n",
              "      height: 32px;\n",
              "      padding: 0 0 0 0;\n",
              "      width: 32px;\n",
              "    }\n",
              "\n",
              "    .colab-df-convert:hover {\n",
              "      background-color: #E2EBFA;\n",
              "      box-shadow: 0px 1px 2px rgba(60, 64, 67, 0.3), 0px 1px 3px 1px rgba(60, 64, 67, 0.15);\n",
              "      fill: #174EA6;\n",
              "    }\n",
              "\n",
              "    .colab-df-buttons div {\n",
              "      margin-bottom: 4px;\n",
              "    }\n",
              "\n",
              "    [theme=dark] .colab-df-convert {\n",
              "      background-color: #3B4455;\n",
              "      fill: #D2E3FC;\n",
              "    }\n",
              "\n",
              "    [theme=dark] .colab-df-convert:hover {\n",
              "      background-color: #434B5C;\n",
              "      box-shadow: 0px 1px 3px 1px rgba(0, 0, 0, 0.15);\n",
              "      filter: drop-shadow(0px 1px 2px rgba(0, 0, 0, 0.3));\n",
              "      fill: #FFFFFF;\n",
              "    }\n",
              "  </style>\n",
              "\n",
              "    <script>\n",
              "      const buttonEl =\n",
              "        document.querySelector('#df-835d4db1-f9e5-4799-bc40-e141e6fcba20 button.colab-df-convert');\n",
              "      buttonEl.style.display =\n",
              "        google.colab.kernel.accessAllowed ? 'block' : 'none';\n",
              "\n",
              "      async function convertToInteractive(key) {\n",
              "        const element = document.querySelector('#df-835d4db1-f9e5-4799-bc40-e141e6fcba20');\n",
              "        const dataTable =\n",
              "          await google.colab.kernel.invokeFunction('convertToInteractive',\n",
              "                                                    [key], {});\n",
              "        if (!dataTable) return;\n",
              "\n",
              "        const docLinkHtml = 'Like what you see? Visit the ' +\n",
              "          '<a target=\"_blank\" href=https://colab.research.google.com/notebooks/data_table.ipynb>data table notebook</a>'\n",
              "          + ' to learn more about interactive tables.';\n",
              "        element.innerHTML = '';\n",
              "        dataTable['output_type'] = 'display_data';\n",
              "        await google.colab.output.renderOutput(dataTable, element);\n",
              "        const docLink = document.createElement('div');\n",
              "        docLink.innerHTML = docLinkHtml;\n",
              "        element.appendChild(docLink);\n",
              "      }\n",
              "    </script>\n",
              "  </div>\n",
              "\n",
              "\n",
              "<div id=\"df-5b3b2c5e-9bcd-443d-ad56-838cf48525b9\">\n",
              "  <button class=\"colab-df-quickchart\" onclick=\"quickchart('df-5b3b2c5e-9bcd-443d-ad56-838cf48525b9')\"\n",
              "            title=\"Suggest charts\"\n",
              "            style=\"display:none;\">\n",
              "\n",
              "<svg xmlns=\"http://www.w3.org/2000/svg\" height=\"24px\"viewBox=\"0 0 24 24\"\n",
              "     width=\"24px\">\n",
              "    <g>\n",
              "        <path d=\"M19 3H5c-1.1 0-2 .9-2 2v14c0 1.1.9 2 2 2h14c1.1 0 2-.9 2-2V5c0-1.1-.9-2-2-2zM9 17H7v-7h2v7zm4 0h-2V7h2v10zm4 0h-2v-4h2v4z\"/>\n",
              "    </g>\n",
              "</svg>\n",
              "  </button>\n",
              "\n",
              "<style>\n",
              "  .colab-df-quickchart {\n",
              "      --bg-color: #E8F0FE;\n",
              "      --fill-color: #1967D2;\n",
              "      --hover-bg-color: #E2EBFA;\n",
              "      --hover-fill-color: #174EA6;\n",
              "      --disabled-fill-color: #AAA;\n",
              "      --disabled-bg-color: #DDD;\n",
              "  }\n",
              "\n",
              "  [theme=dark] .colab-df-quickchart {\n",
              "      --bg-color: #3B4455;\n",
              "      --fill-color: #D2E3FC;\n",
              "      --hover-bg-color: #434B5C;\n",
              "      --hover-fill-color: #FFFFFF;\n",
              "      --disabled-bg-color: #3B4455;\n",
              "      --disabled-fill-color: #666;\n",
              "  }\n",
              "\n",
              "  .colab-df-quickchart {\n",
              "    background-color: var(--bg-color);\n",
              "    border: none;\n",
              "    border-radius: 50%;\n",
              "    cursor: pointer;\n",
              "    display: none;\n",
              "    fill: var(--fill-color);\n",
              "    height: 32px;\n",
              "    padding: 0;\n",
              "    width: 32px;\n",
              "  }\n",
              "\n",
              "  .colab-df-quickchart:hover {\n",
              "    background-color: var(--hover-bg-color);\n",
              "    box-shadow: 0 1px 2px rgba(60, 64, 67, 0.3), 0 1px 3px 1px rgba(60, 64, 67, 0.15);\n",
              "    fill: var(--button-hover-fill-color);\n",
              "  }\n",
              "\n",
              "  .colab-df-quickchart-complete:disabled,\n",
              "  .colab-df-quickchart-complete:disabled:hover {\n",
              "    background-color: var(--disabled-bg-color);\n",
              "    fill: var(--disabled-fill-color);\n",
              "    box-shadow: none;\n",
              "  }\n",
              "\n",
              "  .colab-df-spinner {\n",
              "    border: 2px solid var(--fill-color);\n",
              "    border-color: transparent;\n",
              "    border-bottom-color: var(--fill-color);\n",
              "    animation:\n",
              "      spin 1s steps(1) infinite;\n",
              "  }\n",
              "\n",
              "  @keyframes spin {\n",
              "    0% {\n",
              "      border-color: transparent;\n",
              "      border-bottom-color: var(--fill-color);\n",
              "      border-left-color: var(--fill-color);\n",
              "    }\n",
              "    20% {\n",
              "      border-color: transparent;\n",
              "      border-left-color: var(--fill-color);\n",
              "      border-top-color: var(--fill-color);\n",
              "    }\n",
              "    30% {\n",
              "      border-color: transparent;\n",
              "      border-left-color: var(--fill-color);\n",
              "      border-top-color: var(--fill-color);\n",
              "      border-right-color: var(--fill-color);\n",
              "    }\n",
              "    40% {\n",
              "      border-color: transparent;\n",
              "      border-right-color: var(--fill-color);\n",
              "      border-top-color: var(--fill-color);\n",
              "    }\n",
              "    60% {\n",
              "      border-color: transparent;\n",
              "      border-right-color: var(--fill-color);\n",
              "    }\n",
              "    80% {\n",
              "      border-color: transparent;\n",
              "      border-right-color: var(--fill-color);\n",
              "      border-bottom-color: var(--fill-color);\n",
              "    }\n",
              "    90% {\n",
              "      border-color: transparent;\n",
              "      border-bottom-color: var(--fill-color);\n",
              "    }\n",
              "  }\n",
              "</style>\n",
              "\n",
              "  <script>\n",
              "    async function quickchart(key) {\n",
              "      const quickchartButtonEl =\n",
              "        document.querySelector('#' + key + ' button');\n",
              "      quickchartButtonEl.disabled = true;  // To prevent multiple clicks.\n",
              "      quickchartButtonEl.classList.add('colab-df-spinner');\n",
              "      try {\n",
              "        const charts = await google.colab.kernel.invokeFunction(\n",
              "            'suggestCharts', [key], {});\n",
              "      } catch (error) {\n",
              "        console.error('Error during call to suggestCharts:', error);\n",
              "      }\n",
              "      quickchartButtonEl.classList.remove('colab-df-spinner');\n",
              "      quickchartButtonEl.classList.add('colab-df-quickchart-complete');\n",
              "    }\n",
              "    (() => {\n",
              "      let quickchartButtonEl =\n",
              "        document.querySelector('#df-5b3b2c5e-9bcd-443d-ad56-838cf48525b9 button');\n",
              "      quickchartButtonEl.style.display =\n",
              "        google.colab.kernel.accessAllowed ? 'block' : 'none';\n",
              "    })();\n",
              "  </script>\n",
              "</div>\n",
              "    </div>\n",
              "  </div>\n"
            ]
          },
          "metadata": {},
          "execution_count": 33
        }
      ]
    },
    {
      "cell_type": "markdown",
      "source": [
        "#Visualazation"
      ],
      "metadata": {
        "id": "tUWa5PXCB37Y"
      }
    },
    {
      "cell_type": "code",
      "source": [
        "from matplotlib import pyplot as plt"
      ],
      "metadata": {
        "id": "wkD9cfyl7lUA"
      },
      "execution_count": 34,
      "outputs": []
    },
    {
      "cell_type": "markdown",
      "source": [
        "#Histogram"
      ],
      "metadata": {
        "id": "dTBJ1n9F8ZL7"
      }
    },
    {
      "cell_type": "code",
      "source": [
        "plt.hist(shopping_data['shopping_mall'])\n",
        "tickhist = plt.xticks(rotation='vertical');"
      ],
      "metadata": {
        "id": "GzS3flR88E_O",
        "outputId": "51d82652-f9b8-4b1c-e231-f3acbe6151f2",
        "colab": {
          "base_uri": "https://localhost:8080/",
          "height": 547
        }
      },
      "execution_count": 44,
      "outputs": [
        {
          "output_type": "display_data",
          "data": {
            "text/plain": [
              "<Figure size 640x480 with 1 Axes>"
            ],
            "image/png": "[encoded data removed]"
          },
          "metadata": {}
        }
      ]
    },
    {
      "cell_type": "code",
      "source": [
        "histoutput = plt.hist(shopping_data['shopping_mall']) #เอาตัวแปรมารับทำให้เห็นค่าได้\n",
        "plt.xticks(rotation='vertical');"
      ],
      "metadata": {
        "id": "hXdPzUQH_FDL",
        "outputId": "b99d2646-721f-46b3-8496-855e2870117c",
        "colab": {
          "base_uri": "https://localhost:8080/",
          "height": 547
        }
      },
      "execution_count": 38,
      "outputs": [
        {
          "output_type": "display_data",
          "data": {
            "text/plain": [
              "<Figure size 640x480 with 1 Axes>"
            ],
            "image/png": "[encoded data removed]"
          },
          "metadata": {}
        }
      ]
    },
    {
      "cell_type": "code",
      "source": [
        "histoutput[0]"
      ],
      "metadata": {
        "id": "3w2PKXuA_9nC",
        "outputId": "be8981a5-3ba0-48c5-923b-0319bed477e1",
        "colab": {
          "base_uri": "https://localhost:8080/"
        }
      },
      "execution_count": 40,
      "outputs": [
        {
          "output_type": "execute_result",
          "data": {
            "text/plain": [
              "array([19823.,  4947., 15011., 10161.,  9781., 19943.,  4811.,  4991.,\n",
              "        4914.,  5075.])"
            ]
          },
          "metadata": {},
          "execution_count": 40
        }
      ]
    },
    {
      "cell_type": "code",
      "source": [
        "tickhist[-1]"
      ],
      "metadata": {
        "id": "OqpzR_IVCMIb",
        "outputId": "5e317b0e-a2b4-455c-cad9-2169298cd6e5",
        "colab": {
          "base_uri": "https://localhost:8080/"
        }
      },
      "execution_count": 45,
      "outputs": [
        {
          "output_type": "execute_result",
          "data": {
            "text/plain": [
              "[Text(0, 0, 'Kanyon'),\n",
              " Text(1, 0, 'Forum Istanbul'),\n",
              " Text(2, 0, 'Metrocity'),\n",
              " Text(3, 0, 'Metropol AVM'),\n",
              " Text(4, 0, 'Istinye Park'),\n",
              " Text(5, 0, 'Mall of Istanbul'),\n",
              " Text(6, 0, 'Emaar Square Mall'),\n",
              " Text(7, 0, 'Cevahir AVM'),\n",
              " Text(8, 0, 'Viaport Outlet'),\n",
              " Text(9, 0, 'Zorlu Center')]"
            ]
          },
          "metadata": {},
          "execution_count": 45
        }
      ]
    },
    {
      "cell_type": "code",
      "source": [
        "tickhist[-1][0].get_text()"
      ],
      "metadata": {
        "id": "msnoW25DCme6",
        "outputId": "808569f3-05c7-41bd-98b6-ef1037e65635",
        "colab": {
          "base_uri": "https://localhost:8080/",
          "height": 36
        }
      },
      "execution_count": 46,
      "outputs": [
        {
          "output_type": "execute_result",
          "data": {
            "text/plain": [
              "'Kanyon'"
            ],
            "application/vnd.google.colaboratory.intrinsic+json": {
              "type": "string"
            }
          },
          "metadata": {},
          "execution_count": 46
        }
      ]
    },
    {
      "cell_type": "markdown",
      "source": [
        "#### Is there a trend in age vs price"
      ],
      "metadata": {
        "id": "qTPqA3yYEABE"
      }
    },
    {
      "cell_type": "code",
      "source": [
        "plt.scatter(shopping_data['age'],shopping_data['price'],alpha = 0.05)"
      ],
      "metadata": {
        "id": "aNlsLFOlDgl3",
        "outputId": "fcd3cff4-3a30-4d69-cbbb-2dd0d512e056",
        "colab": {
          "base_uri": "https://localhost:8080/",
          "height": 447
        }
      },
      "execution_count": 48,
      "outputs": [
        {
          "output_type": "execute_result",
          "data": {
            "text/plain": [
              "<matplotlib.collections.PathCollection at 0x786c3c847af0>"
            ]
          },
          "metadata": {},
          "execution_count": 48
        },
        {
          "output_type": "display_data",
          "data": {
            "text/plain": [
              "<Figure size 640x480 with 1 Axes>"
            ],
            "image/png": "[encoded data removed]"
          },
          "metadata": {}
        }
      ]
    },
    {
      "cell_type": "markdown",
      "source": [
        "#### Is there a trend in price vs quantity"
      ],
      "metadata": {
        "id": "tDLO6mYFEJkL"
      }
    },
    {
      "cell_type": "code",
      "source": [
        "plt.scatter(shopping_data['price'],shopping_data['quantity'],alpha = 0.002)"
      ],
      "metadata": {
        "id": "qYu6hAd9ER1t",
        "outputId": "778cf245-c82f-4f37-b6a8-ae0685bda2bc",
        "colab": {
          "base_uri": "https://localhost:8080/",
          "height": 447
        }
      },
      "execution_count": 53,
      "outputs": [
        {
          "output_type": "execute_result",
          "data": {
            "text/plain": [
              "<matplotlib.collections.PathCollection at 0x786c3c7d6530>"
            ]
          },
          "metadata": {},
          "execution_count": 53
        },
        {
          "output_type": "display_data",
          "data": {
            "text/plain": [
              "<Figure size 640x480 with 1 Axes>"
            ],
            "image/png": "[encoded data removed]"
          },
          "metadata": {}
        }
      ]
    },
    {
      "cell_type": "markdown",
      "source": [
        "####Are there outliner"
      ],
      "metadata": {
        "id": "fCuLWVuQGRyL"
      }
    },
    {
      "cell_type": "code",
      "source": [
        "bpreturn = plt.boxplot(shopping_data['price'])"
      ],
      "metadata": {
        "id": "SCv6PfcjGXjz",
        "outputId": "778707eb-2692-4b5e-fc14-070a11c4c7d2",
        "colab": {
          "base_uri": "https://localhost:8080/",
          "height": 430
        }
      },
      "execution_count": 56,
      "outputs": [
        {
          "output_type": "display_data",
          "data": {
            "text/plain": [
              "<Figure size 640x480 with 1 Axes>"
            ],
            "image/png": "[encoded data removed]"
          },
          "metadata": {}
        }
      ]
    },
    {
      "cell_type": "code",
      "source": [
        "l= bpreturn['fliers'][0].get_ydata()"
      ],
      "metadata": {
        "id": "Zt_673caW3R9"
      },
      "execution_count": 65,
      "outputs": []
    },
    {
      "cell_type": "code",
      "source": [
        "len(l)"
      ],
      "metadata": {
        "id": "ma2HN1rUW4w8",
        "outputId": "18ba7ee3-6a53-4a06-c85c-ca613bdfc3fe",
        "colab": {
          "base_uri": "https://localhost:8080/"
        }
      },
      "execution_count": 66,
      "outputs": [
        {
          "output_type": "execute_result",
          "data": {
            "text/plain": [
              "5024"
            ]
          },
          "metadata": {},
          "execution_count": 66
        }
      ]
    },
    {
      "cell_type": "markdown",
      "source": [
        "## boxplot"
      ],
      "metadata": {
        "id": "fzNbZIeiXJGz"
      }
    },
    {
      "cell_type": "code",
      "source": [
        "bpre = plt.boxplot(shopping_data['price'])"
      ],
      "metadata": {
        "id": "aqaeyojlXNyF"
      },
      "execution_count": null,
      "outputs": []
    },
    {
      "cell_type": "markdown",
      "source": [
        "## pie chart"
      ],
      "metadata": {
        "id": "N7lfvgCVXWdk"
      }
    },
    {
      "cell_type": "markdown",
      "source": [
        "### ration of male and female customers"
      ],
      "metadata": {
        "id": "XZbWi3cqXYPh"
      }
    },
    {
      "cell_type": "code",
      "source": [
        "male = len(shopping_data[shopping_data['gender']=='Male'])\n",
        "female = len(shopping_data[shopping_data['gender']=='Female'])\n",
        "plt.pie([male,female],labels=['Male','Female']);"
      ],
      "metadata": {
        "id": "oX1eiqc2OwHH",
        "outputId": "5cfdb979-2129-43cc-cc73-39ad5ec50bc2",
        "colab": {
          "base_uri": "https://localhost:8080/",
          "height": 406
        }
      },
      "execution_count": 58,
      "outputs": [
        {
          "output_type": "display_data",
          "data": {
            "text/plain": [
              "<Figure size 640x480 with 1 Axes>"
            ],
            "image/png": "[encoded data removed]"
          },
          "metadata": {}
        }
      ]
    },
    {
      "cell_type": "markdown",
      "source": [
        "## Bar chart"
      ],
      "metadata": {
        "id": "vFesMa8ZXdYo"
      }
    },
    {
      "cell_type": "markdown",
      "source": [
        "###stacked"
      ],
      "metadata": {
        "id": "VILIO6lTXe8W"
      }
    },
    {
      "cell_type": "markdown",
      "source": [
        "#### เปรียบเทียบชนิดสินค้าที่ซื้อในเเต่ละ shopping mall เเบบ ภาพรวมของเเต่ละ shopping mall"
      ],
      "metadata": {
        "id": "JztAKWdAXgl7"
      }
    },
    {
      "cell_type": "code",
      "source": [
        "set(shopping_data['category'])"
      ],
      "metadata": {
        "id": "X9vGuqRnXinT",
        "outputId": "fa7551bb-d8aa-4ce5-b058-c18864dcb408",
        "colab": {
          "base_uri": "https://localhost:8080/"
        }
      },
      "execution_count": 67,
      "outputs": [
        {
          "output_type": "execute_result",
          "data": {
            "text/plain": [
              "{'Books',\n",
              " 'Clothing',\n",
              " 'Cosmetics',\n",
              " 'Food & Beverage',\n",
              " 'Shoes',\n",
              " 'Souvenir',\n",
              " 'Technology',\n",
              " 'Toys'}"
            ]
          },
          "metadata": {},
          "execution_count": 67
        }
      ]
    },
    {
      "cell_type": "code",
      "source": [
        "set(shopping_data['shopping_mall'])"
      ],
      "metadata": {
        "id": "tl52xqs9XmgW",
        "outputId": "48ae38d6-3a99-431b-c876-229c6545b32d",
        "colab": {
          "base_uri": "https://localhost:8080/"
        }
      },
      "execution_count": 68,
      "outputs": [
        {
          "output_type": "execute_result",
          "data": {
            "text/plain": [
              "{'Cevahir AVM',\n",
              " 'Emaar Square Mall',\n",
              " 'Forum Istanbul',\n",
              " 'Istinye Park',\n",
              " 'Kanyon',\n",
              " 'Mall of Istanbul',\n",
              " 'Metrocity',\n",
              " 'Metropol AVM',\n",
              " 'Viaport Outlet',\n",
              " 'Zorlu Center'}"
            ]
          },
          "metadata": {},
          "execution_count": 68
        }
      ]
    },
    {
      "cell_type": "code",
      "source": [
        "bardata = shopping_data.groupby(['shopping_mall','category'])['quantity'].sum().unstack()"
      ],
      "metadata": {
        "id": "1E1nlN04SEEt"
      },
      "execution_count": 70,
      "outputs": []
    },
    {
      "cell_type": "code",
      "source": [
        "bardata.reset_index(['shopping_mall'])"
      ],
      "metadata": {
        "id": "rc3kclKISLIY",
        "outputId": "6c2ef504-3ffb-4781-95c7-3d1727d2e0c2",
        "colab": {
          "base_uri": "https://localhost:8080/",
          "height": 363
        }
      },
      "execution_count": 71,
      "outputs": [
        {
          "output_type": "execute_result",
          "data": {
            "text/plain": [
              "category      shopping_mall  Books  Clothing  Cosmetics  Food & Beverage  \\\n",
              "0               Cevahir AVM    792      5180       2174             2293   \n",
              "1         Emaar Square Mall    730      5038       2272             2109   \n",
              "2            Forum Istanbul    756      5239       2342             2072   \n",
              "3              Istinye Park   1368     10165       4396             4478   \n",
              "4                    Kanyon   2969     20513       9155             8695   \n",
              "5          Mall of Istanbul   3099     20813       9193             8878   \n",
              "6                 Metrocity   2271     15729       6700             6764   \n",
              "7              Metropol AVM   1468     10552       4569             4586   \n",
              "8            Viaport Outlet    720      5101       2279             2186   \n",
              "9              Zorlu Center    809      5228       2385             2216   \n",
              "\n",
              "category  Shoes  Souvenir  Technology  Toys  \n",
              "0          1473       708         780  1549  \n",
              "1          1452       726         795  1379  \n",
              "2          1459       775         673  1536  \n",
              "3          3010      1566        1438  3044  \n",
              "4          6065      3025        3050  5985  \n",
              "5          6112      2921        3067  6031  \n",
              "6          4349      2197        2273  4611  \n",
              "7          3237      1586        1396  3136  \n",
              "8          1471       651         784  1524  \n",
              "9          1589       716         765  1526  "
            ],
            "text/html": [
              "\n",
              "  <div id=\"df-864a5c77-3f03-4424-b819-bdd3b2c278c8\" class=\"colab-df-container\">\n",
              "    <div>\n",
              "<style scoped>\n",
              "    .dataframe tbody tr th:only-of-type {\n",
              "        vertical-align: middle;\n",
              "    }\n",
              "\n",
              "    .dataframe tbody tr th {\n",
              "        vertical-align: top;\n",
              "    }\n",
              "\n",
              "    .dataframe thead th {\n",
              "        text-align: right;\n",
              "    }\n",
              "</style>\n",
              "<table border=\"1\" class=\"dataframe\">\n",
              "  <thead>\n",
              "    <tr style=\"text-align: right;\">\n",
              "      <th>category</th>\n",
              "      <th>shopping_mall</th>\n",
              "      <th>Books</th>\n",
              "      <th>Clothing</th>\n",
              "      <th>Cosmetics</th>\n",
              "      <th>Food &amp; Beverage</th>\n",
              "      <th>Shoes</th>\n",
              "      <th>Souvenir</th>\n",
              "      <th>Technology</th>\n",
              "      <th>Toys</th>\n",
              "    </tr>\n",
              "  </thead>\n",
              "  <tbody>\n",
              "    <tr>\n",
              "      <th>0</th>\n",
              "      <td>Cevahir AVM</td>\n",
              "      <td>792</td>\n",
              "      <td>5180</td>\n",
              "      <td>2174</td>\n",
              "      <td>2293</td>\n",
              "      <td>1473</td>\n",
              "      <td>708</td>\n",
              "      <td>780</td>\n",
              "      <td>1549</td>\n",
              "    </tr>\n",
              "    <tr>\n",
              "      <th>1</th>\n",
              "      <td>Emaar Square Mall</td>\n",
              "      <td>730</td>\n",
              "      <td>5038</td>\n",
              "      <td>2272</td>\n",
              "      <td>2109</td>\n",
              "      <td>1452</td>\n",
              "      <td>726</td>\n",
              "      <td>795</td>\n",
              "      <td>1379</td>\n",
              "    </tr>\n",
              "    <tr>\n",
              "      <th>2</th>\n",
              "      <td>Forum Istanbul</td>\n",
              "      <td>756</td>\n",
              "      <td>5239</td>\n",
              "      <td>2342</td>\n",
              "      <td>2072</td>\n",
              "      <td>1459</td>\n",
              "      <td>775</td>\n",
              "      <td>673</td>\n",
              "      <td>1536</td>\n",
              "    </tr>\n",
              "    <tr>\n",
              "      <th>3</th>\n",
              "      <td>Istinye Park</td>\n",
              "      <td>1368</td>\n",
              "      <td>10165</td>\n",
              "      <td>4396</td>\n",
              "      <td>4478</td>\n",
              "      <td>3010</td>\n",
              "      <td>1566</td>\n",
              "      <td>1438</td>\n",
              "      <td>3044</td>\n",
              "    </tr>\n",
              "    <tr>\n",
              "      <th>4</th>\n",
              "      <td>Kanyon</td>\n",
              "      <td>2969</td>\n",
              "      <td>20513</td>\n",
              "      <td>9155</td>\n",
              "      <td>8695</td>\n",
              "      <td>6065</td>\n",
              "      <td>3025</td>\n",
              "      <td>3050</td>\n",
              "      <td>5985</td>\n",
              "    </tr>\n",
              "    <tr>\n",
              "      <th>5</th>\n",
              "      <td>Mall of Istanbul</td>\n",
              "      <td>3099</td>\n",
              "      <td>20813</td>\n",
              "      <td>9193</td>\n",
              "      <td>8878</td>\n",
              "      <td>6112</td>\n",
              "      <td>2921</td>\n",
              "      <td>3067</td>\n",
              "      <td>6031</td>\n",
              "    </tr>\n",
              "    <tr>\n",
              "      <th>6</th>\n",
              "      <td>Metrocity</td>\n",
              "      <td>2271</td>\n",
              "      <td>15729</td>\n",
              "      <td>6700</td>\n",
              "      <td>6764</td>\n",
              "      <td>4349</td>\n",
              "      <td>2197</td>\n",
              "      <td>2273</td>\n",
              "      <td>4611</td>\n",
              "    </tr>\n",
              "    <tr>\n",
              "      <th>7</th>\n",
              "      <td>Metropol AVM</td>\n",
              "      <td>1468</td>\n",
              "      <td>10552</td>\n",
              "      <td>4569</td>\n",
              "      <td>4586</td>\n",
              "      <td>3237</td>\n",
              "      <td>1586</td>\n",
              "      <td>1396</td>\n",
              "      <td>3136</td>\n",
              "    </tr>\n",
              "    <tr>\n",
              "      <th>8</th>\n",
              "      <td>Viaport Outlet</td>\n",
              "      <td>720</td>\n",
              "      <td>5101</td>\n",
              "      <td>2279</td>\n",
              "      <td>2186</td>\n",
              "      <td>1471</td>\n",
              "      <td>651</td>\n",
              "      <td>784</td>\n",
              "      <td>1524</td>\n",
              "    </tr>\n",
              "    <tr>\n",
              "      <th>9</th>\n",
              "      <td>Zorlu Center</td>\n",
              "      <td>809</td>\n",
              "      <td>5228</td>\n",
              "      <td>2385</td>\n",
              "      <td>2216</td>\n",
              "      <td>1589</td>\n",
              "      <td>716</td>\n",
              "      <td>765</td>\n",
              "      <td>1526</td>\n",
              "    </tr>\n",
              "  </tbody>\n",
              "</table>\n",
              "</div>\n",
              "    <div class=\"colab-df-buttons\">\n",
              "\n",
              "  <div class=\"colab-df-container\">\n",
              "    <button class=\"colab-df-convert\" onclick=\"convertToInteractive('df-864a5c77-3f03-4424-b819-bdd3b2c278c8')\"\n",
              "            title=\"Convert this dataframe to an interactive table.\"\n",
              "            style=\"display:none;\">\n",
              "\n",
              "  <svg xmlns=\"http://www.w3.org/2000/svg\" height=\"24px\" viewBox=\"0 -960 960 960\">\n",
              "    <path d=\"M120-120v-720h720v720H120Zm60-500h600v-160H180v160Zm220 220h160v-160H400v160Zm0 220h160v-160H400v160ZM180-400h160v-160H180v160Zm440 0h160v-160H620v160ZM180-180h160v-160H180v160Zm440 0h160v-160H620v160Z\"/>\n",
              "  </svg>\n",
              "    </button>\n",
              "\n",
              "  <style>\n",
              "    .colab-df-container {\n",
              "      display:flex;\n",
              "      gap: 12px;\n",
              "    }\n",
              "\n",
              "    .colab-df-convert {\n",
              "      background-color: #E8F0FE;\n",
              "      border: none;\n",
              "      border-radius: 50%;\n",
              "      cursor: pointer;\n",
              "      display: none;\n",
              "      fill: #1967D2;\n",
              "      height: 32px;\n",
              "      padding: 0 0 0 0;\n",
              "      width: 32px;\n",
              "    }\n",
              "\n",
              "    .colab-df-convert:hover {\n",
              "      background-color: #E2EBFA;\n",
              "      box-shadow: 0px 1px 2px rgba(60, 64, 67, 0.3), 0px 1px 3px 1px rgba(60, 64, 67, 0.15);\n",
              "      fill: #174EA6;\n",
              "    }\n",
              "\n",
              "    .colab-df-buttons div {\n",
              "      margin-bottom: 4px;\n",
              "    }\n",
              "\n",
              "    [theme=dark] .colab-df-convert {\n",
              "      background-color: #3B4455;\n",
              "      fill: #D2E3FC;\n",
              "    }\n",
              "\n",
              "    [theme=dark] .colab-df-convert:hover {\n",
              "      background-color: #434B5C;\n",
              "      box-shadow: 0px 1px 3px 1px rgba(0, 0, 0, 0.15);\n",
              "      filter: drop-shadow(0px 1px 2px rgba(0, 0, 0, 0.3));\n",
              "      fill: #FFFFFF;\n",
              "    }\n",
              "  </style>\n",
              "\n",
              "    <script>\n",
              "      const buttonEl =\n",
              "        document.querySelector('#df-864a5c77-3f03-4424-b819-bdd3b2c278c8 button.colab-df-convert');\n",
              "      buttonEl.style.display =\n",
              "        google.colab.kernel.accessAllowed ? 'block' : 'none';\n",
              "\n",
              "      async function convertToInteractive(key) {\n",
              "        const element = document.querySelector('#df-864a5c77-3f03-4424-b819-bdd3b2c278c8');\n",
              "        const dataTable =\n",
              "          await google.colab.kernel.invokeFunction('convertToInteractive',\n",
              "                                                    [key], {});\n",
              "        if (!dataTable) return;\n",
              "\n",
              "        const docLinkHtml = 'Like what you see? Visit the ' +\n",
              "          '<a target=\"_blank\" href=https://colab.research.google.com/notebooks/data_table.ipynb>data table notebook</a>'\n",
              "          + ' to learn more about interactive tables.';\n",
              "        element.innerHTML = '';\n",
              "        dataTable['output_type'] = 'display_data';\n",
              "        await google.colab.output.renderOutput(dataTable, element);\n",
              "        const docLink = document.createElement('div');\n",
              "        docLink.innerHTML = docLinkHtml;\n",
              "        element.appendChild(docLink);\n",
              "      }\n",
              "    </script>\n",
              "  </div>\n",
              "\n",
              "\n",
              "<div id=\"df-f1563db0-3631-4169-a0ae-2ec846b395f1\">\n",
              "  <button class=\"colab-df-quickchart\" onclick=\"quickchart('df-f1563db0-3631-4169-a0ae-2ec846b395f1')\"\n",
              "            title=\"Suggest charts\"\n",
              "            style=\"display:none;\">\n",
              "\n",
              "<svg xmlns=\"http://www.w3.org/2000/svg\" height=\"24px\"viewBox=\"0 0 24 24\"\n",
              "     width=\"24px\">\n",
              "    <g>\n",
              "        <path d=\"M19 3H5c-1.1 0-2 .9-2 2v14c0 1.1.9 2 2 2h14c1.1 0 2-.9 2-2V5c0-1.1-.9-2-2-2zM9 17H7v-7h2v7zm4 0h-2V7h2v10zm4 0h-2v-4h2v4z\"/>\n",
              "    </g>\n",
              "</svg>\n",
              "  </button>\n",
              "\n",
              "<style>\n",
              "  .colab-df-quickchart {\n",
              "      --bg-color: #E8F0FE;\n",
              "      --fill-color: #1967D2;\n",
              "      --hover-bg-color: #E2EBFA;\n",
              "      --hover-fill-color: #174EA6;\n",
              "      --disabled-fill-color: #AAA;\n",
              "      --disabled-bg-color: #DDD;\n",
              "  }\n",
              "\n",
              "  [theme=dark] .colab-df-quickchart {\n",
              "      --bg-color: #3B4455;\n",
              "      --fill-color: #D2E3FC;\n",
              "      --hover-bg-color: #434B5C;\n",
              "      --hover-fill-color: #FFFFFF;\n",
              "      --disabled-bg-color: #3B4455;\n",
              "      --disabled-fill-color: #666;\n",
              "  }\n",
              "\n",
              "  .colab-df-quickchart {\n",
              "    background-color: var(--bg-color);\n",
              "    border: none;\n",
              "    border-radius: 50%;\n",
              "    cursor: pointer;\n",
              "    display: none;\n",
              "    fill: var(--fill-color);\n",
              "    height: 32px;\n",
              "    padding: 0;\n",
              "    width: 32px;\n",
              "  }\n",
              "\n",
              "  .colab-df-quickchart:hover {\n",
              "    background-color: var(--hover-bg-color);\n",
              "    box-shadow: 0 1px 2px rgba(60, 64, 67, 0.3), 0 1px 3px 1px rgba(60, 64, 67, 0.15);\n",
              "    fill: var(--button-hover-fill-color);\n",
              "  }\n",
              "\n",
              "  .colab-df-quickchart-complete:disabled,\n",
              "  .colab-df-quickchart-complete:disabled:hover {\n",
              "    background-color: var(--disabled-bg-color);\n",
              "    fill: var(--disabled-fill-color);\n",
              "    box-shadow: none;\n",
              "  }\n",
              "\n",
              "  .colab-df-spinner {\n",
              "    border: 2px solid var(--fill-color);\n",
              "    border-color: transparent;\n",
              "    border-bottom-color: var(--fill-color);\n",
              "    animation:\n",
              "      spin 1s steps(1) infinite;\n",
              "  }\n",
              "\n",
              "  @keyframes spin {\n",
              "    0% {\n",
              "      border-color: transparent;\n",
              "      border-bottom-color: var(--fill-color);\n",
              "      border-left-color: var(--fill-color);\n",
              "    }\n",
              "    20% {\n",
              "      border-color: transparent;\n",
              "      border-left-color: var(--fill-color);\n",
              "      border-top-color: var(--fill-color);\n",
              "    }\n",
              "    30% {\n",
              "      border-color: transparent;\n",
              "      border-left-color: var(--fill-color);\n",
              "      border-top-color: var(--fill-color);\n",
              "      border-right-color: var(--fill-color);\n",
              "    }\n",
              "    40% {\n",
              "      border-color: transparent;\n",
              "      border-right-color: var(--fill-color);\n",
              "      border-top-color: var(--fill-color);\n",
              "    }\n",
              "    60% {\n",
              "      border-color: transparent;\n",
              "      border-right-color: var(--fill-color);\n",
              "    }\n",
              "    80% {\n",
              "      border-color: transparent;\n",
              "      border-right-color: var(--fill-color);\n",
              "      border-bottom-color: var(--fill-color);\n",
              "    }\n",
              "    90% {\n",
              "      border-color: transparent;\n",
              "      border-bottom-color: var(--fill-color);\n",
              "    }\n",
              "  }\n",
              "</style>\n",
              "\n",
              "  <script>\n",
              "    async function quickchart(key) {\n",
              "      const quickchartButtonEl =\n",
              "        document.querySelector('#' + key + ' button');\n",
              "      quickchartButtonEl.disabled = true;  // To prevent multiple clicks.\n",
              "      quickchartButtonEl.classList.add('colab-df-spinner');\n",
              "      try {\n",
              "        const charts = await google.colab.kernel.invokeFunction(\n",
              "            'suggestCharts', [key], {});\n",
              "      } catch (error) {\n",
              "        console.error('Error during call to suggestCharts:', error);\n",
              "      }\n",
              "      quickchartButtonEl.classList.remove('colab-df-spinner');\n",
              "      quickchartButtonEl.classList.add('colab-df-quickchart-complete');\n",
              "    }\n",
              "    (() => {\n",
              "      let quickchartButtonEl =\n",
              "        document.querySelector('#df-f1563db0-3631-4169-a0ae-2ec846b395f1 button');\n",
              "      quickchartButtonEl.style.display =\n",
              "        google.colab.kernel.accessAllowed ? 'block' : 'none';\n",
              "    })();\n",
              "  </script>\n",
              "</div>\n",
              "    </div>\n",
              "  </div>\n"
            ]
          },
          "metadata": {},
          "execution_count": 71
        }
      ]
    },
    {
      "cell_type": "code",
      "source": [
        "bardata['Souvenir'][0]"
      ],
      "metadata": {
        "id": "5WPOIhNdXv2Z",
        "outputId": "46d05d4c-e307-4a24-ebaf-c3e5165e81a7",
        "colab": {
          "base_uri": "https://localhost:8080/"
        }
      },
      "execution_count": 73,
      "outputs": [
        {
          "output_type": "execute_result",
          "data": {
            "text/plain": [
              "708"
            ]
          },
          "metadata": {},
          "execution_count": 73
        }
      ]
    },
    {
      "cell_type": "code",
      "source": [
        "bardata['Books']"
      ],
      "metadata": {
        "id": "MkBthO5NXz5g",
        "outputId": "d584f41f-2f41-4375-b0b4-5e76ec3b51c5",
        "colab": {
          "base_uri": "https://localhost:8080/"
        }
      },
      "execution_count": 74,
      "outputs": [
        {
          "output_type": "execute_result",
          "data": {
            "text/plain": [
              "shopping_mall\n",
              "Cevahir AVM           792\n",
              "Emaar Square Mall     730\n",
              "Forum Istanbul        756\n",
              "Istinye Park         1368\n",
              "Kanyon               2969\n",
              "Mall of Istanbul     3099\n",
              "Metrocity            2271\n",
              "Metropol AVM         1468\n",
              "Viaport Outlet        720\n",
              "Zorlu Center          809\n",
              "Name: Books, dtype: int64"
            ]
          },
          "metadata": {},
          "execution_count": 74
        }
      ]
    },
    {
      "cell_type": "code",
      "source": [
        "bardata.reset_index()['shopping_mall']"
      ],
      "metadata": {
        "id": "lZm36Qc2X4Ps",
        "outputId": "c50e2923-2dc5-401a-c2ea-acd9adccbf74",
        "colab": {
          "base_uri": "https://localhost:8080/"
        }
      },
      "execution_count": 75,
      "outputs": [
        {
          "output_type": "execute_result",
          "data": {
            "text/plain": [
              "0          Cevahir AVM\n",
              "1    Emaar Square Mall\n",
              "2       Forum Istanbul\n",
              "3         Istinye Park\n",
              "4               Kanyon\n",
              "5     Mall of Istanbul\n",
              "6            Metrocity\n",
              "7         Metropol AVM\n",
              "8       Viaport Outlet\n",
              "9         Zorlu Center\n",
              "Name: shopping_mall, dtype: object"
            ]
          },
          "metadata": {},
          "execution_count": 75
        }
      ]
    },
    {
      "cell_type": "code",
      "source": [
        "plt.bar([1,2,3,4,5,6,7,8,9,10],bardata['Books'],color='b',label='Books')\n",
        "plt.bar([1,2,3,4,5,6,7,8,9,10],bardata['Clothing'], bottom = bardata['Books'],color='g',label='Clothing')\n",
        "plt.bar([1,2,3,4,5,6,7,8,9,10],bardata['Cosmetics'], bottom = bardata['Books']+bardata['Clothing'],color='y',label='Cosmetics')\n",
        "plt.xticks([1,2,3,4,5,6,7,8,9,10],bardata.reset_index()['shopping_mall'],rotation=270)\n",
        "plt.grid(True,axis='y')\n",
        "plt.legend();"
      ],
      "metadata": {
        "id": "PrWA6VN3R6nu",
        "outputId": "b51c5fa7-402f-438c-f064-0389558c43f7",
        "colab": {
          "base_uri": "https://localhost:8080/",
          "height": 547
        }
      },
      "execution_count": 72,
      "outputs": [
        {
          "output_type": "display_data",
          "data": {
            "text/plain": [
              "<Figure size 640x480 with 1 Axes>"
            ],
            "image/png": "[encoded data removed]"
          },
          "metadata": {}
        }
      ]
    },
    {
      "cell_type": "markdown",
      "source": [
        "###group"
      ],
      "metadata": {
        "id": "p9Bj4pFqX8Ud"
      }
    },
    {
      "cell_type": "markdown",
      "source": [
        "#### เปรียบเทียบชนิดสินค้าที่ซื้อในเเต่ละ shopping mall เป็นเเต่ละ shopping mall (books-souvenir-Technology)"
      ],
      "metadata": {
        "id": "U-FVGW5_X-Ul"
      }
    },
    {
      "cell_type": "code",
      "source": [
        "width = 0.2#กำหนดความกว้างของแท่ง\n",
        "#1-width เขิยบทาง ซ้าย 1 แท่ง เพื่อความสวยงาม\n",
        "\n",
        "plt.bar([1,2,3,4,5,6,7,8,9,10],x['Books'],width,color='g',label='Books')\n",
        "plt.bar([1-width, 2-width,3-width,4-width,5-width,6-width,7-width,8-width,9-width,10-width],x['Souvenir'],width,color='r',label='Souvenir') # bar 2\n",
        "plt.bar([1-width*2, 2-width*2,3-width*2,4-width*2,5-width*2,6-width*2,7-width*2,8-width*2,9-width*2,10-width*2],x['Technology'],width,color='b',label='Technology') # bar 3\n",
        "\n",
        "plt.xticks([1,2,3,4,5,6,7,8,9,10],x.reset_index()['shopping_mall'],rotation=270 )\n",
        "plt.legend();"
      ],
      "metadata": {
        "id": "JSEWmkJ4YAfe",
        "outputId": "e6d5290a-4474-426d-b547-34d25200b09c",
        "colab": {
          "base_uri": "https://localhost:8080/",
          "height": 547
        }
      },
      "execution_count": 76,
      "outputs": [
        {
          "output_type": "display_data",
          "data": {
            "text/plain": [
              "<Figure size 640x480 with 1 Axes>"
            ],
            "image/png": "[encoded data removed]"
          },
          "metadata": {}
        }
      ]
    },
    {
      "cell_type": "markdown",
      "source": [
        "#Distance-Similarity"
      ],
      "metadata": {
        "id": "RoEB_8v9CAMZ"
      }
    },
    {
      "cell_type": "code",
      "source": [
        "from numpy import linalg as LA"
      ],
      "metadata": {
        "id": "lFa28ZXJYIS9"
      },
      "execution_count": 77,
      "outputs": []
    },
    {
      "cell_type": "code",
      "source": [
        "import numpy as np"
      ],
      "metadata": {
        "id": "C0O1FXTXYhFE"
      },
      "execution_count": 79,
      "outputs": []
    },
    {
      "cell_type": "code",
      "source": [
        "import pandas as pd\n",
        "from scipy.spatial import distance_matrix"
      ],
      "metadata": {
        "id": "Nn960dV3bXmh"
      },
      "execution_count": 85,
      "outputs": []
    },
    {
      "cell_type": "code",
      "source": [
        "data_points = np.array([[1,2],[-1,4],[0,-3],[-3,-2]])"
      ],
      "metadata": {
        "id": "dgEPAiu2YNaA"
      },
      "execution_count": 81,
      "outputs": []
    },
    {
      "cell_type": "code",
      "source": [
        "data_points"
      ],
      "metadata": {
        "id": "Hi_thu5fYsxC",
        "outputId": "ea3ef2bf-8ed8-4c82-b27e-324f35a186c2",
        "colab": {
          "base_uri": "https://localhost:8080/"
        }
      },
      "execution_count": 82,
      "outputs": [
        {
          "output_type": "execute_result",
          "data": {
            "text/plain": [
              "array([[ 1,  2],\n",
              "       [-1,  4],\n",
              "       [ 0, -3],\n",
              "       [-3, -2]])"
            ]
          },
          "metadata": {},
          "execution_count": 82
        }
      ]
    },
    {
      "cell_type": "code",
      "source": [
        "plt.scatter(data_points[:,0],data_points[:,1])"
      ],
      "metadata": {
        "id": "fCfWZCRCYuPy",
        "outputId": "6ad0fb18-be15-4639-92df-c3b3cda10b8e",
        "colab": {
          "base_uri": "https://localhost:8080/",
          "height": 447
        }
      },
      "execution_count": 84,
      "outputs": [
        {
          "output_type": "execute_result",
          "data": {
            "text/plain": [
              "<matplotlib.collections.PathCollection at 0x786c3c8002b0>"
            ]
          },
          "metadata": {},
          "execution_count": 84
        },
        {
          "output_type": "display_data",
          "data": {
            "text/plain": [
              "<Figure size 640x480 with 1 Axes>"
            ],
            "image/png": "[encoded data removed]"
          },
          "metadata": {}
        }
      ]
    },
    {
      "cell_type": "code",
      "source": [
        "distance_matrix(data_points,data_points) #default"
      ],
      "metadata": {
        "id": "LMv-0NUubxyP",
        "outputId": "adaac8e4-09b6-45bc-9f57-ee067c7fbd20",
        "colab": {
          "base_uri": "https://localhost:8080/"
        }
      },
      "execution_count": 87,
      "outputs": [
        {
          "output_type": "execute_result",
          "data": {
            "text/plain": [
              "array([[0.        , 2.82842712, 5.09901951, 5.65685425],\n",
              "       [2.82842712, 0.        , 7.07106781, 6.32455532],\n",
              "       [5.09901951, 7.07106781, 0.        , 3.16227766],\n",
              "       [5.65685425, 6.32455532, 3.16227766, 0.        ]])"
            ]
          },
          "metadata": {},
          "execution_count": 87
        }
      ]
    },
    {
      "cell_type": "code",
      "source": [
        "distance_matrix(data_points,data_points,p=1) # p=1 cityblock"
      ],
      "metadata": {
        "id": "WMg1GjITcVDO",
        "outputId": "13582314-c411-4186-b934-a3de5f52e7bc",
        "colab": {
          "base_uri": "https://localhost:8080/"
        }
      },
      "execution_count": 88,
      "outputs": [
        {
          "output_type": "execute_result",
          "data": {
            "text/plain": [
              "array([[0., 4., 6., 8.],\n",
              "       [4., 0., 8., 8.],\n",
              "       [6., 8., 0., 4.],\n",
              "       [8., 8., 4., 0.]])"
            ]
          },
          "metadata": {},
          "execution_count": 88
        }
      ]
    },
    {
      "cell_type": "markdown",
      "source": [
        "#Z-score"
      ],
      "metadata": {
        "id": "Xr-YS8qUCzNo"
      }
    }
  ]
}