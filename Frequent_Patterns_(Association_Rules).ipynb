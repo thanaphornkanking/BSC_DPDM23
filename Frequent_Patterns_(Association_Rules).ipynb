{
  "nbformat": 4,
  "nbformat_minor": 0,
  "metadata": {
    "colab": {
      "provenance": [],
      "toc_visible": true,
      "include_colab_link": true
    },
    "kernelspec": {
      "name": "python3",
      "display_name": "Python 3"
    },
    "language_info": {
      "name": "python"
    }
  },
  "cells": [
    {
      "cell_type": "markdown",
      "metadata": {
        "id": "view-in-github",
        "colab_type": "text"
      },
      "source": [
        "<a href=\"https://colab.research.google.com/github/thanaphornkanking/BSC_DPDM23/blob/main/Frequent_Patterns_(Association_Rules).ipynb\" target=\"_parent\"><img src=\"https://colab.research.google.com/assets/colab-badge.svg\" alt=\"Open In Colab\"/></a>"
      ]
    },
    {
      "cell_type": "code",
      "metadata": {
        "id": "KZmRixV_o0Jw"
      },
      "source": [
        "import pandas as pd\n",
        "import os"
      ],
      "execution_count": null,
      "outputs": []
    },
    {
      "cell_type": "code",
      "metadata": {
        "colab": {
          "base_uri": "https://localhost:8080/"
        },
        "id": "BZaeBFmzp6zA",
        "outputId": "a33995c3-4dbb-48d9-ce21-7bbeb84449ff"
      },
      "source": [
        "from google.colab import drive\n",
        "drive.mount('/content/drive')\n",
        "path = '/content/drive/MyDrive/BSC_DPDM23/File'"
      ],
      "execution_count": null,
      "outputs": [
        {
          "output_type": "stream",
          "name": "stdout",
          "text": [
            "Drive already mounted at /content/drive; to attempt to forcibly remount, call drive.mount(\"/content/drive\", force_remount=True).\n"
          ]
        }
      ]
    },
    {
      "cell_type": "code",
      "metadata": {
        "id": "ikJazGz6qAn7"
      },
      "source": [
        "data = pd.read_csv(os.path.join(path,'reduced_marketbasket.csv'),encoding='latin-1')"
      ],
      "execution_count": null,
      "outputs": []
    },
    {
      "cell_type": "code",
      "metadata": {
        "colab": {
          "base_uri": "https://localhost:8080/",
          "height": 424
        },
        "id": "vVP_s3oxqNnU",
        "outputId": "3315668c-5fc7-4d1c-b494-586f4d039bb3"
      },
      "source": [
        "data"
      ],
      "execution_count": null,
      "outputs": [
        {
          "output_type": "execute_result",
          "data": {
            "text/plain": [
              "       InvoiceNo StockCode                          Description  Quantity  \\\n",
              "0         536365    85123A   WHITE HANGING HEART T-LIGHT HOLDER         6   \n",
              "1         536365     71053                  WHITE METAL LANTERN         6   \n",
              "2         536365    84406B       CREAM CUPID HEARTS COAT HANGER         8   \n",
              "3         536365    84029G  KNITTED UNION FLAG HOT WATER BOTTLE         6   \n",
              "4         536365    84029E       RED WOOLLY HOTTIE WHITE HEART.         6   \n",
              "...          ...       ...                                  ...       ...   \n",
              "541904    581587     22613          PACK OF 20 SPACEBOY NAPKINS        12   \n",
              "541905    581587     22899         CHILDREN'S APRON DOLLY GIRL          6   \n",
              "541906    581587     23254        CHILDRENS CUTLERY DOLLY GIRL          4   \n",
              "541907    581587     23255      CHILDRENS CUTLERY CIRCUS PARADE         4   \n",
              "541908    581587     22138        BAKING SET 9 PIECE RETROSPOT          3   \n",
              "\n",
              "             InvoiceDate  UnitPrice  CustomerID         Country  \n",
              "0       12/01/2010 08:26       2.55     17850.0  United Kingdom  \n",
              "1       12/01/2010 08:26       3.39     17850.0  United Kingdom  \n",
              "2       12/01/2010 08:26       2.75     17850.0  United Kingdom  \n",
              "3       12/01/2010 08:26       3.39     17850.0  United Kingdom  \n",
              "4       12/01/2010 08:26       3.39     17850.0  United Kingdom  \n",
              "...                  ...        ...         ...             ...  \n",
              "541904  12/09/2011 12:50       0.85     12680.0          France  \n",
              "541905  12/09/2011 12:50       2.10     12680.0          France  \n",
              "541906  12/09/2011 12:50       4.15     12680.0          France  \n",
              "541907  12/09/2011 12:50       4.15     12680.0          France  \n",
              "541908  12/09/2011 12:50       4.95     12680.0          France  \n",
              "\n",
              "[541909 rows x 8 columns]"
            ],
            "text/html": [
              "\n",
              "  <div id=\"df-17913e3d-69c7-4811-b19e-18b8d01dc968\" class=\"colab-df-container\">\n",
              "    <div>\n",
              "<style scoped>\n",
              "    .dataframe tbody tr th:only-of-type {\n",
              "        vertical-align: middle;\n",
              "    }\n",
              "\n",
              "    .dataframe tbody tr th {\n",
              "        vertical-align: top;\n",
              "    }\n",
              "\n",
              "    .dataframe thead th {\n",
              "        text-align: right;\n",
              "    }\n",
              "</style>\n",
              "<table border=\"1\" class=\"dataframe\">\n",
              "  <thead>\n",
              "    <tr style=\"text-align: right;\">\n",
              "      <th></th>\n",
              "      <th>InvoiceNo</th>\n",
              "      <th>StockCode</th>\n",
              "      <th>Description</th>\n",
              "      <th>Quantity</th>\n",
              "      <th>InvoiceDate</th>\n",
              "      <th>UnitPrice</th>\n",
              "      <th>CustomerID</th>\n",
              "      <th>Country</th>\n",
              "    </tr>\n",
              "  </thead>\n",
              "  <tbody>\n",
              "    <tr>\n",
              "      <th>0</th>\n",
              "      <td>536365</td>\n",
              "      <td>85123A</td>\n",
              "      <td>WHITE HANGING HEART T-LIGHT HOLDER</td>\n",
              "      <td>6</td>\n",
              "      <td>12/01/2010 08:26</td>\n",
              "      <td>2.55</td>\n",
              "      <td>17850.0</td>\n",
              "      <td>United Kingdom</td>\n",
              "    </tr>\n",
              "    <tr>\n",
              "      <th>1</th>\n",
              "      <td>536365</td>\n",
              "      <td>71053</td>\n",
              "      <td>WHITE METAL LANTERN</td>\n",
              "      <td>6</td>\n",
              "      <td>12/01/2010 08:26</td>\n",
              "      <td>3.39</td>\n",
              "      <td>17850.0</td>\n",
              "      <td>United Kingdom</td>\n",
              "    </tr>\n",
              "    <tr>\n",
              "      <th>2</th>\n",
              "      <td>536365</td>\n",
              "      <td>84406B</td>\n",
              "      <td>CREAM CUPID HEARTS COAT HANGER</td>\n",
              "      <td>8</td>\n",
              "      <td>12/01/2010 08:26</td>\n",
              "      <td>2.75</td>\n",
              "      <td>17850.0</td>\n",
              "      <td>United Kingdom</td>\n",
              "    </tr>\n",
              "    <tr>\n",
              "      <th>3</th>\n",
              "      <td>536365</td>\n",
              "      <td>84029G</td>\n",
              "      <td>KNITTED UNION FLAG HOT WATER BOTTLE</td>\n",
              "      <td>6</td>\n",
              "      <td>12/01/2010 08:26</td>\n",
              "      <td>3.39</td>\n",
              "      <td>17850.0</td>\n",
              "      <td>United Kingdom</td>\n",
              "    </tr>\n",
              "    <tr>\n",
              "      <th>4</th>\n",
              "      <td>536365</td>\n",
              "      <td>84029E</td>\n",
              "      <td>RED WOOLLY HOTTIE WHITE HEART.</td>\n",
              "      <td>6</td>\n",
              "      <td>12/01/2010 08:26</td>\n",
              "      <td>3.39</td>\n",
              "      <td>17850.0</td>\n",
              "      <td>United Kingdom</td>\n",
              "    </tr>\n",
              "    <tr>\n",
              "      <th>...</th>\n",
              "      <td>...</td>\n",
              "      <td>...</td>\n",
              "      <td>...</td>\n",
              "      <td>...</td>\n",
              "      <td>...</td>\n",
              "      <td>...</td>\n",
              "      <td>...</td>\n",
              "      <td>...</td>\n",
              "    </tr>\n",
              "    <tr>\n",
              "      <th>541904</th>\n",
              "      <td>581587</td>\n",
              "      <td>22613</td>\n",
              "      <td>PACK OF 20 SPACEBOY NAPKINS</td>\n",
              "      <td>12</td>\n",
              "      <td>12/09/2011 12:50</td>\n",
              "      <td>0.85</td>\n",
              "      <td>12680.0</td>\n",
              "      <td>France</td>\n",
              "    </tr>\n",
              "    <tr>\n",
              "      <th>541905</th>\n",
              "      <td>581587</td>\n",
              "      <td>22899</td>\n",
              "      <td>CHILDREN'S APRON DOLLY GIRL</td>\n",
              "      <td>6</td>\n",
              "      <td>12/09/2011 12:50</td>\n",
              "      <td>2.10</td>\n",
              "      <td>12680.0</td>\n",
              "      <td>France</td>\n",
              "    </tr>\n",
              "    <tr>\n",
              "      <th>541906</th>\n",
              "      <td>581587</td>\n",
              "      <td>23254</td>\n",
              "      <td>CHILDRENS CUTLERY DOLLY GIRL</td>\n",
              "      <td>4</td>\n",
              "      <td>12/09/2011 12:50</td>\n",
              "      <td>4.15</td>\n",
              "      <td>12680.0</td>\n",
              "      <td>France</td>\n",
              "    </tr>\n",
              "    <tr>\n",
              "      <th>541907</th>\n",
              "      <td>581587</td>\n",
              "      <td>23255</td>\n",
              "      <td>CHILDRENS CUTLERY CIRCUS PARADE</td>\n",
              "      <td>4</td>\n",
              "      <td>12/09/2011 12:50</td>\n",
              "      <td>4.15</td>\n",
              "      <td>12680.0</td>\n",
              "      <td>France</td>\n",
              "    </tr>\n",
              "    <tr>\n",
              "      <th>541908</th>\n",
              "      <td>581587</td>\n",
              "      <td>22138</td>\n",
              "      <td>BAKING SET 9 PIECE RETROSPOT</td>\n",
              "      <td>3</td>\n",
              "      <td>12/09/2011 12:50</td>\n",
              "      <td>4.95</td>\n",
              "      <td>12680.0</td>\n",
              "      <td>France</td>\n",
              "    </tr>\n",
              "  </tbody>\n",
              "</table>\n",
              "<p>541909 rows × 8 columns</p>\n",
              "</div>\n",
              "    <div class=\"colab-df-buttons\">\n",
              "\n",
              "  <div class=\"colab-df-container\">\n",
              "    <button class=\"colab-df-convert\" onclick=\"convertToInteractive('df-17913e3d-69c7-4811-b19e-18b8d01dc968')\"\n",
              "            title=\"Convert this dataframe to an interactive table.\"\n",
              "            style=\"display:none;\">\n",
              "\n",
              "  <svg xmlns=\"http://www.w3.org/2000/svg\" height=\"24px\" viewBox=\"0 -960 960 960\">\n",
              "    <path d=\"M120-120v-720h720v720H120Zm60-500h600v-160H180v160Zm220 220h160v-160H400v160Zm0 220h160v-160H400v160ZM180-400h160v-160H180v160Zm440 0h160v-160H620v160ZM180-180h160v-160H180v160Zm440 0h160v-160H620v160Z\"/>\n",
              "  </svg>\n",
              "    </button>\n",
              "\n",
              "  <style>\n",
              "    .colab-df-container {\n",
              "      display:flex;\n",
              "      gap: 12px;\n",
              "    }\n",
              "\n",
              "    .colab-df-convert {\n",
              "      background-color: #E8F0FE;\n",
              "      border: none;\n",
              "      border-radius: 50%;\n",
              "      cursor: pointer;\n",
              "      display: none;\n",
              "      fill: #1967D2;\n",
              "      height: 32px;\n",
              "      padding: 0 0 0 0;\n",
              "      width: 32px;\n",
              "    }\n",
              "\n",
              "    .colab-df-convert:hover {\n",
              "      background-color: #E2EBFA;\n",
              "      box-shadow: 0px 1px 2px rgba(60, 64, 67, 0.3), 0px 1px 3px 1px rgba(60, 64, 67, 0.15);\n",
              "      fill: #174EA6;\n",
              "    }\n",
              "\n",
              "    .colab-df-buttons div {\n",
              "      margin-bottom: 4px;\n",
              "    }\n",
              "\n",
              "    [theme=dark] .colab-df-convert {\n",
              "      background-color: #3B4455;\n",
              "      fill: #D2E3FC;\n",
              "    }\n",
              "\n",
              "    [theme=dark] .colab-df-convert:hover {\n",
              "      background-color: #434B5C;\n",
              "      box-shadow: 0px 1px 3px 1px rgba(0, 0, 0, 0.15);\n",
              "      filter: drop-shadow(0px 1px 2px rgba(0, 0, 0, 0.3));\n",
              "      fill: #FFFFFF;\n",
              "    }\n",
              "  </style>\n",
              "\n",
              "    <script>\n",
              "      const buttonEl =\n",
              "        document.querySelector('#df-17913e3d-69c7-4811-b19e-18b8d01dc968 button.colab-df-convert');\n",
              "      buttonEl.style.display =\n",
              "        google.colab.kernel.accessAllowed ? 'block' : 'none';\n",
              "\n",
              "      async function convertToInteractive(key) {\n",
              "        const element = document.querySelector('#df-17913e3d-69c7-4811-b19e-18b8d01dc968');\n",
              "        const dataTable =\n",
              "          await google.colab.kernel.invokeFunction('convertToInteractive',\n",
              "                                                    [key], {});\n",
              "        if (!dataTable) return;\n",
              "\n",
              "        const docLinkHtml = 'Like what you see? Visit the ' +\n",
              "          '<a target=\"_blank\" href=https://colab.research.google.com/notebooks/data_table.ipynb>data table notebook</a>'\n",
              "          + ' to learn more about interactive tables.';\n",
              "        element.innerHTML = '';\n",
              "        dataTable['output_type'] = 'display_data';\n",
              "        await google.colab.output.renderOutput(dataTable, element);\n",
              "        const docLink = document.createElement('div');\n",
              "        docLink.innerHTML = docLinkHtml;\n",
              "        element.appendChild(docLink);\n",
              "      }\n",
              "    </script>\n",
              "  </div>\n",
              "\n",
              "\n",
              "<div id=\"df-8491d442-cfcc-47a2-9125-84de3e86e350\">\n",
              "  <button class=\"colab-df-quickchart\" onclick=\"quickchart('df-8491d442-cfcc-47a2-9125-84de3e86e350')\"\n",
              "            title=\"Suggest charts\"\n",
              "            style=\"display:none;\">\n",
              "\n",
              "<svg xmlns=\"http://www.w3.org/2000/svg\" height=\"24px\"viewBox=\"0 0 24 24\"\n",
              "     width=\"24px\">\n",
              "    <g>\n",
              "        <path d=\"M19 3H5c-1.1 0-2 .9-2 2v14c0 1.1.9 2 2 2h14c1.1 0 2-.9 2-2V5c0-1.1-.9-2-2-2zM9 17H7v-7h2v7zm4 0h-2V7h2v10zm4 0h-2v-4h2v4z\"/>\n",
              "    </g>\n",
              "</svg>\n",
              "  </button>\n",
              "\n",
              "<style>\n",
              "  .colab-df-quickchart {\n",
              "      --bg-color: #E8F0FE;\n",
              "      --fill-color: #1967D2;\n",
              "      --hover-bg-color: #E2EBFA;\n",
              "      --hover-fill-color: #174EA6;\n",
              "      --disabled-fill-color: #AAA;\n",
              "      --disabled-bg-color: #DDD;\n",
              "  }\n",
              "\n",
              "  [theme=dark] .colab-df-quickchart {\n",
              "      --bg-color: #3B4455;\n",
              "      --fill-color: #D2E3FC;\n",
              "      --hover-bg-color: #434B5C;\n",
              "      --hover-fill-color: #FFFFFF;\n",
              "      --disabled-bg-color: #3B4455;\n",
              "      --disabled-fill-color: #666;\n",
              "  }\n",
              "\n",
              "  .colab-df-quickchart {\n",
              "    background-color: var(--bg-color);\n",
              "    border: none;\n",
              "    border-radius: 50%;\n",
              "    cursor: pointer;\n",
              "    display: none;\n",
              "    fill: var(--fill-color);\n",
              "    height: 32px;\n",
              "    padding: 0;\n",
              "    width: 32px;\n",
              "  }\n",
              "\n",
              "  .colab-df-quickchart:hover {\n",
              "    background-color: var(--hover-bg-color);\n",
              "    box-shadow: 0 1px 2px rgba(60, 64, 67, 0.3), 0 1px 3px 1px rgba(60, 64, 67, 0.15);\n",
              "    fill: var(--button-hover-fill-color);\n",
              "  }\n",
              "\n",
              "  .colab-df-quickchart-complete:disabled,\n",
              "  .colab-df-quickchart-complete:disabled:hover {\n",
              "    background-color: var(--disabled-bg-color);\n",
              "    fill: var(--disabled-fill-color);\n",
              "    box-shadow: none;\n",
              "  }\n",
              "\n",
              "  .colab-df-spinner {\n",
              "    border: 2px solid var(--fill-color);\n",
              "    border-color: transparent;\n",
              "    border-bottom-color: var(--fill-color);\n",
              "    animation:\n",
              "      spin 1s steps(1) infinite;\n",
              "  }\n",
              "\n",
              "  @keyframes spin {\n",
              "    0% {\n",
              "      border-color: transparent;\n",
              "      border-bottom-color: var(--fill-color);\n",
              "      border-left-color: var(--fill-color);\n",
              "    }\n",
              "    20% {\n",
              "      border-color: transparent;\n",
              "      border-left-color: var(--fill-color);\n",
              "      border-top-color: var(--fill-color);\n",
              "    }\n",
              "    30% {\n",
              "      border-color: transparent;\n",
              "      border-left-color: var(--fill-color);\n",
              "      border-top-color: var(--fill-color);\n",
              "      border-right-color: var(--fill-color);\n",
              "    }\n",
              "    40% {\n",
              "      border-color: transparent;\n",
              "      border-right-color: var(--fill-color);\n",
              "      border-top-color: var(--fill-color);\n",
              "    }\n",
              "    60% {\n",
              "      border-color: transparent;\n",
              "      border-right-color: var(--fill-color);\n",
              "    }\n",
              "    80% {\n",
              "      border-color: transparent;\n",
              "      border-right-color: var(--fill-color);\n",
              "      border-bottom-color: var(--fill-color);\n",
              "    }\n",
              "    90% {\n",
              "      border-color: transparent;\n",
              "      border-bottom-color: var(--fill-color);\n",
              "    }\n",
              "  }\n",
              "</style>\n",
              "\n",
              "  <script>\n",
              "    async function quickchart(key) {\n",
              "      const quickchartButtonEl =\n",
              "        document.querySelector('#' + key + ' button');\n",
              "      quickchartButtonEl.disabled = true;  // To prevent multiple clicks.\n",
              "      quickchartButtonEl.classList.add('colab-df-spinner');\n",
              "      try {\n",
              "        const charts = await google.colab.kernel.invokeFunction(\n",
              "            'suggestCharts', [key], {});\n",
              "      } catch (error) {\n",
              "        console.error('Error during call to suggestCharts:', error);\n",
              "      }\n",
              "      quickchartButtonEl.classList.remove('colab-df-spinner');\n",
              "      quickchartButtonEl.classList.add('colab-df-quickchart-complete');\n",
              "    }\n",
              "    (() => {\n",
              "      let quickchartButtonEl =\n",
              "        document.querySelector('#df-8491d442-cfcc-47a2-9125-84de3e86e350 button');\n",
              "      quickchartButtonEl.style.display =\n",
              "        google.colab.kernel.accessAllowed ? 'block' : 'none';\n",
              "    })();\n",
              "  </script>\n",
              "</div>\n",
              "    </div>\n",
              "  </div>\n"
            ]
          },
          "metadata": {},
          "execution_count": 98
        }
      ]
    },
    {
      "cell_type": "markdown",
      "source": [
        "## แปลง data ให้อยู่ในรูปแบบ transaction data ด้วย group by .appy(list)"
      ],
      "metadata": {
        "id": "Wkjmmto7WHsg"
      }
    },
    {
      "cell_type": "code",
      "metadata": {
        "colab": {
          "base_uri": "https://localhost:8080/"
        },
        "id": "tgURZufxqOsX",
        "outputId": "249054f4-14f0-4a61-884f-d47e891a0ad5"
      },
      "source": [
        "data.groupby('InvoiceNo')['StockCode'].apply(list)"
      ],
      "execution_count": null,
      "outputs": [
        {
          "output_type": "execute_result",
          "data": {
            "text/plain": [
              "InvoiceNo\n",
              "536365     [85123A, 71053, 84406B, 84029G, 84029E, 22752,...\n",
              "536366                                        [22633, 22632]\n",
              "536367     [84879, 22745, 22748, 22749, 22310, 84969, 226...\n",
              "536368                          [22960, 22913, 22912, 22914]\n",
              "536369                                               [21756]\n",
              "                                 ...                        \n",
              "C581484                                              [23843]\n",
              "C581490                                       [22178, 23144]\n",
              "C581499                                                  [M]\n",
              "C581568                                              [21258]\n",
              "C581569                                       [84978, 20979]\n",
              "Name: StockCode, Length: 25900, dtype: object"
            ]
          },
          "metadata": {},
          "execution_count": 99
        }
      ]
    },
    {
      "cell_type": "code",
      "metadata": {
        "id": "WQJgxn-KuAPL"
      },
      "source": [
        "transactions = data.groupby('InvoiceNo')['StockCode'].apply(list)"
      ],
      "execution_count": null,
      "outputs": []
    },
    {
      "cell_type": "markdown",
      "source": [
        "- ดูประเทศ"
      ],
      "metadata": {
        "id": "9x2p1ASNXher"
      }
    },
    {
      "cell_type": "code",
      "source": [
        "set(data[\"Country\"])"
      ],
      "metadata": {
        "id": "mAv5otxcXkrb",
        "colab": {
          "base_uri": "https://localhost:8080/"
        },
        "outputId": "cee847cb-4a60-4fab-b7be-2cef7647d1f2"
      },
      "execution_count": null,
      "outputs": [
        {
          "output_type": "execute_result",
          "data": {
            "text/plain": [
              "{'Australia',\n",
              " 'Austria',\n",
              " 'Bahrain',\n",
              " 'Belgium',\n",
              " 'Brazil',\n",
              " 'Canada',\n",
              " 'Channel Islands',\n",
              " 'Cyprus',\n",
              " 'Czech Republic',\n",
              " 'Denmark',\n",
              " 'EIRE',\n",
              " 'European Community',\n",
              " 'Finland',\n",
              " 'France',\n",
              " 'Germany',\n",
              " 'Greece',\n",
              " 'Hong Kong',\n",
              " 'Iceland',\n",
              " 'Israel',\n",
              " 'Italy',\n",
              " 'Japan',\n",
              " 'Lebanon',\n",
              " 'Lithuania',\n",
              " 'Malta',\n",
              " 'Netherlands',\n",
              " 'Norway',\n",
              " 'Poland',\n",
              " 'Portugal',\n",
              " 'RSA',\n",
              " 'Saudi Arabia',\n",
              " 'Singapore',\n",
              " 'Spain',\n",
              " 'Sweden',\n",
              " 'Switzerland',\n",
              " 'USA',\n",
              " 'United Arab Emirates',\n",
              " 'United Kingdom',\n",
              " 'Unspecified'}"
            ]
          },
          "metadata": {},
          "execution_count": 101
        }
      ]
    },
    {
      "cell_type": "markdown",
      "metadata": {
        "id": "TqkZl7tUsgUT"
      },
      "source": [
        "## Association Rules"
      ]
    },
    {
      "cell_type": "code",
      "metadata": {
        "colab": {
          "base_uri": "https://localhost:8080/"
        },
        "id": "kxLayaaAtkh8",
        "outputId": "60adad4a-3cda-478a-f955-a898654b35a7"
      },
      "source": [
        "!pip install apyori"
      ],
      "execution_count": null,
      "outputs": [
        {
          "output_type": "stream",
          "name": "stdout",
          "text": [
            "Requirement already satisfied: apyori in /usr/local/lib/python3.10/dist-packages (1.1.2)\n"
          ]
        }
      ]
    },
    {
      "cell_type": "code",
      "metadata": {
        "id": "MU_DkGZ2sKw_"
      },
      "source": [
        "from apyori import apriori"
      ],
      "execution_count": null,
      "outputs": []
    },
    {
      "cell_type": "code",
      "metadata": {
        "colab": {
          "base_uri": "https://localhost:8080/"
        },
        "id": "Uwysx9eLtg7H",
        "outputId": "c7afb574-c53c-44be-bc18-8acf2f2ef30f"
      },
      "source": [
        "frequentItemsets = list(apriori(transactions,min_support = 0.065))\n",
        "frequentItemsets"
      ],
      "execution_count": null,
      "outputs": [
        {
          "output_type": "execute_result",
          "data": {
            "text/plain": [
              "[RelationRecord(items=frozenset({'22423'}), support=0.08386100386100385, ordered_statistics=[OrderedStatistic(items_base=frozenset(), items_add=frozenset({'22423'}), confidence=0.08386100386100385, lift=1.0)]),\n",
              " RelationRecord(items=frozenset({'47566'}), support=0.06586872586872587, ordered_statistics=[OrderedStatistic(items_base=frozenset(), items_add=frozenset({'47566'}), confidence=0.06586872586872587, lift=1.0)]),\n",
              " RelationRecord(items=frozenset({'85099B'}), support=0.08243243243243244, ordered_statistics=[OrderedStatistic(items_base=frozenset(), items_add=frozenset({'85099B'}), confidence=0.08243243243243244, lift=1.0)]),\n",
              " RelationRecord(items=frozenset({'85123A'}), support=0.08671814671814672, ordered_statistics=[OrderedStatistic(items_base=frozenset(), items_add=frozenset({'85123A'}), confidence=0.08671814671814672, lift=1.0)])]"
            ]
          },
          "metadata": {},
          "execution_count": 104
        }
      ]
    },
    {
      "cell_type": "code",
      "metadata": {
        "id": "Cy62VyRYubh1",
        "outputId": "2fc1af66-6482-4451-bffb-2b4ed40bf250",
        "colab": {
          "base_uri": "https://localhost:8080/"
        }
      },
      "source": [
        "len(frequentItemsets)"
      ],
      "execution_count": null,
      "outputs": [
        {
          "output_type": "execute_result",
          "data": {
            "text/plain": [
              "4"
            ]
          },
          "metadata": {},
          "execution_count": 105
        }
      ]
    },
    {
      "cell_type": "code",
      "source": [
        "frequentItemsets[0][0]"
      ],
      "metadata": {
        "id": "KcLWBRQWmuor",
        "outputId": "50185fb7-798d-410f-add2-fa9867549da3",
        "colab": {
          "base_uri": "https://localhost:8080/"
        }
      },
      "execution_count": null,
      "outputs": [
        {
          "output_type": "execute_result",
          "data": {
            "text/plain": [
              "frozenset({'22423'})"
            ]
          },
          "metadata": {},
          "execution_count": 106
        }
      ]
    },
    {
      "cell_type": "code",
      "source": [
        "# dir(frequentItemsets[0][0])"
      ],
      "metadata": {
        "id": "GJl8vZ_dm92S"
      },
      "execution_count": null,
      "outputs": []
    },
    {
      "cell_type": "code",
      "source": [
        "frequentItemsets[0][0].__len__()"
      ],
      "metadata": {
        "id": "XJalbowGoIZJ",
        "outputId": "84206bfe-e370-4f72-8e9a-c3c0f582da9a",
        "colab": {
          "base_uri": "https://localhost:8080/"
        }
      },
      "execution_count": null,
      "outputs": [
        {
          "output_type": "execute_result",
          "data": {
            "text/plain": [
              "1"
            ]
          },
          "metadata": {},
          "execution_count": 108
        }
      ]
    },
    {
      "cell_type": "code",
      "source": [
        "min_sup = 0.03\n",
        "\n",
        "frequentItemsets = list(apriori(transactions,min_support = min_sup))\n",
        "for i in frequentItemsets:\n",
        "    if i[0].__len__()>1:\n",
        "        print('yes')\n",
        "        print(i)"
      ],
      "metadata": {
        "id": "jM2C0KM3oVNE",
        "outputId": "b40a10d3-ef13-4772-d73b-ce0722ce20de",
        "colab": {
          "base_uri": "https://localhost:8080/"
        }
      },
      "execution_count": null,
      "outputs": [
        {
          "output_type": "stream",
          "name": "stdout",
          "text": [
            "yes\n",
            "RelationRecord(items=frozenset({'22386', '85099B'}), support=0.03216216216216216, ordered_statistics=[OrderedStatistic(items_base=frozenset(), items_add=frozenset({'22386', '85099B'}), confidence=0.03216216216216216, lift=1.0), OrderedStatistic(items_base=frozenset({'22386'}), items_add=frozenset({'85099B'}), confidence=0.6766856214459789, lift=8.20897311262335), OrderedStatistic(items_base=frozenset({'85099B'}), items_add=frozenset({'22386'}), confidence=0.39016393442622943, lift=8.20897311262335)])\n",
            "yes\n",
            "RelationRecord(items=frozenset({'22697', '22699'}), support=0.03027027027027027, ordered_statistics=[OrderedStatistic(items_base=frozenset(), items_add=frozenset({'22697', '22699'}), confidence=0.03027027027027027, lift=1.0), OrderedStatistic(items_base=frozenset({'22697'}), items_add=frozenset({'22699'}), confidence=0.7417218543046358, lift=17.1523178807947), OrderedStatistic(items_base=frozenset({'22699'}), items_add=frozenset({'22697'}), confidence=0.7, lift=17.1523178807947)])\n"
          ]
        }
      ]
    },
    {
      "cell_type": "markdown",
      "source": [
        "RelationRecord(items=frozenset({'22386', '85099B'}),\n",
        "\n",
        "support=0.03216216216216216,\n",
        "\n",
        "ordered_statistics=[OrderedStatistic(items_base=frozenset(), items_add=frozenset({'22386', '85099B'}), confidence=0.03216216216216216, lift=1.0),\n",
        "\n",
        "OrderedStatistic(items_base=frozenset({'22386'}), items_add=frozenset({'85099B'}), confidence=0.6766856214459789, lift=8.20897311262335),\n",
        "\n",
        "OrderedStatistic(items_base=frozenset({'85099B'}), items_add=frozenset({'22386'}), confidence=0.39016393442622943, lift=8.20897311262335)])\n"
      ],
      "metadata": {
        "id": "G1folVtqpH_v"
      }
    },
    {
      "cell_type": "code",
      "source": [
        "set(data[(data['StockCode']=='22386') | (data['StockCode']=='85099B') | (data['StockCode']=='22699') | (data['StockCode']=='22697') ]['Description'])"
      ],
      "metadata": {
        "id": "OC4mSCPGo19r",
        "outputId": "49bddbd9-3d96-4b09-ab3c-646e7d1beff5",
        "colab": {
          "base_uri": "https://localhost:8080/"
        }
      },
      "execution_count": null,
      "outputs": [
        {
          "output_type": "execute_result",
          "data": {
            "text/plain": [
              "{'GREEN REGENCY TEACUP AND SAUCER',\n",
              " 'JUMBO BAG PINK POLKADOT',\n",
              " 'JUMBO BAG RED RETROSPOT',\n",
              " 'ROSES REGENCY TEACUP AND SAUCER '}"
            ]
          },
          "metadata": {},
          "execution_count": 110
        }
      ]
    },
    {
      "cell_type": "markdown",
      "source": [
        "RelationRecord(items=frozenset({'22699', '22697'}), support=0.03027027027027027,\n",
        "\n",
        "ordered_statistics=[OrderedStatistic(items_base=frozenset(), items_add=frozenset({'22699', '22697'}), confidence=0.03027027027027027, lift=1.0),\n",
        "\n",
        "OrderedStatistic(items_base=frozenset({'22697'}), items_add=frozenset({'22699'}), confidence=0.7417218543046358, lift=17.1523178807947),\n",
        "\n",
        "OrderedStatistic(items_base=frozenset({'22699'}), items_add=frozenset({'22697'}), confidence=0.7, lift=17.1523178807947)])"
      ],
      "metadata": {
        "id": "dYvCIbEVtyZy"
      }
    },
    {
      "cell_type": "code",
      "source": [
        "# set(data[(data['StockCode']=='22699') | (data['StockCode']=='22697')]['InvoiceNo'])"
      ],
      "metadata": {
        "id": "E7jOT-C3tYD0"
      },
      "execution_count": null,
      "outputs": []
    },
    {
      "cell_type": "code",
      "source": [
        "data[data['InvoiceNo']=='562950']"
      ],
      "metadata": {
        "id": "HazWszWkuW2o",
        "outputId": "6a331723-986f-4b06-c3ac-89bbb63d4db9",
        "colab": {
          "base_uri": "https://localhost:8080/",
          "height": 614
        }
      },
      "execution_count": null,
      "outputs": [
        {
          "output_type": "execute_result",
          "data": {
            "text/plain": [
              "       InvoiceNo StockCode                         Description  Quantity  \\\n",
              "297488    562950     22752        SET 7 BABUSHKA NESTING BOXES         2   \n",
              "297489    562950     22755     SMALL PURPLE BABUSHKA NOTEBOOK         12   \n",
              "297490    562950     22753     SMALL YELLOW BABUSHKA NOTEBOOK         12   \n",
              "297491    562950     22754        SMALL RED BABUSHKA NOTEBOOK         12   \n",
              "297492    562950     22757        LARGE RED BABUSHKA NOTEBOOK         12   \n",
              "297493    562950     22758    LARGE PURPLE BABUSHKA NOTEBOOK          12   \n",
              "297494    562950     22756     LARGE YELLOW BABUSHKA NOTEBOOK         12   \n",
              "297495    562950     23310             BUBBLEGUM RING ASSORTED        36   \n",
              "297496    562950     23280  FOLDING BUTTERFLY MIRROR HOT PINK         12   \n",
              "297497    562950     22383              LUNCH BAG SUKI DESIGN         10   \n",
              "297498    562950     22492             MINI PAINT SET VINTAGE         36   \n",
              "297499    562950     71459      HANGING JAM JAR T-LIGHT HOLDER        12   \n",
              "297500    562950     84945  MULTI COLOUR SILVER T-LIGHT HOLDER        12   \n",
              "297501    562950     21175         GIN + TONIC DIET METAL SIGN        12   \n",
              "297502    562950     23164                  REGENCY CAKE SLICE         4   \n",
              "297503    562950     23245          SET OF 3 REGENCY CAKE TINS         4   \n",
              "297504    562950     23171            REGENCY TEA PLATE GREEN         12   \n",
              "297505    562950     22697     GREEN REGENCY TEACUP AND SAUCER         6   \n",
              "\n",
              "             InvoiceDate  UnitPrice  CustomerID         Country  \n",
              "297488  08/11/2011 09:56       8.50     15608.0  United Kingdom  \n",
              "297489  08/11/2011 09:56       0.85     15608.0  United Kingdom  \n",
              "297490  08/11/2011 09:56       0.85     15608.0  United Kingdom  \n",
              "297491  08/11/2011 09:56       0.85     15608.0  United Kingdom  \n",
              "297492  08/11/2011 09:56       1.25     15608.0  United Kingdom  \n",
              "297493  08/11/2011 09:56       1.25     15608.0  United Kingdom  \n",
              "297494  08/11/2011 09:56       1.25     15608.0  United Kingdom  \n",
              "297495  08/11/2011 09:56       0.42     15608.0  United Kingdom  \n",
              "297496  08/11/2011 09:56       0.83     15608.0  United Kingdom  \n",
              "297497  08/11/2011 09:56       1.65     15608.0  United Kingdom  \n",
              "297498  08/11/2011 09:56       0.65     15608.0  United Kingdom  \n",
              "297499  08/11/2011 09:56       0.85     15608.0  United Kingdom  \n",
              "297500  08/11/2011 09:56       0.85     15608.0  United Kingdom  \n",
              "297501  08/11/2011 09:56       2.55     15608.0  United Kingdom  \n",
              "297502  08/11/2011 09:56       4.95     15608.0  United Kingdom  \n",
              "297503  08/11/2011 09:56       4.95     15608.0  United Kingdom  \n",
              "297504  08/11/2011 09:56       1.65     15608.0  United Kingdom  \n",
              "297505  08/11/2011 09:56       2.95     15608.0  United Kingdom  "
            ],
            "text/html": [
              "\n",
              "  <div id=\"df-c2671c4b-37be-4ca3-8bdf-676f2ed79aa3\" class=\"colab-df-container\">\n",
              "    <div>\n",
              "<style scoped>\n",
              "    .dataframe tbody tr th:only-of-type {\n",
              "        vertical-align: middle;\n",
              "    }\n",
              "\n",
              "    .dataframe tbody tr th {\n",
              "        vertical-align: top;\n",
              "    }\n",
              "\n",
              "    .dataframe thead th {\n",
              "        text-align: right;\n",
              "    }\n",
              "</style>\n",
              "<table border=\"1\" class=\"dataframe\">\n",
              "  <thead>\n",
              "    <tr style=\"text-align: right;\">\n",
              "      <th></th>\n",
              "      <th>InvoiceNo</th>\n",
              "      <th>StockCode</th>\n",
              "      <th>Description</th>\n",
              "      <th>Quantity</th>\n",
              "      <th>InvoiceDate</th>\n",
              "      <th>UnitPrice</th>\n",
              "      <th>CustomerID</th>\n",
              "      <th>Country</th>\n",
              "    </tr>\n",
              "  </thead>\n",
              "  <tbody>\n",
              "    <tr>\n",
              "      <th>297488</th>\n",
              "      <td>562950</td>\n",
              "      <td>22752</td>\n",
              "      <td>SET 7 BABUSHKA NESTING BOXES</td>\n",
              "      <td>2</td>\n",
              "      <td>08/11/2011 09:56</td>\n",
              "      <td>8.50</td>\n",
              "      <td>15608.0</td>\n",
              "      <td>United Kingdom</td>\n",
              "    </tr>\n",
              "    <tr>\n",
              "      <th>297489</th>\n",
              "      <td>562950</td>\n",
              "      <td>22755</td>\n",
              "      <td>SMALL PURPLE BABUSHKA NOTEBOOK</td>\n",
              "      <td>12</td>\n",
              "      <td>08/11/2011 09:56</td>\n",
              "      <td>0.85</td>\n",
              "      <td>15608.0</td>\n",
              "      <td>United Kingdom</td>\n",
              "    </tr>\n",
              "    <tr>\n",
              "      <th>297490</th>\n",
              "      <td>562950</td>\n",
              "      <td>22753</td>\n",
              "      <td>SMALL YELLOW BABUSHKA NOTEBOOK</td>\n",
              "      <td>12</td>\n",
              "      <td>08/11/2011 09:56</td>\n",
              "      <td>0.85</td>\n",
              "      <td>15608.0</td>\n",
              "      <td>United Kingdom</td>\n",
              "    </tr>\n",
              "    <tr>\n",
              "      <th>297491</th>\n",
              "      <td>562950</td>\n",
              "      <td>22754</td>\n",
              "      <td>SMALL RED BABUSHKA NOTEBOOK</td>\n",
              "      <td>12</td>\n",
              "      <td>08/11/2011 09:56</td>\n",
              "      <td>0.85</td>\n",
              "      <td>15608.0</td>\n",
              "      <td>United Kingdom</td>\n",
              "    </tr>\n",
              "    <tr>\n",
              "      <th>297492</th>\n",
              "      <td>562950</td>\n",
              "      <td>22757</td>\n",
              "      <td>LARGE RED BABUSHKA NOTEBOOK</td>\n",
              "      <td>12</td>\n",
              "      <td>08/11/2011 09:56</td>\n",
              "      <td>1.25</td>\n",
              "      <td>15608.0</td>\n",
              "      <td>United Kingdom</td>\n",
              "    </tr>\n",
              "    <tr>\n",
              "      <th>297493</th>\n",
              "      <td>562950</td>\n",
              "      <td>22758</td>\n",
              "      <td>LARGE PURPLE BABUSHKA NOTEBOOK</td>\n",
              "      <td>12</td>\n",
              "      <td>08/11/2011 09:56</td>\n",
              "      <td>1.25</td>\n",
              "      <td>15608.0</td>\n",
              "      <td>United Kingdom</td>\n",
              "    </tr>\n",
              "    <tr>\n",
              "      <th>297494</th>\n",
              "      <td>562950</td>\n",
              "      <td>22756</td>\n",
              "      <td>LARGE YELLOW BABUSHKA NOTEBOOK</td>\n",
              "      <td>12</td>\n",
              "      <td>08/11/2011 09:56</td>\n",
              "      <td>1.25</td>\n",
              "      <td>15608.0</td>\n",
              "      <td>United Kingdom</td>\n",
              "    </tr>\n",
              "    <tr>\n",
              "      <th>297495</th>\n",
              "      <td>562950</td>\n",
              "      <td>23310</td>\n",
              "      <td>BUBBLEGUM RING ASSORTED</td>\n",
              "      <td>36</td>\n",
              "      <td>08/11/2011 09:56</td>\n",
              "      <td>0.42</td>\n",
              "      <td>15608.0</td>\n",
              "      <td>United Kingdom</td>\n",
              "    </tr>\n",
              "    <tr>\n",
              "      <th>297496</th>\n",
              "      <td>562950</td>\n",
              "      <td>23280</td>\n",
              "      <td>FOLDING BUTTERFLY MIRROR HOT PINK</td>\n",
              "      <td>12</td>\n",
              "      <td>08/11/2011 09:56</td>\n",
              "      <td>0.83</td>\n",
              "      <td>15608.0</td>\n",
              "      <td>United Kingdom</td>\n",
              "    </tr>\n",
              "    <tr>\n",
              "      <th>297497</th>\n",
              "      <td>562950</td>\n",
              "      <td>22383</td>\n",
              "      <td>LUNCH BAG SUKI DESIGN</td>\n",
              "      <td>10</td>\n",
              "      <td>08/11/2011 09:56</td>\n",
              "      <td>1.65</td>\n",
              "      <td>15608.0</td>\n",
              "      <td>United Kingdom</td>\n",
              "    </tr>\n",
              "    <tr>\n",
              "      <th>297498</th>\n",
              "      <td>562950</td>\n",
              "      <td>22492</td>\n",
              "      <td>MINI PAINT SET VINTAGE</td>\n",
              "      <td>36</td>\n",
              "      <td>08/11/2011 09:56</td>\n",
              "      <td>0.65</td>\n",
              "      <td>15608.0</td>\n",
              "      <td>United Kingdom</td>\n",
              "    </tr>\n",
              "    <tr>\n",
              "      <th>297499</th>\n",
              "      <td>562950</td>\n",
              "      <td>71459</td>\n",
              "      <td>HANGING JAM JAR T-LIGHT HOLDER</td>\n",
              "      <td>12</td>\n",
              "      <td>08/11/2011 09:56</td>\n",
              "      <td>0.85</td>\n",
              "      <td>15608.0</td>\n",
              "      <td>United Kingdom</td>\n",
              "    </tr>\n",
              "    <tr>\n",
              "      <th>297500</th>\n",
              "      <td>562950</td>\n",
              "      <td>84945</td>\n",
              "      <td>MULTI COLOUR SILVER T-LIGHT HOLDER</td>\n",
              "      <td>12</td>\n",
              "      <td>08/11/2011 09:56</td>\n",
              "      <td>0.85</td>\n",
              "      <td>15608.0</td>\n",
              "      <td>United Kingdom</td>\n",
              "    </tr>\n",
              "    <tr>\n",
              "      <th>297501</th>\n",
              "      <td>562950</td>\n",
              "      <td>21175</td>\n",
              "      <td>GIN + TONIC DIET METAL SIGN</td>\n",
              "      <td>12</td>\n",
              "      <td>08/11/2011 09:56</td>\n",
              "      <td>2.55</td>\n",
              "      <td>15608.0</td>\n",
              "      <td>United Kingdom</td>\n",
              "    </tr>\n",
              "    <tr>\n",
              "      <th>297502</th>\n",
              "      <td>562950</td>\n",
              "      <td>23164</td>\n",
              "      <td>REGENCY CAKE SLICE</td>\n",
              "      <td>4</td>\n",
              "      <td>08/11/2011 09:56</td>\n",
              "      <td>4.95</td>\n",
              "      <td>15608.0</td>\n",
              "      <td>United Kingdom</td>\n",
              "    </tr>\n",
              "    <tr>\n",
              "      <th>297503</th>\n",
              "      <td>562950</td>\n",
              "      <td>23245</td>\n",
              "      <td>SET OF 3 REGENCY CAKE TINS</td>\n",
              "      <td>4</td>\n",
              "      <td>08/11/2011 09:56</td>\n",
              "      <td>4.95</td>\n",
              "      <td>15608.0</td>\n",
              "      <td>United Kingdom</td>\n",
              "    </tr>\n",
              "    <tr>\n",
              "      <th>297504</th>\n",
              "      <td>562950</td>\n",
              "      <td>23171</td>\n",
              "      <td>REGENCY TEA PLATE GREEN</td>\n",
              "      <td>12</td>\n",
              "      <td>08/11/2011 09:56</td>\n",
              "      <td>1.65</td>\n",
              "      <td>15608.0</td>\n",
              "      <td>United Kingdom</td>\n",
              "    </tr>\n",
              "    <tr>\n",
              "      <th>297505</th>\n",
              "      <td>562950</td>\n",
              "      <td>22697</td>\n",
              "      <td>GREEN REGENCY TEACUP AND SAUCER</td>\n",
              "      <td>6</td>\n",
              "      <td>08/11/2011 09:56</td>\n",
              "      <td>2.95</td>\n",
              "      <td>15608.0</td>\n",
              "      <td>United Kingdom</td>\n",
              "    </tr>\n",
              "  </tbody>\n",
              "</table>\n",
              "</div>\n",
              "    <div class=\"colab-df-buttons\">\n",
              "\n",
              "  <div class=\"colab-df-container\">\n",
              "    <button class=\"colab-df-convert\" onclick=\"convertToInteractive('df-c2671c4b-37be-4ca3-8bdf-676f2ed79aa3')\"\n",
              "            title=\"Convert this dataframe to an interactive table.\"\n",
              "            style=\"display:none;\">\n",
              "\n",
              "  <svg xmlns=\"http://www.w3.org/2000/svg\" height=\"24px\" viewBox=\"0 -960 960 960\">\n",
              "    <path d=\"M120-120v-720h720v720H120Zm60-500h600v-160H180v160Zm220 220h160v-160H400v160Zm0 220h160v-160H400v160ZM180-400h160v-160H180v160Zm440 0h160v-160H620v160ZM180-180h160v-160H180v160Zm440 0h160v-160H620v160Z\"/>\n",
              "  </svg>\n",
              "    </button>\n",
              "\n",
              "  <style>\n",
              "    .colab-df-container {\n",
              "      display:flex;\n",
              "      gap: 12px;\n",
              "    }\n",
              "\n",
              "    .colab-df-convert {\n",
              "      background-color: #E8F0FE;\n",
              "      border: none;\n",
              "      border-radius: 50%;\n",
              "      cursor: pointer;\n",
              "      display: none;\n",
              "      fill: #1967D2;\n",
              "      height: 32px;\n",
              "      padding: 0 0 0 0;\n",
              "      width: 32px;\n",
              "    }\n",
              "\n",
              "    .colab-df-convert:hover {\n",
              "      background-color: #E2EBFA;\n",
              "      box-shadow: 0px 1px 2px rgba(60, 64, 67, 0.3), 0px 1px 3px 1px rgba(60, 64, 67, 0.15);\n",
              "      fill: #174EA6;\n",
              "    }\n",
              "\n",
              "    .colab-df-buttons div {\n",
              "      margin-bottom: 4px;\n",
              "    }\n",
              "\n",
              "    [theme=dark] .colab-df-convert {\n",
              "      background-color: #3B4455;\n",
              "      fill: #D2E3FC;\n",
              "    }\n",
              "\n",
              "    [theme=dark] .colab-df-convert:hover {\n",
              "      background-color: #434B5C;\n",
              "      box-shadow: 0px 1px 3px 1px rgba(0, 0, 0, 0.15);\n",
              "      filter: drop-shadow(0px 1px 2px rgba(0, 0, 0, 0.3));\n",
              "      fill: #FFFFFF;\n",
              "    }\n",
              "  </style>\n",
              "\n",
              "    <script>\n",
              "      const buttonEl =\n",
              "        document.querySelector('#df-c2671c4b-37be-4ca3-8bdf-676f2ed79aa3 button.colab-df-convert');\n",
              "      buttonEl.style.display =\n",
              "        google.colab.kernel.accessAllowed ? 'block' : 'none';\n",
              "\n",
              "      async function convertToInteractive(key) {\n",
              "        const element = document.querySelector('#df-c2671c4b-37be-4ca3-8bdf-676f2ed79aa3');\n",
              "        const dataTable =\n",
              "          await google.colab.kernel.invokeFunction('convertToInteractive',\n",
              "                                                    [key], {});\n",
              "        if (!dataTable) return;\n",
              "\n",
              "        const docLinkHtml = 'Like what you see? Visit the ' +\n",
              "          '<a target=\"_blank\" href=https://colab.research.google.com/notebooks/data_table.ipynb>data table notebook</a>'\n",
              "          + ' to learn more about interactive tables.';\n",
              "        element.innerHTML = '';\n",
              "        dataTable['output_type'] = 'display_data';\n",
              "        await google.colab.output.renderOutput(dataTable, element);\n",
              "        const docLink = document.createElement('div');\n",
              "        docLink.innerHTML = docLinkHtml;\n",
              "        element.appendChild(docLink);\n",
              "      }\n",
              "    </script>\n",
              "  </div>\n",
              "\n",
              "\n",
              "<div id=\"df-db2db950-6114-4c52-a15e-5ff8e57db1e8\">\n",
              "  <button class=\"colab-df-quickchart\" onclick=\"quickchart('df-db2db950-6114-4c52-a15e-5ff8e57db1e8')\"\n",
              "            title=\"Suggest charts\"\n",
              "            style=\"display:none;\">\n",
              "\n",
              "<svg xmlns=\"http://www.w3.org/2000/svg\" height=\"24px\"viewBox=\"0 0 24 24\"\n",
              "     width=\"24px\">\n",
              "    <g>\n",
              "        <path d=\"M19 3H5c-1.1 0-2 .9-2 2v14c0 1.1.9 2 2 2h14c1.1 0 2-.9 2-2V5c0-1.1-.9-2-2-2zM9 17H7v-7h2v7zm4 0h-2V7h2v10zm4 0h-2v-4h2v4z\"/>\n",
              "    </g>\n",
              "</svg>\n",
              "  </button>\n",
              "\n",
              "<style>\n",
              "  .colab-df-quickchart {\n",
              "      --bg-color: #E8F0FE;\n",
              "      --fill-color: #1967D2;\n",
              "      --hover-bg-color: #E2EBFA;\n",
              "      --hover-fill-color: #174EA6;\n",
              "      --disabled-fill-color: #AAA;\n",
              "      --disabled-bg-color: #DDD;\n",
              "  }\n",
              "\n",
              "  [theme=dark] .colab-df-quickchart {\n",
              "      --bg-color: #3B4455;\n",
              "      --fill-color: #D2E3FC;\n",
              "      --hover-bg-color: #434B5C;\n",
              "      --hover-fill-color: #FFFFFF;\n",
              "      --disabled-bg-color: #3B4455;\n",
              "      --disabled-fill-color: #666;\n",
              "  }\n",
              "\n",
              "  .colab-df-quickchart {\n",
              "    background-color: var(--bg-color);\n",
              "    border: none;\n",
              "    border-radius: 50%;\n",
              "    cursor: pointer;\n",
              "    display: none;\n",
              "    fill: var(--fill-color);\n",
              "    height: 32px;\n",
              "    padding: 0;\n",
              "    width: 32px;\n",
              "  }\n",
              "\n",
              "  .colab-df-quickchart:hover {\n",
              "    background-color: var(--hover-bg-color);\n",
              "    box-shadow: 0 1px 2px rgba(60, 64, 67, 0.3), 0 1px 3px 1px rgba(60, 64, 67, 0.15);\n",
              "    fill: var(--button-hover-fill-color);\n",
              "  }\n",
              "\n",
              "  .colab-df-quickchart-complete:disabled,\n",
              "  .colab-df-quickchart-complete:disabled:hover {\n",
              "    background-color: var(--disabled-bg-color);\n",
              "    fill: var(--disabled-fill-color);\n",
              "    box-shadow: none;\n",
              "  }\n",
              "\n",
              "  .colab-df-spinner {\n",
              "    border: 2px solid var(--fill-color);\n",
              "    border-color: transparent;\n",
              "    border-bottom-color: var(--fill-color);\n",
              "    animation:\n",
              "      spin 1s steps(1) infinite;\n",
              "  }\n",
              "\n",
              "  @keyframes spin {\n",
              "    0% {\n",
              "      border-color: transparent;\n",
              "      border-bottom-color: var(--fill-color);\n",
              "      border-left-color: var(--fill-color);\n",
              "    }\n",
              "    20% {\n",
              "      border-color: transparent;\n",
              "      border-left-color: var(--fill-color);\n",
              "      border-top-color: var(--fill-color);\n",
              "    }\n",
              "    30% {\n",
              "      border-color: transparent;\n",
              "      border-left-color: var(--fill-color);\n",
              "      border-top-color: var(--fill-color);\n",
              "      border-right-color: var(--fill-color);\n",
              "    }\n",
              "    40% {\n",
              "      border-color: transparent;\n",
              "      border-right-color: var(--fill-color);\n",
              "      border-top-color: var(--fill-color);\n",
              "    }\n",
              "    60% {\n",
              "      border-color: transparent;\n",
              "      border-right-color: var(--fill-color);\n",
              "    }\n",
              "    80% {\n",
              "      border-color: transparent;\n",
              "      border-right-color: var(--fill-color);\n",
              "      border-bottom-color: var(--fill-color);\n",
              "    }\n",
              "    90% {\n",
              "      border-color: transparent;\n",
              "      border-bottom-color: var(--fill-color);\n",
              "    }\n",
              "  }\n",
              "</style>\n",
              "\n",
              "  <script>\n",
              "    async function quickchart(key) {\n",
              "      const quickchartButtonEl =\n",
              "        document.querySelector('#' + key + ' button');\n",
              "      quickchartButtonEl.disabled = true;  // To prevent multiple clicks.\n",
              "      quickchartButtonEl.classList.add('colab-df-spinner');\n",
              "      try {\n",
              "        const charts = await google.colab.kernel.invokeFunction(\n",
              "            'suggestCharts', [key], {});\n",
              "      } catch (error) {\n",
              "        console.error('Error during call to suggestCharts:', error);\n",
              "      }\n",
              "      quickchartButtonEl.classList.remove('colab-df-spinner');\n",
              "      quickchartButtonEl.classList.add('colab-df-quickchart-complete');\n",
              "    }\n",
              "    (() => {\n",
              "      let quickchartButtonEl =\n",
              "        document.querySelector('#df-db2db950-6114-4c52-a15e-5ff8e57db1e8 button');\n",
              "      quickchartButtonEl.style.display =\n",
              "        google.colab.kernel.accessAllowed ? 'block' : 'none';\n",
              "    })();\n",
              "  </script>\n",
              "</div>\n",
              "    </div>\n",
              "  </div>\n"
            ]
          },
          "metadata": {},
          "execution_count": 112
        }
      ]
    },
    {
      "cell_type": "markdown",
      "source": [
        "## quiz 22386 และ 85099b คือสินค้าอะไร"
      ],
      "metadata": {
        "id": "WwuP5uF5bQUX"
      }
    },
    {
      "cell_type": "code",
      "source": [
        "set(data[(data['StockCode']=='22386')  ]['Description'])"
      ],
      "metadata": {
        "id": "5NKnboxUWuIb",
        "outputId": "8bd2b238-ef4a-4a6b-a10b-da0e58fabd04",
        "colab": {
          "base_uri": "https://localhost:8080/"
        }
      },
      "execution_count": null,
      "outputs": [
        {
          "output_type": "execute_result",
          "data": {
            "text/plain": [
              "{'JUMBO BAG PINK POLKADOT'}"
            ]
          },
          "metadata": {},
          "execution_count": 113
        }
      ]
    },
    {
      "cell_type": "code",
      "source": [
        "set(data[(data['StockCode']=='85099B') ]['Description'])"
      ],
      "metadata": {
        "id": "VYpZzrwZdIzO",
        "outputId": "118d019d-d07f-4da7-ad96-9a00ef7da783",
        "colab": {
          "base_uri": "https://localhost:8080/"
        }
      },
      "execution_count": null,
      "outputs": [
        {
          "output_type": "execute_result",
          "data": {
            "text/plain": [
              "{'JUMBO BAG RED RETROSPOT'}"
            ]
          },
          "metadata": {},
          "execution_count": 114
        }
      ]
    },
    {
      "cell_type": "markdown",
      "source": [
        "#Hw หา Frequent Item Set  และ Association Rules\n",
        "- ของช่วงเวลา Chirtmas & New Year(1 Dec -31 Dec)\n",
        "- ของประเทศในทวีป Europe\n",
        "- ของช่วงเวลา ตรุษจีน ในทวีป Asai (15 jan-15 Feb)\n",
        "- ของช่วงเวลา Chirtmas & New Year ในทวีป Europe (1 Dec -31 Dec)\n",
        "- ของวันวาเลนไทน์\n",
        "- โดยจัดกลุ่มตามประเทศ+เดือน"
      ],
      "metadata": {
        "id": "vFzBgO34cSRT"
      }
    },
    {
      "cell_type": "code",
      "source": [
        "!pip install apyori"
      ],
      "metadata": {
        "id": "dQQVNNlf3RTq",
        "outputId": "eb79c279-0562-4cfc-cbf4-8f2a034aa62f",
        "colab": {
          "base_uri": "https://localhost:8080/"
        }
      },
      "execution_count": null,
      "outputs": [
        {
          "output_type": "stream",
          "name": "stdout",
          "text": [
            "Requirement already satisfied: apyori in /usr/local/lib/python3.10/dist-packages (1.1.2)\n"
          ]
        }
      ]
    },
    {
      "cell_type": "code",
      "source": [
        "from apyori import apriori"
      ],
      "metadata": {
        "id": "HWkPbw9u3RTr"
      },
      "execution_count": null,
      "outputs": []
    },
    {
      "cell_type": "code",
      "source": [
        "df = pd.read_csv(os.path.join(path, 'reduced_marketbasket.csv'), encoding='latin-1')\n"
      ],
      "metadata": {
        "id": "B4cSQOb83RTr"
      },
      "execution_count": null,
      "outputs": []
    },
    {
      "cell_type": "markdown",
      "source": [
        "## ข้อ 1. ช่วงเวลา Chirtmas & New Year(1 Dec -31 Dec)"
      ],
      "metadata": {
        "id": "5W3PAhZ1R7uZ"
      }
    },
    {
      "cell_type": "code",
      "source": [
        "# Convert รูปแบบเวลาใน column InvoiceDate ให้อยู่ในรูปที่ต้องการ\n",
        "df['InvoiceDate'] = pd.to_datetime(df['InvoiceDate'], format='%m/%d/%Y %H:%M')\n"
      ],
      "metadata": {
        "id": "AYGUp6zp3RTs"
      },
      "execution_count": null,
      "outputs": []
    },
    {
      "cell_type": "code",
      "source": [
        "# Filter December 1st to December 31st\n",
        "filtered_df = df[(df['InvoiceDate'].dt.month == 12) & (df['InvoiceDate'].dt.day >= 1) & (df['InvoiceDate'].dt.day <= 31)]\n",
        "\n",
        "#ปริ้นเพื่อตรวจสอบ\n",
        "print(filtered_df)"
      ],
      "metadata": {
        "id": "9H7mMjAz3RTs",
        "colab": {
          "base_uri": "https://localhost:8080/"
        },
        "outputId": "1c399888-657c-4b30-cb9c-8e23235984e6"
      },
      "execution_count": null,
      "outputs": [
        {
          "output_type": "stream",
          "name": "stdout",
          "text": [
            "       InvoiceNo StockCode                          Description  Quantity  \\\n",
            "0         536365    85123A   WHITE HANGING HEART T-LIGHT HOLDER         6   \n",
            "1         536365     71053                  WHITE METAL LANTERN         6   \n",
            "2         536365    84406B       CREAM CUPID HEARTS COAT HANGER         8   \n",
            "3         536365    84029G  KNITTED UNION FLAG HOT WATER BOTTLE         6   \n",
            "4         536365    84029E       RED WOOLLY HOTTIE WHITE HEART.         6   \n",
            "...          ...       ...                                  ...       ...   \n",
            "541904    581587     22613          PACK OF 20 SPACEBOY NAPKINS        12   \n",
            "541905    581587     22899         CHILDREN'S APRON DOLLY GIRL          6   \n",
            "541906    581587     23254        CHILDRENS CUTLERY DOLLY GIRL          4   \n",
            "541907    581587     23255      CHILDRENS CUTLERY CIRCUS PARADE         4   \n",
            "541908    581587     22138        BAKING SET 9 PIECE RETROSPOT          3   \n",
            "\n",
            "               InvoiceDate  UnitPrice  CustomerID         Country  \n",
            "0      2010-12-01 08:26:00       2.55     17850.0  United Kingdom  \n",
            "1      2010-12-01 08:26:00       3.39     17850.0  United Kingdom  \n",
            "2      2010-12-01 08:26:00       2.75     17850.0  United Kingdom  \n",
            "3      2010-12-01 08:26:00       3.39     17850.0  United Kingdom  \n",
            "4      2010-12-01 08:26:00       3.39     17850.0  United Kingdom  \n",
            "...                    ...        ...         ...             ...  \n",
            "541904 2011-12-09 12:50:00       0.85     12680.0          France  \n",
            "541905 2011-12-09 12:50:00       2.10     12680.0          France  \n",
            "541906 2011-12-09 12:50:00       4.15     12680.0          France  \n",
            "541907 2011-12-09 12:50:00       4.15     12680.0          France  \n",
            "541908 2011-12-09 12:50:00       4.95     12680.0          France  \n",
            "\n",
            "[68006 rows x 8 columns]\n"
          ]
        }
      ]
    },
    {
      "cell_type": "code",
      "source": [
        "# transactions= filtered_df.groupby('InvoiceNo')['StockCode'].apply(list)\n",
        "# transactions  ### ถ้าใช้ transactions แทน transactions_apply จะเป็นการโชว์ StockCode แทนข้อมูลสินค้า ###"
      ],
      "metadata": {
        "id": "JLbCA56n7x-G"
      },
      "execution_count": null,
      "outputs": []
    },
    {
      "cell_type": "code",
      "source": [
        "transactions = filtered_df.groupby('InvoiceNo')['Description'].apply(list).reset_index() #ทำการ group และทำให้ข้อมูลใน Description เป็นlist\n",
        "transactions_apply = transactions['Description'].apply(lambda x: [str(item) for item in x]) #ใช้ฟังก์ชัน lambda เพื่อแปลงสินค้าทุกชิ้นใน list ของ 'transactions' เป็นข้อความ (string)"
      ],
      "metadata": {
        "id": "x3tyMi2Rg8kt"
      },
      "execution_count": null,
      "outputs": []
    },
    {
      "cell_type": "code",
      "source": [
        "frequentItemset = list(apriori(transactions_apply, min_support=0.035))\n",
        "\n",
        "for record in frequentItemset:\n",
        "    if len(record.items) > 1:\n",
        "        print('yes')\n",
        "        print(f\"Items: {', '.join(record.items)}\")\n",
        "        print(f\"Support: {record.support:.4f} ({record.support*100:.2f}%)\")\n",
        "\n",
        "        for i, stat in enumerate(record.ordered_statistics, 1):\n",
        "            items_base = 'None' if not stat.items_base else ', '.join(stat.items_base)\n",
        "            items_add = ', '.join(stat.items_add)\n",
        "            confidence = stat.confidence\n",
        "            lift = stat.lift\n",
        "\n",
        "            print(f\"Rule {i}: ({items_base} -> {items_add} : Confidence={confidence:.4f}, Lift={lift:.4f})\")\n",
        "        print()\n"
      ],
      "metadata": {
        "outputId": "8ef04922-64ba-4c2b-ffd6-00e1ed36a01a",
        "colab": {
          "base_uri": "https://localhost:8080/"
        },
        "id": "S7GgWw2Eg8ku"
      },
      "execution_count": null,
      "outputs": [
        {
          "output_type": "stream",
          "name": "stdout",
          "text": [
            "yes\n",
            "Items: ALARM CLOCK BAKELIKE RED , ALARM CLOCK BAKELIKE GREEN\n",
            "Support: 0.0368 (3.68%)\n",
            "Rule 1: (None -> ALARM CLOCK BAKELIKE RED , ALARM CLOCK BAKELIKE GREEN : Confidence=0.0368, Lift=1.0000)\n",
            "Rule 2: (ALARM CLOCK BAKELIKE GREEN -> ALARM CLOCK BAKELIKE RED  : Confidence=0.7089, Lift=14.4627)\n",
            "Rule 3: (ALARM CLOCK BAKELIKE RED  -> ALARM CLOCK BAKELIKE GREEN : Confidence=0.7517, Lift=14.4627)\n",
            "\n",
            "yes\n",
            "Items: CHOCOLATE HOT WATER BOTTLE, HOT WATER BOTTLE I AM SO POORLY\n",
            "Support: 0.0365 (3.65%)\n",
            "Rule 1: (None -> CHOCOLATE HOT WATER BOTTLE, HOT WATER BOTTLE I AM SO POORLY : Confidence=0.0365, Lift=1.0000)\n",
            "Rule 2: (CHOCOLATE HOT WATER BOTTLE -> HOT WATER BOTTLE I AM SO POORLY : Confidence=0.5163, Lift=9.7484)\n",
            "Rule 3: (HOT WATER BOTTLE I AM SO POORLY -> CHOCOLATE HOT WATER BOTTLE : Confidence=0.6894, Lift=9.7484)\n",
            "\n",
            "yes\n",
            "Items: PAPER CHAIN KIT 50'S CHRISTMAS , PAPER CHAIN KIT VINTAGE CHRISTMAS\n",
            "Support: 0.0477 (4.77%)\n",
            "Rule 1: (None -> PAPER CHAIN KIT 50'S CHRISTMAS , PAPER CHAIN KIT VINTAGE CHRISTMAS : Confidence=0.0477, Lift=1.0000)\n",
            "Rule 2: (PAPER CHAIN KIT 50'S CHRISTMAS  -> PAPER CHAIN KIT VINTAGE CHRISTMAS : Confidence=0.5160, Lift=7.1958)\n",
            "Rule 3: (PAPER CHAIN KIT VINTAGE CHRISTMAS -> PAPER CHAIN KIT 50'S CHRISTMAS  : Confidence=0.6651, Lift=7.1958)\n",
            "\n"
          ]
        }
      ]
    },
    {
      "cell_type": "markdown",
      "source": [
        "สรุป เลือกอันที่มีค่าสนับสนุนมากที่สุด\n",
        "\n",
        "\n",
        "Items: PAPER CHAIN KIT VINTAGE CHRISTMAS และ PAPER CHAIN KIT 50'S CHRISTMAS ค่าสนับสนุนคือ 0.0477 หรือ 4.77% ของการทำธุรกรรมทั้งหมด\n",
        "\n",
        "- เมื่อ 'PAPER CHAIN KIT 50'S CHRISTMAS' ถูกซื้อ มีความมั่นใจ 51.60% ว่า 'PAPER CHAIN KIT VINTAGE CHRISTMAS' จะถูกซื้อด้วย\n",
        "\n",
        "- เมื่อ 'PAPER CHAIN KIT VINTAGE CHRISTMAS' ถูกซื้อ มีโอกาส 66.51% ว่า 'PAPER CHAIN KIT 50'S CHRISTMAS' จะถูกซื้อด้วย"
      ],
      "metadata": {
        "id": "jA5Pgn7UTzOJ"
      }
    },
    {
      "cell_type": "markdown",
      "source": [
        "## ข้อ 2. ประเทศในทวีป Europe"
      ],
      "metadata": {
        "id": "Jw8xSPJkfZLa"
      }
    },
    {
      "cell_type": "code",
      "source": [
        "europe_countries = {\n",
        "    'Austria', 'Belgium', 'Channel Islands','Cyprus', 'Czech Republic', 'Denmark', 'EIRE',\n",
        "    'European Community', 'Finland', 'France', 'Germany', 'Greece', 'Iceland', 'Italy',\n",
        "    'Lithuania', 'Malta', 'Netherlands', 'Norway', 'Poland', 'Portugal', 'Spain', 'Sweden',\n",
        "    'Switzerland', 'United Kingdom'\n",
        "}"
      ],
      "metadata": {
        "id": "_lBhC4sthU4A"
      },
      "execution_count": null,
      "outputs": []
    },
    {
      "cell_type": "code",
      "source": [
        "# เลือกประเทศจาก european_countries\n",
        "filtered_df2 = df[df['Country'].isin(europe_countries)]\n",
        "\n",
        "# โชว์ datafram เพื่อcheck\n",
        "print(filtered_df2)"
      ],
      "metadata": {
        "id": "uF-poEZlU48S",
        "colab": {
          "base_uri": "https://localhost:8080/"
        },
        "outputId": "cd3273b3-98bc-4cc0-8e69-b40c1cc74102"
      },
      "execution_count": null,
      "outputs": [
        {
          "output_type": "stream",
          "name": "stdout",
          "text": [
            "       InvoiceNo StockCode                          Description  Quantity  \\\n",
            "0         536365    85123A   WHITE HANGING HEART T-LIGHT HOLDER         6   \n",
            "1         536365     71053                  WHITE METAL LANTERN         6   \n",
            "2         536365    84406B       CREAM CUPID HEARTS COAT HANGER         8   \n",
            "3         536365    84029G  KNITTED UNION FLAG HOT WATER BOTTLE         6   \n",
            "4         536365    84029E       RED WOOLLY HOTTIE WHITE HEART.         6   \n",
            "...          ...       ...                                  ...       ...   \n",
            "541904    581587     22613          PACK OF 20 SPACEBOY NAPKINS        12   \n",
            "541905    581587     22899         CHILDREN'S APRON DOLLY GIRL          6   \n",
            "541906    581587     23254        CHILDRENS CUTLERY DOLLY GIRL          4   \n",
            "541907    581587     23255      CHILDRENS CUTLERY CIRCUS PARADE         4   \n",
            "541908    581587     22138        BAKING SET 9 PIECE RETROSPOT          3   \n",
            "\n",
            "               InvoiceDate  UnitPrice  CustomerID         Country  \n",
            "0      2010-12-01 08:26:00       2.55     17850.0  United Kingdom  \n",
            "1      2010-12-01 08:26:00       3.39     17850.0  United Kingdom  \n",
            "2      2010-12-01 08:26:00       2.75     17850.0  United Kingdom  \n",
            "3      2010-12-01 08:26:00       3.39     17850.0  United Kingdom  \n",
            "4      2010-12-01 08:26:00       3.39     17850.0  United Kingdom  \n",
            "...                    ...        ...         ...             ...  \n",
            "541904 2011-12-09 12:50:00       0.85     12680.0          France  \n",
            "541905 2011-12-09 12:50:00       2.10     12680.0          France  \n",
            "541906 2011-12-09 12:50:00       4.15     12680.0          France  \n",
            "541907 2011-12-09 12:50:00       4.15     12680.0          France  \n",
            "541908 2011-12-09 12:50:00       4.95     12680.0          France  \n",
            "\n",
            "[538358 rows x 8 columns]\n"
          ]
        }
      ]
    },
    {
      "cell_type": "code",
      "source": [
        "transactions2 = filtered_df2.groupby('InvoiceNo')['Description'].apply(list).reset_index() #ทำการ group และทำให้ข้อมูลใน Description เป็นlist\n",
        "transactions_apply2 = transactions2['Description'].apply(lambda x: [str(item) for item in x]) #ใช้ฟังก์ชัน lambda เพื่อแปลงสินค้าทุกชิ้นใน list ของ 'transactions' เป็นข้อความ (string)"
      ],
      "metadata": {
        "id": "t95n8_FciLrY"
      },
      "execution_count": null,
      "outputs": []
    },
    {
      "cell_type": "code",
      "source": [
        "frequentItemset2 = list(apriori(transactions_apply2, min_support=0.025))\n",
        "\n",
        "for record in frequentItemset2:\n",
        "    if len(record.items) > 1:\n",
        "        print('yes')\n",
        "        print(f\"Items: {', '.join(record.items)}\")\n",
        "        print(f\"Support: {record.support:.4f} ({record.support*100:.2f}%)\")\n",
        "\n",
        "        for i, stat in enumerate(record.ordered_statistics, 1):\n",
        "            items_base = 'None' if not stat.items_base else ', '.join(stat.items_base)\n",
        "            items_add = ', '.join(stat.items_add)\n",
        "            confidence = stat.confidence\n",
        "            lift = stat.lift\n",
        "\n",
        "            print(f\"Rule {i}: ({items_base} -> {items_add} : Confidence={confidence:.4f}, Lift={lift:.4f})\")\n",
        "        print()\n"
      ],
      "metadata": {
        "colab": {
          "base_uri": "https://localhost:8080/"
        },
        "id": "QSYns1kPiR44",
        "outputId": "8ded7def-de38-4843-d563-4e62cfd013e0"
      },
      "execution_count": null,
      "outputs": [
        {
          "output_type": "stream",
          "name": "stdout",
          "text": [
            "yes\n",
            "Items: GREEN REGENCY TEACUP AND SAUCER, ROSES REGENCY TEACUP AND SAUCER \n",
            "Support: 0.0301 (3.01%)\n",
            "Rule 1: (None -> GREEN REGENCY TEACUP AND SAUCER, ROSES REGENCY TEACUP AND SAUCER  : Confidence=0.0301, Lift=1.0000)\n",
            "Rule 2: (GREEN REGENCY TEACUP AND SAUCER -> ROSES REGENCY TEACUP AND SAUCER  : Confidence=0.7402, Lift=17.2054)\n",
            "Rule 3: (ROSES REGENCY TEACUP AND SAUCER  -> GREEN REGENCY TEACUP AND SAUCER : Confidence=0.7001, Lift=17.2054)\n",
            "\n",
            "yes\n",
            "Items: JUMBO BAG PINK POLKADOT, JUMBO BAG RED RETROSPOT\n",
            "Support: 0.0323 (3.23%)\n",
            "Rule 1: (None -> JUMBO BAG PINK POLKADOT, JUMBO BAG RED RETROSPOT : Confidence=0.0323, Lift=1.0000)\n",
            "Rule 2: (JUMBO BAG PINK POLKADOT -> JUMBO BAG RED RETROSPOT : Confidence=0.6775, Lift=8.2039)\n",
            "Rule 3: (JUMBO BAG RED RETROSPOT -> JUMBO BAG PINK POLKADOT : Confidence=0.3915, Lift=8.2039)\n",
            "\n",
            "yes\n",
            "Items: JUMBO SHOPPER VINTAGE RED PAISLEY, JUMBO BAG RED RETROSPOT\n",
            "Support: 0.0265 (2.65%)\n",
            "Rule 1: (None -> JUMBO SHOPPER VINTAGE RED PAISLEY, JUMBO BAG RED RETROSPOT : Confidence=0.0265, Lift=1.0000)\n",
            "Rule 2: (JUMBO BAG RED RETROSPOT -> JUMBO SHOPPER VINTAGE RED PAISLEY : Confidence=0.3209, Lift=6.9807)\n",
            "Rule 3: (JUMBO SHOPPER VINTAGE RED PAISLEY -> JUMBO BAG RED RETROSPOT : Confidence=0.5765, Lift=6.9807)\n",
            "\n",
            "yes\n",
            "Items: JUMBO BAG RED RETROSPOT, JUMBO STORAGE BAG SUKI\n",
            "Support: 0.0285 (2.85%)\n",
            "Rule 1: (None -> JUMBO BAG RED RETROSPOT, JUMBO STORAGE BAG SUKI : Confidence=0.0285, Lift=1.0000)\n",
            "Rule 2: (JUMBO BAG RED RETROSPOT -> JUMBO STORAGE BAG SUKI : Confidence=0.3449, Lift=7.4026)\n",
            "Rule 3: (JUMBO STORAGE BAG SUKI -> JUMBO BAG RED RETROSPOT : Confidence=0.6113, Lift=7.4026)\n",
            "\n",
            "yes\n",
            "Items: LUNCH BAG RED RETROSPOT, LUNCH BAG  BLACK SKULL.\n",
            "Support: 0.0251 (2.51%)\n",
            "Rule 1: (None -> LUNCH BAG RED RETROSPOT, LUNCH BAG  BLACK SKULL. : Confidence=0.0251, Lift=1.0000)\n",
            "Rule 2: (LUNCH BAG  BLACK SKULL. -> LUNCH BAG RED RETROSPOT : Confidence=0.5012, Lift=8.1052)\n",
            "Rule 3: (LUNCH BAG RED RETROSPOT -> LUNCH BAG  BLACK SKULL. : Confidence=0.4060, Lift=8.1052)\n",
            "\n"
          ]
        }
      ]
    },
    {
      "cell_type": "markdown",
      "source": [
        "## ข้อ 3. ช่วงเวลา ตรุษจีน ในทวีป Asai (15 jan-15 Feb)"
      ],
      "metadata": {
        "id": "pbUIDlMii2gM"
      }
    },
    {
      "cell_type": "code",
      "source": [
        "asia_countries= {\n",
        "    'Bahrain', 'Hong Kong', 'Israel', 'Japan', 'Lebanon', 'Saudi Arabia', 'Singapore', 'United Arab Emirates'\n",
        "}"
      ],
      "metadata": {
        "id": "-90QiM0ji8nC"
      },
      "execution_count": null,
      "outputs": []
    },
    {
      "cell_type": "code",
      "source": [
        "# เลือกวันตรุษจีน ในทวีป Asai (15 jan-15 Feb)\n",
        "filtered_df3 = df[\n",
        "     (((df['InvoiceDate'].dt.month == 1) & (df['InvoiceDate'].dt.day >= 15)) |\n",
        "    ((df['InvoiceDate'].dt.month == 2) & (df['InvoiceDate'].dt.day <= 15))) &\n",
        "    (df['Country'].isin(asia_countries))\n",
        "]\n",
        "\n",
        "\n",
        "# โชว์ datafram เพื่อcheck\n",
        "print(filtered_df3)"
      ],
      "metadata": {
        "colab": {
          "base_uri": "https://localhost:8080/"
        },
        "id": "VHP7iELCjx8-",
        "outputId": "bec48e4e-373f-4641-9c91-e23edd537b87"
      },
      "execution_count": null,
      "outputs": [
        {
          "output_type": "stream",
          "name": "stdout",
          "text": [
            "      InvoiceNo StockCode                          Description  Quantity  \\\n",
            "69623    541975     22620          4 TRADITIONAL SPINNING TOPS        60   \n",
            "69624    541975    85183B  CHARLIE & LOLA WASTEPAPER BIN FLORA         6   \n",
            "69625    541975    85183A   CHARLIE & LOLA WASTEPAPER BIN BLUE         6   \n",
            "69626    541975     16236                 KITTY PENCIL ERASERS        28   \n",
            "69627    541975     21058               PARTY INVITES WOODLAND        12   \n",
            "...         ...       ...                                  ...       ...   \n",
            "89595    543911    47590B          PINK HAPPY BIRTHDAY BUNTING        12   \n",
            "89596    543911     22117     METAL SIGN HER DINNER IS SERVED         12   \n",
            "89597    543911     82567            AIRLINE LOUNGE,METAL SIGN        12   \n",
            "89598    543911     21910                  WAY OUT METAL SIGN         12   \n",
            "89599    543911     21911                   GARDEN METAL SIGN         12   \n",
            "\n",
            "              InvoiceDate  UnitPrice  CustomerID               Country  \n",
            "69623 2011-01-24 14:24:00       1.25         NaN             Hong Kong  \n",
            "69624 2011-01-24 14:24:00       3.75         NaN             Hong Kong  \n",
            "69625 2011-01-24 14:24:00       3.75         NaN             Hong Kong  \n",
            "69626 2011-01-24 14:24:00       0.21         NaN             Hong Kong  \n",
            "69627 2011-01-24 14:24:00       0.85         NaN             Hong Kong  \n",
            "...                   ...        ...         ...                   ...  \n",
            "89595 2011-02-14 12:46:00       5.45     17829.0  United Arab Emirates  \n",
            "89596 2011-02-14 12:46:00       2.95     17829.0  United Arab Emirates  \n",
            "89597 2011-02-14 12:46:00       2.10     17829.0  United Arab Emirates  \n",
            "89598 2011-02-14 12:46:00       1.65     17829.0  United Arab Emirates  \n",
            "89599 2011-02-14 12:46:00       1.65     17829.0  United Arab Emirates  \n",
            "\n",
            "[273 rows x 8 columns]\n"
          ]
        }
      ]
    },
    {
      "cell_type": "code",
      "source": [
        "transactions3 = filtered_df3.groupby('InvoiceNo')['Description'].apply(list).reset_index() #ทำการ group และทำให้ข้อมูลใน Description เป็นlist\n",
        "transactions_apply3 = transactions3['Description'].apply(lambda x: [str(item) for item in x]) #ใช้ฟังก์ชัน lambda เพื่อแปลงสินค้าทุกชิ้นใน list ของ 'transactions' เป็นข้อความ (string)"
      ],
      "metadata": {
        "id": "vj1NgUiBmg0F"
      },
      "execution_count": null,
      "outputs": []
    },
    {
      "cell_type": "code",
      "source": [
        "frequentItemset3 = list(apriori(transactions_apply3, min_support=0.3))\n",
        "\n",
        "for record in frequentItemset3:\n",
        "    if len(record.items) > 1:\n",
        "        print('yes')\n",
        "        print(f\"Items: {', '.join(record.items)}\")\n",
        "        print(f\"Support: {record.support:.4f} ({record.support*100:.2f}%)\")\n",
        "\n",
        "        for i, stat in enumerate(record.ordered_statistics, 1):\n",
        "            items_base = 'None' if not stat.items_base else ', '.join(stat.items_base)\n",
        "            items_add = ', '.join(stat.items_add)\n",
        "            confidence = stat.confidence\n",
        "            lift = stat.lift\n",
        "\n",
        "            print(f\"Rule {i}: ({items_base} -> {items_add} : Confidence={confidence:.4f}, Lift={lift:.4f})\")\n",
        "        print()\n"
      ],
      "metadata": {
        "colab": {
          "base_uri": "https://localhost:8080/"
        },
        "id": "Bq-GS1cQmpN5",
        "outputId": "bcecc2fa-1ee8-4400-9161-a50666866121"
      },
      "execution_count": null,
      "outputs": [
        {
          "output_type": "stream",
          "name": "stdout",
          "text": [
            "yes\n",
            "Items: LUNCH BAG RED RETROSPOT, BASKET OF TOADSTOOLS\n",
            "Support: 0.3333 (33.33%)\n",
            "Rule 1: (None -> LUNCH BAG RED RETROSPOT, BASKET OF TOADSTOOLS : Confidence=0.3333, Lift=1.0000)\n",
            "Rule 2: (BASKET OF TOADSTOOLS -> LUNCH BAG RED RETROSPOT : Confidence=1.0000, Lift=3.0000)\n",
            "Rule 3: (LUNCH BAG RED RETROSPOT -> BASKET OF TOADSTOOLS : Confidence=1.0000, Lift=3.0000)\n",
            "\n",
            "yes\n",
            "Items: SET 3 RETROSPOT TEA,COFFEE,SUGAR, BASKET OF TOADSTOOLS\n",
            "Support: 0.3333 (33.33%)\n",
            "Rule 1: (None -> SET 3 RETROSPOT TEA,COFFEE,SUGAR, BASKET OF TOADSTOOLS : Confidence=0.3333, Lift=1.0000)\n",
            "Rule 2: (BASKET OF TOADSTOOLS -> SET 3 RETROSPOT TEA,COFFEE,SUGAR : Confidence=1.0000, Lift=3.0000)\n",
            "Rule 3: (SET 3 RETROSPOT TEA,COFFEE,SUGAR -> BASKET OF TOADSTOOLS : Confidence=1.0000, Lift=3.0000)\n",
            "\n",
            "yes\n",
            "Items: BATH BUILDING BLOCK WORD, JAM MAKING SET WITH JARS\n",
            "Support: 0.3333 (33.33%)\n",
            "Rule 1: (None -> BATH BUILDING BLOCK WORD, JAM MAKING SET WITH JARS : Confidence=0.3333, Lift=1.0000)\n",
            "Rule 2: (BATH BUILDING BLOCK WORD -> JAM MAKING SET WITH JARS : Confidence=1.0000, Lift=3.0000)\n",
            "Rule 3: (JAM MAKING SET WITH JARS -> BATH BUILDING BLOCK WORD : Confidence=1.0000, Lift=3.0000)\n",
            "\n",
            "yes\n",
            "Items: LADIES & GENTLEMEN METAL SIGN, BATH BUILDING BLOCK WORD\n",
            "Support: 0.3333 (33.33%)\n",
            "Rule 1: (None -> LADIES & GENTLEMEN METAL SIGN, BATH BUILDING BLOCK WORD : Confidence=0.3333, Lift=1.0000)\n",
            "Rule 2: (BATH BUILDING BLOCK WORD -> LADIES & GENTLEMEN METAL SIGN : Confidence=1.0000, Lift=2.0000)\n",
            "Rule 3: (LADIES & GENTLEMEN METAL SIGN -> BATH BUILDING BLOCK WORD : Confidence=0.6667, Lift=2.0000)\n",
            "\n",
            "yes\n",
            "Items: BATH BUILDING BLOCK WORD, SET 3 PAPER VINTAGE CHICK PAPER EGG\n",
            "Support: 0.3333 (33.33%)\n",
            "Rule 1: (None -> BATH BUILDING BLOCK WORD, SET 3 PAPER VINTAGE CHICK PAPER EGG : Confidence=0.3333, Lift=1.0000)\n",
            "Rule 2: (BATH BUILDING BLOCK WORD -> SET 3 PAPER VINTAGE CHICK PAPER EGG : Confidence=1.0000, Lift=2.0000)\n",
            "Rule 3: (SET 3 PAPER VINTAGE CHICK PAPER EGG -> BATH BUILDING BLOCK WORD : Confidence=0.6667, Lift=2.0000)\n",
            "\n",
            "yes\n",
            "Items: BEWARE OF THE CAT METAL SIGN , LADIES & GENTLEMEN METAL SIGN\n",
            "Support: 0.3333 (33.33%)\n",
            "Rule 1: (None -> BEWARE OF THE CAT METAL SIGN , LADIES & GENTLEMEN METAL SIGN : Confidence=0.3333, Lift=1.0000)\n",
            "Rule 2: (BEWARE OF THE CAT METAL SIGN  -> LADIES & GENTLEMEN METAL SIGN : Confidence=1.0000, Lift=2.0000)\n",
            "Rule 3: (LADIES & GENTLEMEN METAL SIGN -> BEWARE OF THE CAT METAL SIGN  : Confidence=0.6667, Lift=2.0000)\n",
            "\n",
            "yes\n",
            "Items: BEWARE OF THE CAT METAL SIGN , LAUNDRY 15C METAL SIGN\n",
            "Support: 0.3333 (33.33%)\n",
            "Rule 1: (None -> BEWARE OF THE CAT METAL SIGN , LAUNDRY 15C METAL SIGN : Confidence=0.3333, Lift=1.0000)\n",
            "Rule 2: (BEWARE OF THE CAT METAL SIGN  -> LAUNDRY 15C METAL SIGN : Confidence=1.0000, Lift=3.0000)\n",
            "Rule 3: (LAUNDRY 15C METAL SIGN -> BEWARE OF THE CAT METAL SIGN  : Confidence=1.0000, Lift=3.0000)\n",
            "\n",
            "yes\n",
            "Items: BEWARE OF THE CAT METAL SIGN , WASHROOM METAL SIGN\n",
            "Support: 0.3333 (33.33%)\n",
            "Rule 1: (None -> BEWARE OF THE CAT METAL SIGN , WASHROOM METAL SIGN : Confidence=0.3333, Lift=1.0000)\n",
            "Rule 2: (BEWARE OF THE CAT METAL SIGN  -> WASHROOM METAL SIGN : Confidence=1.0000, Lift=3.0000)\n",
            "Rule 3: (WASHROOM METAL SIGN -> BEWARE OF THE CAT METAL SIGN  : Confidence=1.0000, Lift=3.0000)\n",
            "\n",
            "yes\n",
            "Items: DOORMAT UNION FLAG, LADIES & GENTLEMEN METAL SIGN\n",
            "Support: 0.3333 (33.33%)\n",
            "Rule 1: (None -> DOORMAT UNION FLAG, LADIES & GENTLEMEN METAL SIGN : Confidence=0.3333, Lift=1.0000)\n",
            "Rule 2: (DOORMAT UNION FLAG -> LADIES & GENTLEMEN METAL SIGN : Confidence=1.0000, Lift=2.0000)\n",
            "Rule 3: (LADIES & GENTLEMEN METAL SIGN -> DOORMAT UNION FLAG : Confidence=0.6667, Lift=2.0000)\n",
            "\n",
            "yes\n",
            "Items: METAL SIGN TAKE IT OR LEAVE IT , DOORMAT UNION FLAG\n",
            "Support: 0.3333 (33.33%)\n",
            "Rule 1: (None -> METAL SIGN TAKE IT OR LEAVE IT , DOORMAT UNION FLAG : Confidence=0.3333, Lift=1.0000)\n",
            "Rule 2: (DOORMAT UNION FLAG -> METAL SIGN TAKE IT OR LEAVE IT  : Confidence=1.0000, Lift=3.0000)\n",
            "Rule 3: (METAL SIGN TAKE IT OR LEAVE IT  -> DOORMAT UNION FLAG : Confidence=1.0000, Lift=3.0000)\n",
            "\n",
            "yes\n",
            "Items: LADIES & GENTLEMEN METAL SIGN, JAM MAKING SET WITH JARS\n",
            "Support: 0.3333 (33.33%)\n",
            "Rule 1: (None -> LADIES & GENTLEMEN METAL SIGN, JAM MAKING SET WITH JARS : Confidence=0.3333, Lift=1.0000)\n",
            "Rule 2: (JAM MAKING SET WITH JARS -> LADIES & GENTLEMEN METAL SIGN : Confidence=1.0000, Lift=2.0000)\n",
            "Rule 3: (LADIES & GENTLEMEN METAL SIGN -> JAM MAKING SET WITH JARS : Confidence=0.6667, Lift=2.0000)\n",
            "\n",
            "yes\n",
            "Items: SET 3 PAPER VINTAGE CHICK PAPER EGG, JAM MAKING SET WITH JARS\n",
            "Support: 0.3333 (33.33%)\n",
            "Rule 1: (None -> SET 3 PAPER VINTAGE CHICK PAPER EGG, JAM MAKING SET WITH JARS : Confidence=0.3333, Lift=1.0000)\n",
            "Rule 2: (JAM MAKING SET WITH JARS -> SET 3 PAPER VINTAGE CHICK PAPER EGG : Confidence=1.0000, Lift=2.0000)\n",
            "Rule 3: (SET 3 PAPER VINTAGE CHICK PAPER EGG -> JAM MAKING SET WITH JARS : Confidence=0.6667, Lift=2.0000)\n",
            "\n",
            "yes\n",
            "Items: LADIES & GENTLEMEN METAL SIGN, LAUNDRY 15C METAL SIGN\n",
            "Support: 0.3333 (33.33%)\n",
            "Rule 1: (None -> LADIES & GENTLEMEN METAL SIGN, LAUNDRY 15C METAL SIGN : Confidence=0.3333, Lift=1.0000)\n",
            "Rule 2: (LADIES & GENTLEMEN METAL SIGN -> LAUNDRY 15C METAL SIGN : Confidence=0.6667, Lift=2.0000)\n",
            "Rule 3: (LAUNDRY 15C METAL SIGN -> LADIES & GENTLEMEN METAL SIGN : Confidence=1.0000, Lift=2.0000)\n",
            "\n",
            "yes\n",
            "Items: METAL SIGN TAKE IT OR LEAVE IT , LADIES & GENTLEMEN METAL SIGN\n",
            "Support: 0.3333 (33.33%)\n",
            "Rule 1: (None -> METAL SIGN TAKE IT OR LEAVE IT , LADIES & GENTLEMEN METAL SIGN : Confidence=0.3333, Lift=1.0000)\n",
            "Rule 2: (LADIES & GENTLEMEN METAL SIGN -> METAL SIGN TAKE IT OR LEAVE IT  : Confidence=0.6667, Lift=2.0000)\n",
            "Rule 3: (METAL SIGN TAKE IT OR LEAVE IT  -> LADIES & GENTLEMEN METAL SIGN : Confidence=1.0000, Lift=2.0000)\n",
            "\n",
            "yes\n",
            "Items: LADIES & GENTLEMEN METAL SIGN, SET 3 PAPER VINTAGE CHICK PAPER EGG\n",
            "Support: 0.3333 (33.33%)\n",
            "Rule 1: (None -> LADIES & GENTLEMEN METAL SIGN, SET 3 PAPER VINTAGE CHICK PAPER EGG : Confidence=0.3333, Lift=1.0000)\n",
            "Rule 2: (LADIES & GENTLEMEN METAL SIGN -> SET 3 PAPER VINTAGE CHICK PAPER EGG : Confidence=0.6667, Lift=1.3333)\n",
            "Rule 3: (SET 3 PAPER VINTAGE CHICK PAPER EGG -> LADIES & GENTLEMEN METAL SIGN : Confidence=0.6667, Lift=1.3333)\n",
            "\n",
            "yes\n",
            "Items: LADIES & GENTLEMEN METAL SIGN, WASHROOM METAL SIGN\n",
            "Support: 0.3333 (33.33%)\n",
            "Rule 1: (None -> LADIES & GENTLEMEN METAL SIGN, WASHROOM METAL SIGN : Confidence=0.3333, Lift=1.0000)\n",
            "Rule 2: (LADIES & GENTLEMEN METAL SIGN -> WASHROOM METAL SIGN : Confidence=0.6667, Lift=2.0000)\n",
            "Rule 3: (WASHROOM METAL SIGN -> LADIES & GENTLEMEN METAL SIGN : Confidence=1.0000, Lift=2.0000)\n",
            "\n",
            "yes\n",
            "Items: WASHROOM METAL SIGN, LAUNDRY 15C METAL SIGN\n",
            "Support: 0.3333 (33.33%)\n",
            "Rule 1: (None -> WASHROOM METAL SIGN, LAUNDRY 15C METAL SIGN : Confidence=0.3333, Lift=1.0000)\n",
            "Rule 2: (LAUNDRY 15C METAL SIGN -> WASHROOM METAL SIGN : Confidence=1.0000, Lift=3.0000)\n",
            "Rule 3: (WASHROOM METAL SIGN -> LAUNDRY 15C METAL SIGN : Confidence=1.0000, Lift=3.0000)\n",
            "\n",
            "yes\n",
            "Items: LUNCH BAG RED RETROSPOT, SET 3 RETROSPOT TEA,COFFEE,SUGAR\n",
            "Support: 0.3333 (33.33%)\n",
            "Rule 1: (None -> LUNCH BAG RED RETROSPOT, SET 3 RETROSPOT TEA,COFFEE,SUGAR : Confidence=0.3333, Lift=1.0000)\n",
            "Rule 2: (LUNCH BAG RED RETROSPOT -> SET 3 RETROSPOT TEA,COFFEE,SUGAR : Confidence=1.0000, Lift=3.0000)\n",
            "Rule 3: (SET 3 RETROSPOT TEA,COFFEE,SUGAR -> LUNCH BAG RED RETROSPOT : Confidence=1.0000, Lift=3.0000)\n",
            "\n",
            "yes\n",
            "Items: MILK PAN PINK POLKADOT, MILK PAN RED RETROSPOT\n",
            "Support: 0.3333 (33.33%)\n",
            "Rule 1: (None -> MILK PAN PINK POLKADOT, MILK PAN RED RETROSPOT : Confidence=0.3333, Lift=1.0000)\n",
            "Rule 2: (MILK PAN PINK POLKADOT -> MILK PAN RED RETROSPOT : Confidence=1.0000, Lift=3.0000)\n",
            "Rule 3: (MILK PAN RED RETROSPOT -> MILK PAN PINK POLKADOT : Confidence=1.0000, Lift=3.0000)\n",
            "\n",
            "yes\n",
            "Items: MILK PAN PINK POLKADOT, PLASTERS IN TIN SPACEBOY\n",
            "Support: 0.3333 (33.33%)\n",
            "Rule 1: (None -> MILK PAN PINK POLKADOT, PLASTERS IN TIN SPACEBOY : Confidence=0.3333, Lift=1.0000)\n",
            "Rule 2: (MILK PAN PINK POLKADOT -> PLASTERS IN TIN SPACEBOY : Confidence=1.0000, Lift=3.0000)\n",
            "Rule 3: (PLASTERS IN TIN SPACEBOY -> MILK PAN PINK POLKADOT : Confidence=1.0000, Lift=3.0000)\n",
            "\n",
            "yes\n",
            "Items: MILK PAN PINK POLKADOT, RED RETROSPOT CHILDRENS UMBRELLA\n",
            "Support: 0.3333 (33.33%)\n",
            "Rule 1: (None -> MILK PAN PINK POLKADOT, RED RETROSPOT CHILDRENS UMBRELLA : Confidence=0.3333, Lift=1.0000)\n",
            "Rule 2: (MILK PAN PINK POLKADOT -> RED RETROSPOT CHILDRENS UMBRELLA : Confidence=1.0000, Lift=3.0000)\n",
            "Rule 3: (RED RETROSPOT CHILDRENS UMBRELLA -> MILK PAN PINK POLKADOT : Confidence=1.0000, Lift=3.0000)\n",
            "\n",
            "yes\n",
            "Items: MILK PAN RED RETROSPOT, PLASTERS IN TIN SPACEBOY\n",
            "Support: 0.3333 (33.33%)\n",
            "Rule 1: (None -> MILK PAN RED RETROSPOT, PLASTERS IN TIN SPACEBOY : Confidence=0.3333, Lift=1.0000)\n",
            "Rule 2: (MILK PAN RED RETROSPOT -> PLASTERS IN TIN SPACEBOY : Confidence=1.0000, Lift=3.0000)\n",
            "Rule 3: (PLASTERS IN TIN SPACEBOY -> MILK PAN RED RETROSPOT : Confidence=1.0000, Lift=3.0000)\n",
            "\n",
            "yes\n",
            "Items: RED RETROSPOT CHILDRENS UMBRELLA, MILK PAN RED RETROSPOT\n",
            "Support: 0.3333 (33.33%)\n",
            "Rule 1: (None -> RED RETROSPOT CHILDRENS UMBRELLA, MILK PAN RED RETROSPOT : Confidence=0.3333, Lift=1.0000)\n",
            "Rule 2: (MILK PAN RED RETROSPOT -> RED RETROSPOT CHILDRENS UMBRELLA : Confidence=1.0000, Lift=3.0000)\n",
            "Rule 3: (RED RETROSPOT CHILDRENS UMBRELLA -> MILK PAN RED RETROSPOT : Confidence=1.0000, Lift=3.0000)\n",
            "\n",
            "yes\n",
            "Items: PARTY BUNTING, SET 3 PAPER VINTAGE CHICK PAPER EGG\n",
            "Support: 0.3333 (33.33%)\n",
            "Rule 1: (None -> PARTY BUNTING, SET 3 PAPER VINTAGE CHICK PAPER EGG : Confidence=0.3333, Lift=1.0000)\n",
            "Rule 2: (PARTY BUNTING -> SET 3 PAPER VINTAGE CHICK PAPER EGG : Confidence=1.0000, Lift=2.0000)\n",
            "Rule 3: (SET 3 PAPER VINTAGE CHICK PAPER EGG -> PARTY BUNTING : Confidence=0.6667, Lift=2.0000)\n",
            "\n",
            "yes\n",
            "Items: RED RETROSPOT CHILDRENS UMBRELLA, PLASTERS IN TIN SPACEBOY\n",
            "Support: 0.3333 (33.33%)\n",
            "Rule 1: (None -> RED RETROSPOT CHILDRENS UMBRELLA, PLASTERS IN TIN SPACEBOY : Confidence=0.3333, Lift=1.0000)\n",
            "Rule 2: (PLASTERS IN TIN SPACEBOY -> RED RETROSPOT CHILDRENS UMBRELLA : Confidence=1.0000, Lift=3.0000)\n",
            "Rule 3: (RED RETROSPOT CHILDRENS UMBRELLA -> PLASTERS IN TIN SPACEBOY : Confidence=1.0000, Lift=3.0000)\n",
            "\n",
            "yes\n",
            "Items: SET OF 72 PINK HEART PAPER DOILIES, SET 3 PAPER VINTAGE CHICK PAPER EGG\n",
            "Support: 0.3333 (33.33%)\n",
            "Rule 1: (None -> SET OF 72 PINK HEART PAPER DOILIES, SET 3 PAPER VINTAGE CHICK PAPER EGG : Confidence=0.3333, Lift=1.0000)\n",
            "Rule 2: (SET 3 PAPER VINTAGE CHICK PAPER EGG -> SET OF 72 PINK HEART PAPER DOILIES : Confidence=0.6667, Lift=2.0000)\n",
            "Rule 3: (SET OF 72 PINK HEART PAPER DOILIES -> SET 3 PAPER VINTAGE CHICK PAPER EGG : Confidence=1.0000, Lift=2.0000)\n",
            "\n",
            "yes\n",
            "Items: LUNCH BAG RED RETROSPOT, SET 3 RETROSPOT TEA,COFFEE,SUGAR, BASKET OF TOADSTOOLS\n",
            "Support: 0.3333 (33.33%)\n",
            "Rule 1: (None -> LUNCH BAG RED RETROSPOT, SET 3 RETROSPOT TEA,COFFEE,SUGAR, BASKET OF TOADSTOOLS : Confidence=0.3333, Lift=1.0000)\n",
            "Rule 2: (BASKET OF TOADSTOOLS -> LUNCH BAG RED RETROSPOT, SET 3 RETROSPOT TEA,COFFEE,SUGAR : Confidence=1.0000, Lift=3.0000)\n",
            "Rule 3: (LUNCH BAG RED RETROSPOT -> SET 3 RETROSPOT TEA,COFFEE,SUGAR, BASKET OF TOADSTOOLS : Confidence=1.0000, Lift=3.0000)\n",
            "Rule 4: (SET 3 RETROSPOT TEA,COFFEE,SUGAR -> LUNCH BAG RED RETROSPOT, BASKET OF TOADSTOOLS : Confidence=1.0000, Lift=3.0000)\n",
            "Rule 5: (LUNCH BAG RED RETROSPOT, BASKET OF TOADSTOOLS -> SET 3 RETROSPOT TEA,COFFEE,SUGAR : Confidence=1.0000, Lift=3.0000)\n",
            "Rule 6: (SET 3 RETROSPOT TEA,COFFEE,SUGAR, BASKET OF TOADSTOOLS -> LUNCH BAG RED RETROSPOT : Confidence=1.0000, Lift=3.0000)\n",
            "Rule 7: (LUNCH BAG RED RETROSPOT, SET 3 RETROSPOT TEA,COFFEE,SUGAR -> BASKET OF TOADSTOOLS : Confidence=1.0000, Lift=3.0000)\n",
            "\n",
            "yes\n",
            "Items: LADIES & GENTLEMEN METAL SIGN, BATH BUILDING BLOCK WORD, JAM MAKING SET WITH JARS\n",
            "Support: 0.3333 (33.33%)\n",
            "Rule 1: (None -> LADIES & GENTLEMEN METAL SIGN, BATH BUILDING BLOCK WORD, JAM MAKING SET WITH JARS : Confidence=0.3333, Lift=1.0000)\n",
            "Rule 2: (BATH BUILDING BLOCK WORD -> LADIES & GENTLEMEN METAL SIGN, JAM MAKING SET WITH JARS : Confidence=1.0000, Lift=3.0000)\n",
            "Rule 3: (JAM MAKING SET WITH JARS -> LADIES & GENTLEMEN METAL SIGN, BATH BUILDING BLOCK WORD : Confidence=1.0000, Lift=3.0000)\n",
            "Rule 4: (LADIES & GENTLEMEN METAL SIGN -> BATH BUILDING BLOCK WORD, JAM MAKING SET WITH JARS : Confidence=0.6667, Lift=2.0000)\n",
            "Rule 5: (BATH BUILDING BLOCK WORD, JAM MAKING SET WITH JARS -> LADIES & GENTLEMEN METAL SIGN : Confidence=1.0000, Lift=2.0000)\n",
            "Rule 6: (LADIES & GENTLEMEN METAL SIGN, BATH BUILDING BLOCK WORD -> JAM MAKING SET WITH JARS : Confidence=1.0000, Lift=3.0000)\n",
            "Rule 7: (LADIES & GENTLEMEN METAL SIGN, JAM MAKING SET WITH JARS -> BATH BUILDING BLOCK WORD : Confidence=1.0000, Lift=3.0000)\n",
            "\n",
            "yes\n",
            "Items: BATH BUILDING BLOCK WORD, SET 3 PAPER VINTAGE CHICK PAPER EGG, JAM MAKING SET WITH JARS\n",
            "Support: 0.3333 (33.33%)\n",
            "Rule 1: (None -> BATH BUILDING BLOCK WORD, SET 3 PAPER VINTAGE CHICK PAPER EGG, JAM MAKING SET WITH JARS : Confidence=0.3333, Lift=1.0000)\n",
            "Rule 2: (BATH BUILDING BLOCK WORD -> SET 3 PAPER VINTAGE CHICK PAPER EGG, JAM MAKING SET WITH JARS : Confidence=1.0000, Lift=3.0000)\n",
            "Rule 3: (JAM MAKING SET WITH JARS -> BATH BUILDING BLOCK WORD, SET 3 PAPER VINTAGE CHICK PAPER EGG : Confidence=1.0000, Lift=3.0000)\n",
            "Rule 4: (SET 3 PAPER VINTAGE CHICK PAPER EGG -> BATH BUILDING BLOCK WORD, JAM MAKING SET WITH JARS : Confidence=0.6667, Lift=2.0000)\n",
            "Rule 5: (BATH BUILDING BLOCK WORD, JAM MAKING SET WITH JARS -> SET 3 PAPER VINTAGE CHICK PAPER EGG : Confidence=1.0000, Lift=2.0000)\n",
            "Rule 6: (BATH BUILDING BLOCK WORD, SET 3 PAPER VINTAGE CHICK PAPER EGG -> JAM MAKING SET WITH JARS : Confidence=1.0000, Lift=3.0000)\n",
            "Rule 7: (SET 3 PAPER VINTAGE CHICK PAPER EGG, JAM MAKING SET WITH JARS -> BATH BUILDING BLOCK WORD : Confidence=1.0000, Lift=3.0000)\n",
            "\n",
            "yes\n",
            "Items: LADIES & GENTLEMEN METAL SIGN, BATH BUILDING BLOCK WORD, SET 3 PAPER VINTAGE CHICK PAPER EGG\n",
            "Support: 0.3333 (33.33%)\n",
            "Rule 1: (None -> LADIES & GENTLEMEN METAL SIGN, BATH BUILDING BLOCK WORD, SET 3 PAPER VINTAGE CHICK PAPER EGG : Confidence=0.3333, Lift=1.0000)\n",
            "Rule 2: (BATH BUILDING BLOCK WORD -> LADIES & GENTLEMEN METAL SIGN, SET 3 PAPER VINTAGE CHICK PAPER EGG : Confidence=1.0000, Lift=3.0000)\n",
            "Rule 3: (LADIES & GENTLEMEN METAL SIGN -> BATH BUILDING BLOCK WORD, SET 3 PAPER VINTAGE CHICK PAPER EGG : Confidence=0.6667, Lift=2.0000)\n",
            "Rule 4: (SET 3 PAPER VINTAGE CHICK PAPER EGG -> LADIES & GENTLEMEN METAL SIGN, BATH BUILDING BLOCK WORD : Confidence=0.6667, Lift=2.0000)\n",
            "Rule 5: (LADIES & GENTLEMEN METAL SIGN, BATH BUILDING BLOCK WORD -> SET 3 PAPER VINTAGE CHICK PAPER EGG : Confidence=1.0000, Lift=2.0000)\n",
            "Rule 6: (BATH BUILDING BLOCK WORD, SET 3 PAPER VINTAGE CHICK PAPER EGG -> LADIES & GENTLEMEN METAL SIGN : Confidence=1.0000, Lift=2.0000)\n",
            "Rule 7: (LADIES & GENTLEMEN METAL SIGN, SET 3 PAPER VINTAGE CHICK PAPER EGG -> BATH BUILDING BLOCK WORD : Confidence=1.0000, Lift=3.0000)\n",
            "\n",
            "yes\n",
            "Items: BEWARE OF THE CAT METAL SIGN , LADIES & GENTLEMEN METAL SIGN, LAUNDRY 15C METAL SIGN\n",
            "Support: 0.3333 (33.33%)\n",
            "Rule 1: (None -> BEWARE OF THE CAT METAL SIGN , LADIES & GENTLEMEN METAL SIGN, LAUNDRY 15C METAL SIGN : Confidence=0.3333, Lift=1.0000)\n",
            "Rule 2: (BEWARE OF THE CAT METAL SIGN  -> LADIES & GENTLEMEN METAL SIGN, LAUNDRY 15C METAL SIGN : Confidence=1.0000, Lift=3.0000)\n",
            "Rule 3: (LADIES & GENTLEMEN METAL SIGN -> BEWARE OF THE CAT METAL SIGN , LAUNDRY 15C METAL SIGN : Confidence=0.6667, Lift=2.0000)\n",
            "Rule 4: (LAUNDRY 15C METAL SIGN -> BEWARE OF THE CAT METAL SIGN , LADIES & GENTLEMEN METAL SIGN : Confidence=1.0000, Lift=3.0000)\n",
            "Rule 5: (BEWARE OF THE CAT METAL SIGN , LADIES & GENTLEMEN METAL SIGN -> LAUNDRY 15C METAL SIGN : Confidence=1.0000, Lift=3.0000)\n",
            "Rule 6: (BEWARE OF THE CAT METAL SIGN , LAUNDRY 15C METAL SIGN -> LADIES & GENTLEMEN METAL SIGN : Confidence=1.0000, Lift=2.0000)\n",
            "Rule 7: (LADIES & GENTLEMEN METAL SIGN, LAUNDRY 15C METAL SIGN -> BEWARE OF THE CAT METAL SIGN  : Confidence=1.0000, Lift=3.0000)\n",
            "\n",
            "yes\n",
            "Items: BEWARE OF THE CAT METAL SIGN , LADIES & GENTLEMEN METAL SIGN, WASHROOM METAL SIGN\n",
            "Support: 0.3333 (33.33%)\n",
            "Rule 1: (None -> BEWARE OF THE CAT METAL SIGN , LADIES & GENTLEMEN METAL SIGN, WASHROOM METAL SIGN : Confidence=0.3333, Lift=1.0000)\n",
            "Rule 2: (BEWARE OF THE CAT METAL SIGN  -> LADIES & GENTLEMEN METAL SIGN, WASHROOM METAL SIGN : Confidence=1.0000, Lift=3.0000)\n",
            "Rule 3: (LADIES & GENTLEMEN METAL SIGN -> BEWARE OF THE CAT METAL SIGN , WASHROOM METAL SIGN : Confidence=0.6667, Lift=2.0000)\n",
            "Rule 4: (WASHROOM METAL SIGN -> BEWARE OF THE CAT METAL SIGN , LADIES & GENTLEMEN METAL SIGN : Confidence=1.0000, Lift=3.0000)\n",
            "Rule 5: (BEWARE OF THE CAT METAL SIGN , LADIES & GENTLEMEN METAL SIGN -> WASHROOM METAL SIGN : Confidence=1.0000, Lift=3.0000)\n",
            "Rule 6: (BEWARE OF THE CAT METAL SIGN , WASHROOM METAL SIGN -> LADIES & GENTLEMEN METAL SIGN : Confidence=1.0000, Lift=2.0000)\n",
            "Rule 7: (LADIES & GENTLEMEN METAL SIGN, WASHROOM METAL SIGN -> BEWARE OF THE CAT METAL SIGN  : Confidence=1.0000, Lift=3.0000)\n",
            "\n",
            "yes\n",
            "Items: BEWARE OF THE CAT METAL SIGN , WASHROOM METAL SIGN, LAUNDRY 15C METAL SIGN\n",
            "Support: 0.3333 (33.33%)\n",
            "Rule 1: (None -> BEWARE OF THE CAT METAL SIGN , WASHROOM METAL SIGN, LAUNDRY 15C METAL SIGN : Confidence=0.3333, Lift=1.0000)\n",
            "Rule 2: (BEWARE OF THE CAT METAL SIGN  -> WASHROOM METAL SIGN, LAUNDRY 15C METAL SIGN : Confidence=1.0000, Lift=3.0000)\n",
            "Rule 3: (LAUNDRY 15C METAL SIGN -> BEWARE OF THE CAT METAL SIGN , WASHROOM METAL SIGN : Confidence=1.0000, Lift=3.0000)\n",
            "Rule 4: (WASHROOM METAL SIGN -> BEWARE OF THE CAT METAL SIGN , LAUNDRY 15C METAL SIGN : Confidence=1.0000, Lift=3.0000)\n",
            "Rule 5: (BEWARE OF THE CAT METAL SIGN , LAUNDRY 15C METAL SIGN -> WASHROOM METAL SIGN : Confidence=1.0000, Lift=3.0000)\n",
            "Rule 6: (BEWARE OF THE CAT METAL SIGN , WASHROOM METAL SIGN -> LAUNDRY 15C METAL SIGN : Confidence=1.0000, Lift=3.0000)\n",
            "Rule 7: (WASHROOM METAL SIGN, LAUNDRY 15C METAL SIGN -> BEWARE OF THE CAT METAL SIGN  : Confidence=1.0000, Lift=3.0000)\n",
            "\n",
            "yes\n",
            "Items: METAL SIGN TAKE IT OR LEAVE IT , DOORMAT UNION FLAG, LADIES & GENTLEMEN METAL SIGN\n",
            "Support: 0.3333 (33.33%)\n",
            "Rule 1: (None -> METAL SIGN TAKE IT OR LEAVE IT , DOORMAT UNION FLAG, LADIES & GENTLEMEN METAL SIGN : Confidence=0.3333, Lift=1.0000)\n",
            "Rule 2: (DOORMAT UNION FLAG -> METAL SIGN TAKE IT OR LEAVE IT , LADIES & GENTLEMEN METAL SIGN : Confidence=1.0000, Lift=3.0000)\n",
            "Rule 3: (LADIES & GENTLEMEN METAL SIGN -> METAL SIGN TAKE IT OR LEAVE IT , DOORMAT UNION FLAG : Confidence=0.6667, Lift=2.0000)\n",
            "Rule 4: (METAL SIGN TAKE IT OR LEAVE IT  -> DOORMAT UNION FLAG, LADIES & GENTLEMEN METAL SIGN : Confidence=1.0000, Lift=3.0000)\n",
            "Rule 5: (DOORMAT UNION FLAG, LADIES & GENTLEMEN METAL SIGN -> METAL SIGN TAKE IT OR LEAVE IT  : Confidence=1.0000, Lift=3.0000)\n",
            "Rule 6: (METAL SIGN TAKE IT OR LEAVE IT , DOORMAT UNION FLAG -> LADIES & GENTLEMEN METAL SIGN : Confidence=1.0000, Lift=2.0000)\n",
            "Rule 7: (METAL SIGN TAKE IT OR LEAVE IT , LADIES & GENTLEMEN METAL SIGN -> DOORMAT UNION FLAG : Confidence=1.0000, Lift=3.0000)\n",
            "\n",
            "yes\n",
            "Items: LADIES & GENTLEMEN METAL SIGN, SET 3 PAPER VINTAGE CHICK PAPER EGG, JAM MAKING SET WITH JARS\n",
            "Support: 0.3333 (33.33%)\n",
            "Rule 1: (None -> LADIES & GENTLEMEN METAL SIGN, SET 3 PAPER VINTAGE CHICK PAPER EGG, JAM MAKING SET WITH JARS : Confidence=0.3333, Lift=1.0000)\n",
            "Rule 2: (JAM MAKING SET WITH JARS -> LADIES & GENTLEMEN METAL SIGN, SET 3 PAPER VINTAGE CHICK PAPER EGG : Confidence=1.0000, Lift=3.0000)\n",
            "Rule 3: (LADIES & GENTLEMEN METAL SIGN -> SET 3 PAPER VINTAGE CHICK PAPER EGG, JAM MAKING SET WITH JARS : Confidence=0.6667, Lift=2.0000)\n",
            "Rule 4: (SET 3 PAPER VINTAGE CHICK PAPER EGG -> LADIES & GENTLEMEN METAL SIGN, JAM MAKING SET WITH JARS : Confidence=0.6667, Lift=2.0000)\n",
            "Rule 5: (LADIES & GENTLEMEN METAL SIGN, JAM MAKING SET WITH JARS -> SET 3 PAPER VINTAGE CHICK PAPER EGG : Confidence=1.0000, Lift=2.0000)\n",
            "Rule 6: (SET 3 PAPER VINTAGE CHICK PAPER EGG, JAM MAKING SET WITH JARS -> LADIES & GENTLEMEN METAL SIGN : Confidence=1.0000, Lift=2.0000)\n",
            "Rule 7: (LADIES & GENTLEMEN METAL SIGN, SET 3 PAPER VINTAGE CHICK PAPER EGG -> JAM MAKING SET WITH JARS : Confidence=1.0000, Lift=3.0000)\n",
            "\n",
            "yes\n",
            "Items: LADIES & GENTLEMEN METAL SIGN, WASHROOM METAL SIGN, LAUNDRY 15C METAL SIGN\n",
            "Support: 0.3333 (33.33%)\n",
            "Rule 1: (None -> LADIES & GENTLEMEN METAL SIGN, WASHROOM METAL SIGN, LAUNDRY 15C METAL SIGN : Confidence=0.3333, Lift=1.0000)\n",
            "Rule 2: (LADIES & GENTLEMEN METAL SIGN -> WASHROOM METAL SIGN, LAUNDRY 15C METAL SIGN : Confidence=0.6667, Lift=2.0000)\n",
            "Rule 3: (LAUNDRY 15C METAL SIGN -> LADIES & GENTLEMEN METAL SIGN, WASHROOM METAL SIGN : Confidence=1.0000, Lift=3.0000)\n",
            "Rule 4: (WASHROOM METAL SIGN -> LADIES & GENTLEMEN METAL SIGN, LAUNDRY 15C METAL SIGN : Confidence=1.0000, Lift=3.0000)\n",
            "Rule 5: (LADIES & GENTLEMEN METAL SIGN, LAUNDRY 15C METAL SIGN -> WASHROOM METAL SIGN : Confidence=1.0000, Lift=3.0000)\n",
            "Rule 6: (LADIES & GENTLEMEN METAL SIGN, WASHROOM METAL SIGN -> LAUNDRY 15C METAL SIGN : Confidence=1.0000, Lift=3.0000)\n",
            "Rule 7: (WASHROOM METAL SIGN, LAUNDRY 15C METAL SIGN -> LADIES & GENTLEMEN METAL SIGN : Confidence=1.0000, Lift=2.0000)\n",
            "\n",
            "yes\n",
            "Items: MILK PAN PINK POLKADOT, MILK PAN RED RETROSPOT, PLASTERS IN TIN SPACEBOY\n",
            "Support: 0.3333 (33.33%)\n",
            "Rule 1: (None -> MILK PAN PINK POLKADOT, MILK PAN RED RETROSPOT, PLASTERS IN TIN SPACEBOY : Confidence=0.3333, Lift=1.0000)\n",
            "Rule 2: (MILK PAN PINK POLKADOT -> MILK PAN RED RETROSPOT, PLASTERS IN TIN SPACEBOY : Confidence=1.0000, Lift=3.0000)\n",
            "Rule 3: (MILK PAN RED RETROSPOT -> MILK PAN PINK POLKADOT, PLASTERS IN TIN SPACEBOY : Confidence=1.0000, Lift=3.0000)\n",
            "Rule 4: (PLASTERS IN TIN SPACEBOY -> MILK PAN PINK POLKADOT, MILK PAN RED RETROSPOT : Confidence=1.0000, Lift=3.0000)\n",
            "Rule 5: (MILK PAN PINK POLKADOT, MILK PAN RED RETROSPOT -> PLASTERS IN TIN SPACEBOY : Confidence=1.0000, Lift=3.0000)\n",
            "Rule 6: (MILK PAN PINK POLKADOT, PLASTERS IN TIN SPACEBOY -> MILK PAN RED RETROSPOT : Confidence=1.0000, Lift=3.0000)\n",
            "Rule 7: (MILK PAN RED RETROSPOT, PLASTERS IN TIN SPACEBOY -> MILK PAN PINK POLKADOT : Confidence=1.0000, Lift=3.0000)\n",
            "\n",
            "yes\n",
            "Items: MILK PAN PINK POLKADOT, RED RETROSPOT CHILDRENS UMBRELLA, MILK PAN RED RETROSPOT\n",
            "Support: 0.3333 (33.33%)\n",
            "Rule 1: (None -> MILK PAN PINK POLKADOT, RED RETROSPOT CHILDRENS UMBRELLA, MILK PAN RED RETROSPOT : Confidence=0.3333, Lift=1.0000)\n",
            "Rule 2: (MILK PAN PINK POLKADOT -> RED RETROSPOT CHILDRENS UMBRELLA, MILK PAN RED RETROSPOT : Confidence=1.0000, Lift=3.0000)\n",
            "Rule 3: (MILK PAN RED RETROSPOT -> MILK PAN PINK POLKADOT, RED RETROSPOT CHILDRENS UMBRELLA : Confidence=1.0000, Lift=3.0000)\n",
            "Rule 4: (RED RETROSPOT CHILDRENS UMBRELLA -> MILK PAN PINK POLKADOT, MILK PAN RED RETROSPOT : Confidence=1.0000, Lift=3.0000)\n",
            "Rule 5: (MILK PAN PINK POLKADOT, MILK PAN RED RETROSPOT -> RED RETROSPOT CHILDRENS UMBRELLA : Confidence=1.0000, Lift=3.0000)\n",
            "Rule 6: (MILK PAN PINK POLKADOT, RED RETROSPOT CHILDRENS UMBRELLA -> MILK PAN RED RETROSPOT : Confidence=1.0000, Lift=3.0000)\n",
            "Rule 7: (RED RETROSPOT CHILDRENS UMBRELLA, MILK PAN RED RETROSPOT -> MILK PAN PINK POLKADOT : Confidence=1.0000, Lift=3.0000)\n",
            "\n",
            "yes\n",
            "Items: MILK PAN PINK POLKADOT, RED RETROSPOT CHILDRENS UMBRELLA, PLASTERS IN TIN SPACEBOY\n",
            "Support: 0.3333 (33.33%)\n",
            "Rule 1: (None -> MILK PAN PINK POLKADOT, RED RETROSPOT CHILDRENS UMBRELLA, PLASTERS IN TIN SPACEBOY : Confidence=0.3333, Lift=1.0000)\n",
            "Rule 2: (MILK PAN PINK POLKADOT -> RED RETROSPOT CHILDRENS UMBRELLA, PLASTERS IN TIN SPACEBOY : Confidence=1.0000, Lift=3.0000)\n",
            "Rule 3: (PLASTERS IN TIN SPACEBOY -> MILK PAN PINK POLKADOT, RED RETROSPOT CHILDRENS UMBRELLA : Confidence=1.0000, Lift=3.0000)\n",
            "Rule 4: (RED RETROSPOT CHILDRENS UMBRELLA -> MILK PAN PINK POLKADOT, PLASTERS IN TIN SPACEBOY : Confidence=1.0000, Lift=3.0000)\n",
            "Rule 5: (MILK PAN PINK POLKADOT, PLASTERS IN TIN SPACEBOY -> RED RETROSPOT CHILDRENS UMBRELLA : Confidence=1.0000, Lift=3.0000)\n",
            "Rule 6: (MILK PAN PINK POLKADOT, RED RETROSPOT CHILDRENS UMBRELLA -> PLASTERS IN TIN SPACEBOY : Confidence=1.0000, Lift=3.0000)\n",
            "Rule 7: (RED RETROSPOT CHILDRENS UMBRELLA, PLASTERS IN TIN SPACEBOY -> MILK PAN PINK POLKADOT : Confidence=1.0000, Lift=3.0000)\n",
            "\n",
            "yes\n",
            "Items: RED RETROSPOT CHILDRENS UMBRELLA, MILK PAN RED RETROSPOT, PLASTERS IN TIN SPACEBOY\n",
            "Support: 0.3333 (33.33%)\n",
            "Rule 1: (None -> RED RETROSPOT CHILDRENS UMBRELLA, MILK PAN RED RETROSPOT, PLASTERS IN TIN SPACEBOY : Confidence=0.3333, Lift=1.0000)\n",
            "Rule 2: (MILK PAN RED RETROSPOT -> RED RETROSPOT CHILDRENS UMBRELLA, PLASTERS IN TIN SPACEBOY : Confidence=1.0000, Lift=3.0000)\n",
            "Rule 3: (PLASTERS IN TIN SPACEBOY -> RED RETROSPOT CHILDRENS UMBRELLA, MILK PAN RED RETROSPOT : Confidence=1.0000, Lift=3.0000)\n",
            "Rule 4: (RED RETROSPOT CHILDRENS UMBRELLA -> MILK PAN RED RETROSPOT, PLASTERS IN TIN SPACEBOY : Confidence=1.0000, Lift=3.0000)\n",
            "Rule 5: (MILK PAN RED RETROSPOT, PLASTERS IN TIN SPACEBOY -> RED RETROSPOT CHILDRENS UMBRELLA : Confidence=1.0000, Lift=3.0000)\n",
            "Rule 6: (RED RETROSPOT CHILDRENS UMBRELLA, MILK PAN RED RETROSPOT -> PLASTERS IN TIN SPACEBOY : Confidence=1.0000, Lift=3.0000)\n",
            "Rule 7: (RED RETROSPOT CHILDRENS UMBRELLA, PLASTERS IN TIN SPACEBOY -> MILK PAN RED RETROSPOT : Confidence=1.0000, Lift=3.0000)\n",
            "\n",
            "yes\n",
            "Items: LADIES & GENTLEMEN METAL SIGN, BATH BUILDING BLOCK WORD, SET 3 PAPER VINTAGE CHICK PAPER EGG, JAM MAKING SET WITH JARS\n",
            "Support: 0.3333 (33.33%)\n",
            "Rule 1: (None -> LADIES & GENTLEMEN METAL SIGN, BATH BUILDING BLOCK WORD, SET 3 PAPER VINTAGE CHICK PAPER EGG, JAM MAKING SET WITH JARS : Confidence=0.3333, Lift=1.0000)\n",
            "Rule 2: (BATH BUILDING BLOCK WORD -> LADIES & GENTLEMEN METAL SIGN, SET 3 PAPER VINTAGE CHICK PAPER EGG, JAM MAKING SET WITH JARS : Confidence=1.0000, Lift=3.0000)\n",
            "Rule 3: (JAM MAKING SET WITH JARS -> LADIES & GENTLEMEN METAL SIGN, BATH BUILDING BLOCK WORD, SET 3 PAPER VINTAGE CHICK PAPER EGG : Confidence=1.0000, Lift=3.0000)\n",
            "Rule 4: (LADIES & GENTLEMEN METAL SIGN -> BATH BUILDING BLOCK WORD, SET 3 PAPER VINTAGE CHICK PAPER EGG, JAM MAKING SET WITH JARS : Confidence=0.6667, Lift=2.0000)\n",
            "Rule 5: (SET 3 PAPER VINTAGE CHICK PAPER EGG -> LADIES & GENTLEMEN METAL SIGN, BATH BUILDING BLOCK WORD, JAM MAKING SET WITH JARS : Confidence=0.6667, Lift=2.0000)\n",
            "Rule 6: (BATH BUILDING BLOCK WORD, JAM MAKING SET WITH JARS -> LADIES & GENTLEMEN METAL SIGN, SET 3 PAPER VINTAGE CHICK PAPER EGG : Confidence=1.0000, Lift=3.0000)\n",
            "Rule 7: (LADIES & GENTLEMEN METAL SIGN, BATH BUILDING BLOCK WORD -> SET 3 PAPER VINTAGE CHICK PAPER EGG, JAM MAKING SET WITH JARS : Confidence=1.0000, Lift=3.0000)\n",
            "Rule 8: (BATH BUILDING BLOCK WORD, SET 3 PAPER VINTAGE CHICK PAPER EGG -> LADIES & GENTLEMEN METAL SIGN, JAM MAKING SET WITH JARS : Confidence=1.0000, Lift=3.0000)\n",
            "Rule 9: (LADIES & GENTLEMEN METAL SIGN, JAM MAKING SET WITH JARS -> BATH BUILDING BLOCK WORD, SET 3 PAPER VINTAGE CHICK PAPER EGG : Confidence=1.0000, Lift=3.0000)\n",
            "Rule 10: (SET 3 PAPER VINTAGE CHICK PAPER EGG, JAM MAKING SET WITH JARS -> LADIES & GENTLEMEN METAL SIGN, BATH BUILDING BLOCK WORD : Confidence=1.0000, Lift=3.0000)\n",
            "Rule 11: (LADIES & GENTLEMEN METAL SIGN, SET 3 PAPER VINTAGE CHICK PAPER EGG -> BATH BUILDING BLOCK WORD, JAM MAKING SET WITH JARS : Confidence=1.0000, Lift=3.0000)\n",
            "Rule 12: (LADIES & GENTLEMEN METAL SIGN, BATH BUILDING BLOCK WORD, JAM MAKING SET WITH JARS -> SET 3 PAPER VINTAGE CHICK PAPER EGG : Confidence=1.0000, Lift=2.0000)\n",
            "Rule 13: (BATH BUILDING BLOCK WORD, SET 3 PAPER VINTAGE CHICK PAPER EGG, JAM MAKING SET WITH JARS -> LADIES & GENTLEMEN METAL SIGN : Confidence=1.0000, Lift=2.0000)\n",
            "Rule 14: (LADIES & GENTLEMEN METAL SIGN, BATH BUILDING BLOCK WORD, SET 3 PAPER VINTAGE CHICK PAPER EGG -> JAM MAKING SET WITH JARS : Confidence=1.0000, Lift=3.0000)\n",
            "Rule 15: (LADIES & GENTLEMEN METAL SIGN, SET 3 PAPER VINTAGE CHICK PAPER EGG, JAM MAKING SET WITH JARS -> BATH BUILDING BLOCK WORD : Confidence=1.0000, Lift=3.0000)\n",
            "\n",
            "yes\n",
            "Items: BEWARE OF THE CAT METAL SIGN , LADIES & GENTLEMEN METAL SIGN, WASHROOM METAL SIGN, LAUNDRY 15C METAL SIGN\n",
            "Support: 0.3333 (33.33%)\n",
            "Rule 1: (None -> BEWARE OF THE CAT METAL SIGN , LADIES & GENTLEMEN METAL SIGN, WASHROOM METAL SIGN, LAUNDRY 15C METAL SIGN : Confidence=0.3333, Lift=1.0000)\n",
            "Rule 2: (BEWARE OF THE CAT METAL SIGN  -> LADIES & GENTLEMEN METAL SIGN, WASHROOM METAL SIGN, LAUNDRY 15C METAL SIGN : Confidence=1.0000, Lift=3.0000)\n",
            "Rule 3: (LADIES & GENTLEMEN METAL SIGN -> BEWARE OF THE CAT METAL SIGN , WASHROOM METAL SIGN, LAUNDRY 15C METAL SIGN : Confidence=0.6667, Lift=2.0000)\n",
            "Rule 4: (LAUNDRY 15C METAL SIGN -> BEWARE OF THE CAT METAL SIGN , LADIES & GENTLEMEN METAL SIGN, WASHROOM METAL SIGN : Confidence=1.0000, Lift=3.0000)\n",
            "Rule 5: (WASHROOM METAL SIGN -> BEWARE OF THE CAT METAL SIGN , LADIES & GENTLEMEN METAL SIGN, LAUNDRY 15C METAL SIGN : Confidence=1.0000, Lift=3.0000)\n",
            "Rule 6: (BEWARE OF THE CAT METAL SIGN , LADIES & GENTLEMEN METAL SIGN -> WASHROOM METAL SIGN, LAUNDRY 15C METAL SIGN : Confidence=1.0000, Lift=3.0000)\n",
            "Rule 7: (BEWARE OF THE CAT METAL SIGN , LAUNDRY 15C METAL SIGN -> LADIES & GENTLEMEN METAL SIGN, WASHROOM METAL SIGN : Confidence=1.0000, Lift=3.0000)\n",
            "Rule 8: (BEWARE OF THE CAT METAL SIGN , WASHROOM METAL SIGN -> LADIES & GENTLEMEN METAL SIGN, LAUNDRY 15C METAL SIGN : Confidence=1.0000, Lift=3.0000)\n",
            "Rule 9: (LADIES & GENTLEMEN METAL SIGN, LAUNDRY 15C METAL SIGN -> BEWARE OF THE CAT METAL SIGN , WASHROOM METAL SIGN : Confidence=1.0000, Lift=3.0000)\n",
            "Rule 10: (LADIES & GENTLEMEN METAL SIGN, WASHROOM METAL SIGN -> BEWARE OF THE CAT METAL SIGN , LAUNDRY 15C METAL SIGN : Confidence=1.0000, Lift=3.0000)\n",
            "Rule 11: (WASHROOM METAL SIGN, LAUNDRY 15C METAL SIGN -> BEWARE OF THE CAT METAL SIGN , LADIES & GENTLEMEN METAL SIGN : Confidence=1.0000, Lift=3.0000)\n",
            "Rule 12: (BEWARE OF THE CAT METAL SIGN , LADIES & GENTLEMEN METAL SIGN, LAUNDRY 15C METAL SIGN -> WASHROOM METAL SIGN : Confidence=1.0000, Lift=3.0000)\n",
            "Rule 13: (BEWARE OF THE CAT METAL SIGN , LADIES & GENTLEMEN METAL SIGN, WASHROOM METAL SIGN -> LAUNDRY 15C METAL SIGN : Confidence=1.0000, Lift=3.0000)\n",
            "Rule 14: (BEWARE OF THE CAT METAL SIGN , WASHROOM METAL SIGN, LAUNDRY 15C METAL SIGN -> LADIES & GENTLEMEN METAL SIGN : Confidence=1.0000, Lift=2.0000)\n",
            "Rule 15: (LADIES & GENTLEMEN METAL SIGN, WASHROOM METAL SIGN, LAUNDRY 15C METAL SIGN -> BEWARE OF THE CAT METAL SIGN  : Confidence=1.0000, Lift=3.0000)\n",
            "\n",
            "yes\n",
            "Items: MILK PAN PINK POLKADOT, RED RETROSPOT CHILDRENS UMBRELLA, MILK PAN RED RETROSPOT, PLASTERS IN TIN SPACEBOY\n",
            "Support: 0.3333 (33.33%)\n",
            "Rule 1: (None -> MILK PAN PINK POLKADOT, RED RETROSPOT CHILDRENS UMBRELLA, MILK PAN RED RETROSPOT, PLASTERS IN TIN SPACEBOY : Confidence=0.3333, Lift=1.0000)\n",
            "Rule 2: (MILK PAN PINK POLKADOT -> RED RETROSPOT CHILDRENS UMBRELLA, MILK PAN RED RETROSPOT, PLASTERS IN TIN SPACEBOY : Confidence=1.0000, Lift=3.0000)\n",
            "Rule 3: (MILK PAN RED RETROSPOT -> MILK PAN PINK POLKADOT, RED RETROSPOT CHILDRENS UMBRELLA, PLASTERS IN TIN SPACEBOY : Confidence=1.0000, Lift=3.0000)\n",
            "Rule 4: (PLASTERS IN TIN SPACEBOY -> MILK PAN PINK POLKADOT, RED RETROSPOT CHILDRENS UMBRELLA, MILK PAN RED RETROSPOT : Confidence=1.0000, Lift=3.0000)\n",
            "Rule 5: (RED RETROSPOT CHILDRENS UMBRELLA -> MILK PAN PINK POLKADOT, MILK PAN RED RETROSPOT, PLASTERS IN TIN SPACEBOY : Confidence=1.0000, Lift=3.0000)\n",
            "Rule 6: (MILK PAN PINK POLKADOT, MILK PAN RED RETROSPOT -> RED RETROSPOT CHILDRENS UMBRELLA, PLASTERS IN TIN SPACEBOY : Confidence=1.0000, Lift=3.0000)\n",
            "Rule 7: (MILK PAN PINK POLKADOT, PLASTERS IN TIN SPACEBOY -> RED RETROSPOT CHILDRENS UMBRELLA, MILK PAN RED RETROSPOT : Confidence=1.0000, Lift=3.0000)\n",
            "Rule 8: (MILK PAN PINK POLKADOT, RED RETROSPOT CHILDRENS UMBRELLA -> MILK PAN RED RETROSPOT, PLASTERS IN TIN SPACEBOY : Confidence=1.0000, Lift=3.0000)\n",
            "Rule 9: (MILK PAN RED RETROSPOT, PLASTERS IN TIN SPACEBOY -> MILK PAN PINK POLKADOT, RED RETROSPOT CHILDRENS UMBRELLA : Confidence=1.0000, Lift=3.0000)\n",
            "Rule 10: (RED RETROSPOT CHILDRENS UMBRELLA, MILK PAN RED RETROSPOT -> MILK PAN PINK POLKADOT, PLASTERS IN TIN SPACEBOY : Confidence=1.0000, Lift=3.0000)\n",
            "Rule 11: (RED RETROSPOT CHILDRENS UMBRELLA, PLASTERS IN TIN SPACEBOY -> MILK PAN PINK POLKADOT, MILK PAN RED RETROSPOT : Confidence=1.0000, Lift=3.0000)\n",
            "Rule 12: (MILK PAN PINK POLKADOT, MILK PAN RED RETROSPOT, PLASTERS IN TIN SPACEBOY -> RED RETROSPOT CHILDRENS UMBRELLA : Confidence=1.0000, Lift=3.0000)\n",
            "Rule 13: (MILK PAN PINK POLKADOT, RED RETROSPOT CHILDRENS UMBRELLA, MILK PAN RED RETROSPOT -> PLASTERS IN TIN SPACEBOY : Confidence=1.0000, Lift=3.0000)\n",
            "Rule 14: (MILK PAN PINK POLKADOT, RED RETROSPOT CHILDRENS UMBRELLA, PLASTERS IN TIN SPACEBOY -> MILK PAN RED RETROSPOT : Confidence=1.0000, Lift=3.0000)\n",
            "Rule 15: (RED RETROSPOT CHILDRENS UMBRELLA, MILK PAN RED RETROSPOT, PLASTERS IN TIN SPACEBOY -> MILK PAN PINK POLKADOT : Confidence=1.0000, Lift=3.0000)\n",
            "\n"
          ]
        }
      ]
    },
    {
      "cell_type": "markdown",
      "source": [
        "## ข้อ 4. ช่วงเวลา Chirtmas & New Year ในทวีป Europe (1 Dec -31 Dec)"
      ],
      "metadata": {
        "id": "60gCIWUBsA0n"
      }
    },
    {
      "cell_type": "code",
      "source": [
        "# เลือกช่วงเวลา Chirtmas & New Year ในทวีป Europe (1 Dec -31 Dec)\n",
        "filtered_df4 = df[\n",
        "     (df['InvoiceDate'].dt.month == 12)  &\n",
        "    (df['Country'].isin(europe_countries))\n",
        "]\n",
        "\n",
        "\n",
        "# โชว์ datafram เพื่อcheck\n",
        "print(filtered_df4)"
      ],
      "metadata": {
        "colab": {
          "base_uri": "https://localhost:8080/"
        },
        "id": "XSLq_H-CsTJm",
        "outputId": "4325eaa1-780a-45b0-e73b-8e29c56d7975"
      },
      "execution_count": null,
      "outputs": [
        {
          "output_type": "stream",
          "name": "stdout",
          "text": [
            "       InvoiceNo StockCode                          Description  Quantity  \\\n",
            "0         536365    85123A   WHITE HANGING HEART T-LIGHT HOLDER         6   \n",
            "1         536365     71053                  WHITE METAL LANTERN         6   \n",
            "2         536365    84406B       CREAM CUPID HEARTS COAT HANGER         8   \n",
            "3         536365    84029G  KNITTED UNION FLAG HOT WATER BOTTLE         6   \n",
            "4         536365    84029E       RED WOOLLY HOTTIE WHITE HEART.         6   \n",
            "...          ...       ...                                  ...       ...   \n",
            "541904    581587     22613          PACK OF 20 SPACEBOY NAPKINS        12   \n",
            "541905    581587     22899         CHILDREN'S APRON DOLLY GIRL          6   \n",
            "541906    581587     23254        CHILDRENS CUTLERY DOLLY GIRL          4   \n",
            "541907    581587     23255      CHILDRENS CUTLERY CIRCUS PARADE         4   \n",
            "541908    581587     22138        BAKING SET 9 PIECE RETROSPOT          3   \n",
            "\n",
            "               InvoiceDate  UnitPrice  CustomerID         Country  \n",
            "0      2010-12-01 08:26:00       2.55     17850.0  United Kingdom  \n",
            "1      2010-12-01 08:26:00       3.39     17850.0  United Kingdom  \n",
            "2      2010-12-01 08:26:00       2.75     17850.0  United Kingdom  \n",
            "3      2010-12-01 08:26:00       3.39     17850.0  United Kingdom  \n",
            "4      2010-12-01 08:26:00       3.39     17850.0  United Kingdom  \n",
            "...                    ...        ...         ...             ...  \n",
            "541904 2011-12-09 12:50:00       0.85     12680.0          France  \n",
            "541905 2011-12-09 12:50:00       2.10     12680.0          France  \n",
            "541906 2011-12-09 12:50:00       4.15     12680.0          France  \n",
            "541907 2011-12-09 12:50:00       4.15     12680.0          France  \n",
            "541908 2011-12-09 12:50:00       4.95     12680.0          France  \n",
            "\n",
            "[67852 rows x 8 columns]\n"
          ]
        }
      ]
    },
    {
      "cell_type": "code",
      "source": [
        "transactions4 = filtered_df4.groupby('InvoiceNo')['Description'].apply(list).reset_index() #ทำการ group และทำให้ข้อมูลใน Description เป็นlist\n",
        "transactions_apply4 = transactions4['Description'].apply(lambda x: [str(item) for item in x]) #ใช้ฟังก์ชัน lambda เพื่อแปลงสินค้าทุกชิ้นใน list ของ 'transactions' เป็นข้อความ (string)"
      ],
      "metadata": {
        "id": "IE_5_nyts-C6"
      },
      "execution_count": null,
      "outputs": []
    },
    {
      "cell_type": "code",
      "source": [
        "frequentItemset4 = list(apriori(transactions_apply4, min_support=0.035))\n",
        "\n",
        "for record in frequentItemset4:\n",
        "    if len(record.items) > 1:\n",
        "        print('yes')\n",
        "        print(f\"Items: {', '.join(record.items)}\")\n",
        "        print(f\"Support: {record.support:.4f} ({record.support*100:.2f}%)\")\n",
        "\n",
        "        for i, stat in enumerate(record.ordered_statistics, 1):\n",
        "            items_base = 'None' if not stat.items_base else ', '.join(stat.items_base)\n",
        "            items_add = ', '.join(stat.items_add)\n",
        "            confidence = stat.confidence\n",
        "            lift = stat.lift\n",
        "\n",
        "            print(f\"Rule {i}: ({items_base} -> {items_add} : Confidence={confidence:.4f}, Lift={lift:.4f})\")\n",
        "        print()\n"
      ],
      "metadata": {
        "colab": {
          "base_uri": "https://localhost:8080/"
        },
        "id": "m4i6ZYeqtB10",
        "outputId": "d9799d96-d792-4a63-96bb-71efc5f28070"
      },
      "execution_count": null,
      "outputs": [
        {
          "output_type": "stream",
          "name": "stdout",
          "text": [
            "yes\n",
            "Items: ALARM CLOCK BAKELIKE RED , ALARM CLOCK BAKELIKE GREEN\n",
            "Support: 0.0367 (3.67%)\n",
            "Rule 1: (None -> ALARM CLOCK BAKELIKE RED , ALARM CLOCK BAKELIKE GREEN : Confidence=0.0367, Lift=1.0000)\n",
            "Rule 2: (ALARM CLOCK BAKELIKE GREEN -> ALARM CLOCK BAKELIKE RED  : Confidence=0.7070, Lift=14.4602)\n",
            "Rule 3: (ALARM CLOCK BAKELIKE RED  -> ALARM CLOCK BAKELIKE GREEN : Confidence=0.7500, Lift=14.4602)\n",
            "\n",
            "yes\n",
            "Items: CHOCOLATE HOT WATER BOTTLE, HOT WATER BOTTLE I AM SO POORLY\n",
            "Support: 0.0367 (3.67%)\n",
            "Rule 1: (None -> CHOCOLATE HOT WATER BOTTLE, HOT WATER BOTTLE I AM SO POORLY : Confidence=0.0367, Lift=1.0000)\n",
            "Rule 2: (CHOCOLATE HOT WATER BOTTLE -> HOT WATER BOTTLE I AM SO POORLY : Confidence=0.5163, Lift=9.7067)\n",
            "Rule 3: (HOT WATER BOTTLE I AM SO POORLY -> CHOCOLATE HOT WATER BOTTLE : Confidence=0.6894, Lift=9.7067)\n",
            "\n",
            "yes\n",
            "Items: PAPER CHAIN KIT 50'S CHRISTMAS , PAPER CHAIN KIT VINTAGE CHRISTMAS\n",
            "Support: 0.0479 (4.79%)\n",
            "Rule 1: (None -> PAPER CHAIN KIT 50'S CHRISTMAS , PAPER CHAIN KIT VINTAGE CHRISTMAS : Confidence=0.0479, Lift=1.0000)\n",
            "Rule 2: (PAPER CHAIN KIT 50'S CHRISTMAS  -> PAPER CHAIN KIT VINTAGE CHRISTMAS : Confidence=0.5160, Lift=7.1650)\n",
            "Rule 3: (PAPER CHAIN KIT VINTAGE CHRISTMAS -> PAPER CHAIN KIT 50'S CHRISTMAS  : Confidence=0.6651, Lift=7.1650)\n",
            "\n"
          ]
        }
      ]
    },
    {
      "cell_type": "markdown",
      "source": [
        "## ข้อ 5. วันวาเลนไทน์"
      ],
      "metadata": {
        "id": "8weW-PxdtdCq"
      }
    },
    {
      "cell_type": "code",
      "source": [
        "# เลือกเฉพาะวันวาเลนไทน์\n",
        "filtered_df5 = df[(df['InvoiceDate'].dt.month == 2) & (df['InvoiceDate'].dt.day == 14) ]\n",
        "\n",
        "# โชว์ datafram เพื่อcheck\n",
        "print(filtered_df5)"
      ],
      "metadata": {
        "colab": {
          "base_uri": "https://localhost:8080/"
        },
        "id": "VSFbFFfitpKu",
        "outputId": "d67dea14-b851-4f76-bfb2-438ed593c817"
      },
      "execution_count": null,
      "outputs": [
        {
          "output_type": "stream",
          "name": "stdout",
          "text": [
            "      InvoiceNo StockCode                         Description  Quantity  \\\n",
            "88847    543821     22926      IVORY GIANT GARDEN THERMOMETER         2   \n",
            "88848    543821     22928     YELLOW GIANT GARDEN THERMOMETER         2   \n",
            "88849    543821     22925       BLUE GIANT GARDEN THERMOMETER         2   \n",
            "88850    543821     85175               CACTI T-LIGHT CANDLES        16   \n",
            "88851    543821     22456     NATURAL SLATE CHALKBOARD LARGE          3   \n",
            "...         ...       ...                                 ...       ...   \n",
            "89950    543979     21889              WOODEN BOX OF DOMINOES         1   \n",
            "89951    543979     85176          SEWING SUSAN 21 NEEDLE SET         1   \n",
            "89952    543979     37446  MINI CAKE STAND WITH HANGING CAKES         1   \n",
            "89953    543979     21657     MILK BOTTLE WITH GLASS STOPPER          1   \n",
            "89954   C543980     22728           ALARM CLOCK BAKELIKE PINK        -1   \n",
            "\n",
            "              InvoiceDate  UnitPrice  CustomerID         Country  \n",
            "88847 2011-02-14 09:24:00       5.95     17667.0  United Kingdom  \n",
            "88848 2011-02-14 09:24:00       5.95     17667.0  United Kingdom  \n",
            "88849 2011-02-14 09:24:00       5.95     17667.0  United Kingdom  \n",
            "88850 2011-02-14 09:24:00       0.42     17667.0  United Kingdom  \n",
            "88851 2011-02-14 09:24:00       4.95     17667.0  United Kingdom  \n",
            "...                   ...        ...         ...             ...  \n",
            "89950 2011-02-14 15:43:00       1.25     14606.0  United Kingdom  \n",
            "89951 2011-02-14 15:43:00       0.85     14606.0  United Kingdom  \n",
            "89952 2011-02-14 15:43:00       1.45     14606.0  United Kingdom  \n",
            "89953 2011-02-14 15:43:00       6.95     14606.0  United Kingdom  \n",
            "89954 2011-02-14 16:39:00       3.75     14189.0  United Kingdom  \n",
            "\n",
            "[1108 rows x 8 columns]\n"
          ]
        }
      ]
    },
    {
      "cell_type": "code",
      "source": [
        "transactions5 = filtered_df5.groupby('InvoiceNo')['Description'].apply(list).reset_index() #ทำการ group และทำให้ข้อมูลใน Description เป็นlist\n",
        "transactions_apply5 = transactions5['Description'].apply(lambda x: [str(item) for item in x]) #ใช้ฟังก์ชัน lambda เพื่อแปลงสินค้าทุกชิ้นใน list ของ 'transactions' เป็นข้อความ (string)"
      ],
      "metadata": {
        "id": "5c79smGWuLzQ"
      },
      "execution_count": null,
      "outputs": []
    },
    {
      "cell_type": "code",
      "source": [
        "frequentItemset5 = list(apriori(transactions_apply5, min_support=0.09))\n",
        "\n",
        "for record in frequentItemset5:\n",
        "    if len(record.items) > 1:\n",
        "        print('yes')\n",
        "        print(f\"Items: {', '.join(record.items)}\")\n",
        "        print(f\"Support: {record.support:.4f} ({record.support*100:.2f}%)\")\n",
        "\n",
        "        for i, stat in enumerate(record.ordered_statistics, 1):\n",
        "            items_base = 'None' if not stat.items_base else ', '.join(stat.items_base)\n",
        "            items_add = ', '.join(stat.items_add)\n",
        "            confidence = stat.confidence\n",
        "            lift = stat.lift\n",
        "\n",
        "            print(f\"Rule {i}: ({items_base} -> {items_add} : Confidence={confidence:.4f}, Lift={lift:.4f})\")\n",
        "        print()\n"
      ],
      "metadata": {
        "colab": {
          "base_uri": "https://localhost:8080/"
        },
        "id": "cYT8scsuuOxW",
        "outputId": "2428e7e3-0397-471e-d6ab-5464cf9ffa68"
      },
      "execution_count": null,
      "outputs": [
        {
          "output_type": "stream",
          "name": "stdout",
          "text": [
            "yes\n",
            "Items: SET OF 3 CAKE TINS PANTRY DESIGN , HOMEMADE JAM SCENTED CANDLES\n",
            "Support: 0.0909 (9.09%)\n",
            "Rule 1: (None -> SET OF 3 CAKE TINS PANTRY DESIGN , HOMEMADE JAM SCENTED CANDLES : Confidence=0.0909, Lift=1.0000)\n",
            "Rule 2: (HOMEMADE JAM SCENTED CANDLES -> SET OF 3 CAKE TINS PANTRY DESIGN  : Confidence=1.0000, Lift=6.8750)\n",
            "Rule 3: (SET OF 3 CAKE TINS PANTRY DESIGN  -> HOMEMADE JAM SCENTED CANDLES : Confidence=0.6250, Lift=6.8750)\n",
            "\n",
            "yes\n",
            "Items: SET OF 3 CAKE TINS PANTRY DESIGN , SET OF 6 SPICE TINS PANTRY DESIGN\n",
            "Support: 0.0909 (9.09%)\n",
            "Rule 1: (None -> SET OF 3 CAKE TINS PANTRY DESIGN , SET OF 6 SPICE TINS PANTRY DESIGN : Confidence=0.0909, Lift=1.0000)\n",
            "Rule 2: (SET OF 3 CAKE TINS PANTRY DESIGN  -> SET OF 6 SPICE TINS PANTRY DESIGN : Confidence=0.6250, Lift=5.7292)\n",
            "Rule 3: (SET OF 6 SPICE TINS PANTRY DESIGN -> SET OF 3 CAKE TINS PANTRY DESIGN  : Confidence=0.8333, Lift=5.7292)\n",
            "\n"
          ]
        }
      ]
    },
    {
      "cell_type": "markdown",
      "source": [
        "## ข้อ 6. โดยจัดกลุ่มตามประเทศ+เดือน"
      ],
      "metadata": {
        "id": "thfJjHp1u3L8"
      }
    },
    {
      "cell_type": "code",
      "source": [
        "df6 = pd.read_csv(os.path.join(path, 'reduced_marketbasket.csv'), encoding='latin-1')\n"
      ],
      "metadata": {
        "id": "KYNyMCRRygWn"
      },
      "execution_count": null,
      "outputs": []
    },
    {
      "cell_type": "code",
      "source": [
        "# Convert รูปแบบเวลาใน column InvoiceDate ให้อยู่ในรูปที่ต้องการ\n",
        "df6['InvoiceDate'] = pd.to_datetime(df6['InvoiceDate'], format='%m/%d/%Y %H:%M')"
      ],
      "metadata": {
        "id": "kinJVzE_zDcZ"
      },
      "execution_count": null,
      "outputs": []
    },
    {
      "cell_type": "code",
      "source": [
        "df6['Month'] = df6['InvoiceDate'].dt.month\n",
        "\n",
        "# df6['Year'] = df6['InvoiceDate'].dt.year   #ถ้าต้องการ\"ปี\"ด้วย"
      ],
      "metadata": {
        "id": "UfdaU6_nyWZo"
      },
      "execution_count": null,
      "outputs": []
    },
    {
      "cell_type": "code",
      "source": [
        "# transactions_Mon_Con = df6.groupby(['Country', 'Month'])['StockCode'].apply(list)"
      ],
      "metadata": {
        "id": "q0qCREnkaIob"
      },
      "execution_count": null,
      "outputs": []
    },
    {
      "cell_type": "code",
      "source": [
        "transactions6 = df6.groupby(['Country', 'Month'])['StockCode'].apply(list) #ทำการ group และทำให้ข้อมูลใน Description เป็นlist  สามารถเพิ่มปี ได้โดย 'Year'\n",
        "# transactions_apply6 = transactions6['Description'].apply(lambda x: [str(item) for item in x]) #ใช้ฟังก์ชัน lambda เพื่อแปลงสินค้าทุกชิ้นใน list ของ 'transactions' เป็นข้อความ (string\n"
      ],
      "metadata": {
        "id": "U6q8AD4Ju9gv"
      },
      "execution_count": null,
      "outputs": []
    },
    {
      "cell_type": "code",
      "source": [
        "frequentItemset6 = list(apriori(transactions6, min_support=0.30))\n",
        "\n",
        "for record in frequentItemset6:\n",
        "    if len(record.items) > 1:\n",
        "        print('yes')\n",
        "        print(f\"Items: {', '.join(record.items)}\")\n",
        "        print(f\"Support: {record.support:.4f} ({record.support*100:.2f}%)\")\n",
        "\n",
        "        for i, stat in enumerate(record.ordered_statistics, 1):\n",
        "            items_base = 'None' if not stat.items_base else ', '.join(stat.items_base)\n",
        "            items_add = ', '.join(stat.items_add)\n",
        "            confidence = stat.confidence\n",
        "            lift = stat.lift\n",
        "\n",
        "            print(f\"Rule {i}: ({items_base} -> {items_add} : Confidence={confidence:.4f}, Lift={lift:.4f})\")\n",
        "        print()\n"
      ],
      "metadata": {
        "colab": {
          "base_uri": "https://localhost:8080/"
        },
        "id": "T98NfuDvJw3a",
        "outputId": "896ad286-8b67-420e-e530-b77d5e3397b6"
      },
      "execution_count": null,
      "outputs": [
        {
          "output_type": "stream",
          "name": "stdout",
          "text": [
            "yes\n",
            "Items: POST, 22326\n",
            "Support: 0.3209 (32.09%)\n",
            "Rule 1: (None -> POST, 22326 : Confidence=0.3209, Lift=1.0000)\n",
            "Rule 2: (22326 -> POST : Confidence=0.8407, Lift=1.4638)\n",
            "Rule 3: (POST -> 22326 : Confidence=0.5588, Lift=1.4638)\n",
            "\n",
            "yes\n",
            "Items: POST, 22423\n",
            "Support: 0.3142 (31.42%)\n",
            "Rule 1: (None -> POST, 22423 : Confidence=0.3142, Lift=1.0000)\n",
            "Rule 2: (22423 -> POST : Confidence=0.6838, Lift=1.1907)\n",
            "Rule 3: (POST -> 22423 : Confidence=0.5471, Lift=1.1907)\n",
            "\n",
            "yes\n",
            "Items: 22629, 22630\n",
            "Support: 0.3007 (30.07%)\n",
            "Rule 1: (None -> 22629, 22630 : Confidence=0.3007, Lift=1.0000)\n",
            "Rule 2: (22629 -> 22630 : Confidence=0.8812, Lift=2.5572)\n",
            "Rule 3: (22630 -> 22629 : Confidence=0.8725, Lift=2.5572)\n",
            "\n"
          ]
        }
      ]
    },
    {
      "cell_type": "markdown",
      "source": [
        "- check description item"
      ],
      "metadata": {
        "id": "9a25aVCoXcUV"
      }
    },
    {
      "cell_type": "code",
      "source": [
        "def find_des(x,y) :\n",
        "  item=set(df[(df['StockCode']==x)|(df['StockCode']==y)]['Description'])\n",
        "  return item"
      ],
      "metadata": {
        "id": "y5OJRbZ7XUXR"
      },
      "execution_count": null,
      "outputs": []
    },
    {
      "cell_type": "code",
      "source": [
        "find_des('POST', '22326')"
      ],
      "metadata": {
        "id": "AbCKNLmqbHUK",
        "outputId": "8a9da555-42d0-4865-faf2-0c78b65ef9ee",
        "colab": {
          "base_uri": "https://localhost:8080/"
        }
      },
      "execution_count": null,
      "outputs": [
        {
          "output_type": "execute_result",
          "data": {
            "text/plain": [
              "{'POSTAGE', 'ROUND SNACK BOXES SET OF4 WOODLAND ', nan}"
            ]
          },
          "metadata": {},
          "execution_count": 144
        }
      ]
    },
    {
      "cell_type": "markdown",
      "source": [
        "### 6.1 ช่วงเวลา Chirtmas & New Year(1 Dec -31 Dec)"
      ],
      "metadata": {
        "id": "PuiHH3mZIo7j"
      }
    },
    {
      "cell_type": "code",
      "source": [
        "# Filter December 1st to December 31st\n",
        "filtered_df61 = df6[(df6['InvoiceDate'].dt.month == 12) & (df6['InvoiceDate'].dt.day >= 1) & (df6['InvoiceDate'].dt.day <= 31)]\n"
      ],
      "metadata": {
        "id": "cZLzoRewgK_j"
      },
      "execution_count": null,
      "outputs": []
    },
    {
      "cell_type": "code",
      "source": [
        "transactions61 = filtered_df61.groupby(['Country', 'Month'])['StockCode'].apply(list)"
      ],
      "metadata": {
        "id": "twJ23w68joDF"
      },
      "execution_count": null,
      "outputs": []
    },
    {
      "cell_type": "code",
      "source": [
        "frequentItemset61 = list(apriori(transactions61, min_support=0.3))\n",
        "\n",
        "for record in frequentItemset61:\n",
        "    if len(record.items) > 1:\n",
        "        print('yes')\n",
        "        print(f\"Items: {', '.join(record.items)}\")\n",
        "        print(f\"Support: {record.support:.4f} ({record.support*100:.2f}%)\")\n",
        "\n",
        "        for i, stat in enumerate(record.ordered_statistics, 1):\n",
        "            items_base = 'None' if not stat.items_base else ', '.join(stat.items_base)\n",
        "            items_add = ', '.join(stat.items_add)\n",
        "            confidence = stat.confidence\n",
        "            lift = stat.lift\n",
        "\n",
        "            print(f\"Rule {i}: ({items_base} -> {items_add} : Confidence={confidence:.4f}, Lift={lift:.4f})\")\n",
        "        print()\n"
      ],
      "metadata": {
        "outputId": "d9b4f6be-45aa-4beb-c2b7-982ec9c96c53",
        "colab": {
          "base_uri": "https://localhost:8080/"
        },
        "id": "dU8lnIb9id7P"
      },
      "execution_count": null,
      "outputs": [
        {
          "output_type": "stream",
          "name": "stdout",
          "text": [
            "yes\n",
            "Items: 20750, POST\n",
            "Support: 0.3333 (33.33%)\n",
            "Rule 1: (None -> 20750, POST : Confidence=0.3333, Lift=1.0000)\n",
            "Rule 2: (20750 -> POST : Confidence=0.9000, Lift=1.7357)\n",
            "Rule 3: (POST -> 20750 : Confidence=0.6429, Lift=1.7357)\n",
            "\n",
            "yes\n",
            "Items: 22727, 22728\n",
            "Support: 0.3333 (33.33%)\n",
            "Rule 1: (None -> 22727, 22728 : Confidence=0.3333, Lift=1.0000)\n",
            "Rule 2: (22727 -> 22728 : Confidence=1.0000, Lift=3.0000)\n",
            "Rule 3: (22728 -> 22727 : Confidence=1.0000, Lift=3.0000)\n",
            "\n"
          ]
        }
      ]
    },
    {
      "cell_type": "markdown",
      "source": [
        "- check description item"
      ],
      "metadata": {
        "id": "5CqQ44XJYthM"
      }
    },
    {
      "cell_type": "code",
      "source": [
        "find_des('20750','POST')"
      ],
      "metadata": {
        "id": "9fAGQ-iUYtG0",
        "outputId": "9146c44f-0e1a-4f43-a978-c7685e4a7e8e",
        "colab": {
          "base_uri": "https://localhost:8080/"
        }
      },
      "execution_count": null,
      "outputs": [
        {
          "output_type": "execute_result",
          "data": {
            "text/plain": [
              "{'POSTAGE', 'RED RETROSPOT MINI CASES', nan}"
            ]
          },
          "metadata": {},
          "execution_count": 148
        }
      ]
    },
    {
      "cell_type": "code",
      "source": [
        "find_des('22727','22728')"
      ],
      "metadata": {
        "id": "vNAgPmR8Y-QJ",
        "outputId": "e4434ef9-055e-4c6c-ca5c-2f8c945da8e8",
        "colab": {
          "base_uri": "https://localhost:8080/"
        }
      },
      "execution_count": null,
      "outputs": [
        {
          "output_type": "execute_result",
          "data": {
            "text/plain": [
              "{'ALARM CLOCK BAKELIKE PINK', 'ALARM CLOCK BAKELIKE RED '}"
            ]
          },
          "metadata": {},
          "execution_count": 149
        }
      ]
    },
    {
      "cell_type": "markdown",
      "source": [
        "### 6.2 ช่วงเวลา Chirtmas & New Year(1 Dec -31 Dec)"
      ],
      "metadata": {
        "id": "3fVDEem9c8_q"
      }
    },
    {
      "cell_type": "code",
      "source": [
        "# เลือกประเทศจาก european_countries\n",
        "filtered_df62 = df6[df6['Country'].isin(europe_countries)]"
      ],
      "metadata": {
        "id": "soy_8A2CkbMh"
      },
      "execution_count": null,
      "outputs": []
    },
    {
      "cell_type": "code",
      "source": [
        "filtered_df62"
      ],
      "metadata": {
        "id": "JAvEhirYqkrw",
        "outputId": "ffd5374b-f56d-48eb-ec53-1428502699ed",
        "colab": {
          "base_uri": "https://localhost:8080/",
          "height": 424
        }
      },
      "execution_count": null,
      "outputs": [
        {
          "output_type": "execute_result",
          "data": {
            "text/plain": [
              "       InvoiceNo StockCode                          Description  Quantity  \\\n",
              "0         536365    85123A   WHITE HANGING HEART T-LIGHT HOLDER         6   \n",
              "1         536365     71053                  WHITE METAL LANTERN         6   \n",
              "2         536365    84406B       CREAM CUPID HEARTS COAT HANGER         8   \n",
              "3         536365    84029G  KNITTED UNION FLAG HOT WATER BOTTLE         6   \n",
              "4         536365    84029E       RED WOOLLY HOTTIE WHITE HEART.         6   \n",
              "...          ...       ...                                  ...       ...   \n",
              "541904    581587     22613          PACK OF 20 SPACEBOY NAPKINS        12   \n",
              "541905    581587     22899         CHILDREN'S APRON DOLLY GIRL          6   \n",
              "541906    581587     23254        CHILDRENS CUTLERY DOLLY GIRL          4   \n",
              "541907    581587     23255      CHILDRENS CUTLERY CIRCUS PARADE         4   \n",
              "541908    581587     22138        BAKING SET 9 PIECE RETROSPOT          3   \n",
              "\n",
              "               InvoiceDate  UnitPrice  CustomerID         Country  Month  \n",
              "0      2010-12-01 08:26:00       2.55     17850.0  United Kingdom     12  \n",
              "1      2010-12-01 08:26:00       3.39     17850.0  United Kingdom     12  \n",
              "2      2010-12-01 08:26:00       2.75     17850.0  United Kingdom     12  \n",
              "3      2010-12-01 08:26:00       3.39     17850.0  United Kingdom     12  \n",
              "4      2010-12-01 08:26:00       3.39     17850.0  United Kingdom     12  \n",
              "...                    ...        ...         ...             ...    ...  \n",
              "541904 2011-12-09 12:50:00       0.85     12680.0          France     12  \n",
              "541905 2011-12-09 12:50:00       2.10     12680.0          France     12  \n",
              "541906 2011-12-09 12:50:00       4.15     12680.0          France     12  \n",
              "541907 2011-12-09 12:50:00       4.15     12680.0          France     12  \n",
              "541908 2011-12-09 12:50:00       4.95     12680.0          France     12  \n",
              "\n",
              "[538358 rows x 9 columns]"
            ],
            "text/html": [
              "\n",
              "  <div id=\"df-3e777e44-4741-4e60-af6f-b7564c2b8a6f\" class=\"colab-df-container\">\n",
              "    <div>\n",
              "<style scoped>\n",
              "    .dataframe tbody tr th:only-of-type {\n",
              "        vertical-align: middle;\n",
              "    }\n",
              "\n",
              "    .dataframe tbody tr th {\n",
              "        vertical-align: top;\n",
              "    }\n",
              "\n",
              "    .dataframe thead th {\n",
              "        text-align: right;\n",
              "    }\n",
              "</style>\n",
              "<table border=\"1\" class=\"dataframe\">\n",
              "  <thead>\n",
              "    <tr style=\"text-align: right;\">\n",
              "      <th></th>\n",
              "      <th>InvoiceNo</th>\n",
              "      <th>StockCode</th>\n",
              "      <th>Description</th>\n",
              "      <th>Quantity</th>\n",
              "      <th>InvoiceDate</th>\n",
              "      <th>UnitPrice</th>\n",
              "      <th>CustomerID</th>\n",
              "      <th>Country</th>\n",
              "      <th>Month</th>\n",
              "    </tr>\n",
              "  </thead>\n",
              "  <tbody>\n",
              "    <tr>\n",
              "      <th>0</th>\n",
              "      <td>536365</td>\n",
              "      <td>85123A</td>\n",
              "      <td>WHITE HANGING HEART T-LIGHT HOLDER</td>\n",
              "      <td>6</td>\n",
              "      <td>2010-12-01 08:26:00</td>\n",
              "      <td>2.55</td>\n",
              "      <td>17850.0</td>\n",
              "      <td>United Kingdom</td>\n",
              "      <td>12</td>\n",
              "    </tr>\n",
              "    <tr>\n",
              "      <th>1</th>\n",
              "      <td>536365</td>\n",
              "      <td>71053</td>\n",
              "      <td>WHITE METAL LANTERN</td>\n",
              "      <td>6</td>\n",
              "      <td>2010-12-01 08:26:00</td>\n",
              "      <td>3.39</td>\n",
              "      <td>17850.0</td>\n",
              "      <td>United Kingdom</td>\n",
              "      <td>12</td>\n",
              "    </tr>\n",
              "    <tr>\n",
              "      <th>2</th>\n",
              "      <td>536365</td>\n",
              "      <td>84406B</td>\n",
              "      <td>CREAM CUPID HEARTS COAT HANGER</td>\n",
              "      <td>8</td>\n",
              "      <td>2010-12-01 08:26:00</td>\n",
              "      <td>2.75</td>\n",
              "      <td>17850.0</td>\n",
              "      <td>United Kingdom</td>\n",
              "      <td>12</td>\n",
              "    </tr>\n",
              "    <tr>\n",
              "      <th>3</th>\n",
              "      <td>536365</td>\n",
              "      <td>84029G</td>\n",
              "      <td>KNITTED UNION FLAG HOT WATER BOTTLE</td>\n",
              "      <td>6</td>\n",
              "      <td>2010-12-01 08:26:00</td>\n",
              "      <td>3.39</td>\n",
              "      <td>17850.0</td>\n",
              "      <td>United Kingdom</td>\n",
              "      <td>12</td>\n",
              "    </tr>\n",
              "    <tr>\n",
              "      <th>4</th>\n",
              "      <td>536365</td>\n",
              "      <td>84029E</td>\n",
              "      <td>RED WOOLLY HOTTIE WHITE HEART.</td>\n",
              "      <td>6</td>\n",
              "      <td>2010-12-01 08:26:00</td>\n",
              "      <td>3.39</td>\n",
              "      <td>17850.0</td>\n",
              "      <td>United Kingdom</td>\n",
              "      <td>12</td>\n",
              "    </tr>\n",
              "    <tr>\n",
              "      <th>...</th>\n",
              "      <td>...</td>\n",
              "      <td>...</td>\n",
              "      <td>...</td>\n",
              "      <td>...</td>\n",
              "      <td>...</td>\n",
              "      <td>...</td>\n",
              "      <td>...</td>\n",
              "      <td>...</td>\n",
              "      <td>...</td>\n",
              "    </tr>\n",
              "    <tr>\n",
              "      <th>541904</th>\n",
              "      <td>581587</td>\n",
              "      <td>22613</td>\n",
              "      <td>PACK OF 20 SPACEBOY NAPKINS</td>\n",
              "      <td>12</td>\n",
              "      <td>2011-12-09 12:50:00</td>\n",
              "      <td>0.85</td>\n",
              "      <td>12680.0</td>\n",
              "      <td>France</td>\n",
              "      <td>12</td>\n",
              "    </tr>\n",
              "    <tr>\n",
              "      <th>541905</th>\n",
              "      <td>581587</td>\n",
              "      <td>22899</td>\n",
              "      <td>CHILDREN'S APRON DOLLY GIRL</td>\n",
              "      <td>6</td>\n",
              "      <td>2011-12-09 12:50:00</td>\n",
              "      <td>2.10</td>\n",
              "      <td>12680.0</td>\n",
              "      <td>France</td>\n",
              "      <td>12</td>\n",
              "    </tr>\n",
              "    <tr>\n",
              "      <th>541906</th>\n",
              "      <td>581587</td>\n",
              "      <td>23254</td>\n",
              "      <td>CHILDRENS CUTLERY DOLLY GIRL</td>\n",
              "      <td>4</td>\n",
              "      <td>2011-12-09 12:50:00</td>\n",
              "      <td>4.15</td>\n",
              "      <td>12680.0</td>\n",
              "      <td>France</td>\n",
              "      <td>12</td>\n",
              "    </tr>\n",
              "    <tr>\n",
              "      <th>541907</th>\n",
              "      <td>581587</td>\n",
              "      <td>23255</td>\n",
              "      <td>CHILDRENS CUTLERY CIRCUS PARADE</td>\n",
              "      <td>4</td>\n",
              "      <td>2011-12-09 12:50:00</td>\n",
              "      <td>4.15</td>\n",
              "      <td>12680.0</td>\n",
              "      <td>France</td>\n",
              "      <td>12</td>\n",
              "    </tr>\n",
              "    <tr>\n",
              "      <th>541908</th>\n",
              "      <td>581587</td>\n",
              "      <td>22138</td>\n",
              "      <td>BAKING SET 9 PIECE RETROSPOT</td>\n",
              "      <td>3</td>\n",
              "      <td>2011-12-09 12:50:00</td>\n",
              "      <td>4.95</td>\n",
              "      <td>12680.0</td>\n",
              "      <td>France</td>\n",
              "      <td>12</td>\n",
              "    </tr>\n",
              "  </tbody>\n",
              "</table>\n",
              "<p>538358 rows × 9 columns</p>\n",
              "</div>\n",
              "    <div class=\"colab-df-buttons\">\n",
              "\n",
              "  <div class=\"colab-df-container\">\n",
              "    <button class=\"colab-df-convert\" onclick=\"convertToInteractive('df-3e777e44-4741-4e60-af6f-b7564c2b8a6f')\"\n",
              "            title=\"Convert this dataframe to an interactive table.\"\n",
              "            style=\"display:none;\">\n",
              "\n",
              "  <svg xmlns=\"http://www.w3.org/2000/svg\" height=\"24px\" viewBox=\"0 -960 960 960\">\n",
              "    <path d=\"M120-120v-720h720v720H120Zm60-500h600v-160H180v160Zm220 220h160v-160H400v160Zm0 220h160v-160H400v160ZM180-400h160v-160H180v160Zm440 0h160v-160H620v160ZM180-180h160v-160H180v160Zm440 0h160v-160H620v160Z\"/>\n",
              "  </svg>\n",
              "    </button>\n",
              "\n",
              "  <style>\n",
              "    .colab-df-container {\n",
              "      display:flex;\n",
              "      gap: 12px;\n",
              "    }\n",
              "\n",
              "    .colab-df-convert {\n",
              "      background-color: #E8F0FE;\n",
              "      border: none;\n",
              "      border-radius: 50%;\n",
              "      cursor: pointer;\n",
              "      display: none;\n",
              "      fill: #1967D2;\n",
              "      height: 32px;\n",
              "      padding: 0 0 0 0;\n",
              "      width: 32px;\n",
              "    }\n",
              "\n",
              "    .colab-df-convert:hover {\n",
              "      background-color: #E2EBFA;\n",
              "      box-shadow: 0px 1px 2px rgba(60, 64, 67, 0.3), 0px 1px 3px 1px rgba(60, 64, 67, 0.15);\n",
              "      fill: #174EA6;\n",
              "    }\n",
              "\n",
              "    .colab-df-buttons div {\n",
              "      margin-bottom: 4px;\n",
              "    }\n",
              "\n",
              "    [theme=dark] .colab-df-convert {\n",
              "      background-color: #3B4455;\n",
              "      fill: #D2E3FC;\n",
              "    }\n",
              "\n",
              "    [theme=dark] .colab-df-convert:hover {\n",
              "      background-color: #434B5C;\n",
              "      box-shadow: 0px 1px 3px 1px rgba(0, 0, 0, 0.15);\n",
              "      filter: drop-shadow(0px 1px 2px rgba(0, 0, 0, 0.3));\n",
              "      fill: #FFFFFF;\n",
              "    }\n",
              "  </style>\n",
              "\n",
              "    <script>\n",
              "      const buttonEl =\n",
              "        document.querySelector('#df-3e777e44-4741-4e60-af6f-b7564c2b8a6f button.colab-df-convert');\n",
              "      buttonEl.style.display =\n",
              "        google.colab.kernel.accessAllowed ? 'block' : 'none';\n",
              "\n",
              "      async function convertToInteractive(key) {\n",
              "        const element = document.querySelector('#df-3e777e44-4741-4e60-af6f-b7564c2b8a6f');\n",
              "        const dataTable =\n",
              "          await google.colab.kernel.invokeFunction('convertToInteractive',\n",
              "                                                    [key], {});\n",
              "        if (!dataTable) return;\n",
              "\n",
              "        const docLinkHtml = 'Like what you see? Visit the ' +\n",
              "          '<a target=\"_blank\" href=https://colab.research.google.com/notebooks/data_table.ipynb>data table notebook</a>'\n",
              "          + ' to learn more about interactive tables.';\n",
              "        element.innerHTML = '';\n",
              "        dataTable['output_type'] = 'display_data';\n",
              "        await google.colab.output.renderOutput(dataTable, element);\n",
              "        const docLink = document.createElement('div');\n",
              "        docLink.innerHTML = docLinkHtml;\n",
              "        element.appendChild(docLink);\n",
              "      }\n",
              "    </script>\n",
              "  </div>\n",
              "\n",
              "\n",
              "<div id=\"df-85bcd948-8125-4aea-9ca2-a4a4690e5bbe\">\n",
              "  <button class=\"colab-df-quickchart\" onclick=\"quickchart('df-85bcd948-8125-4aea-9ca2-a4a4690e5bbe')\"\n",
              "            title=\"Suggest charts\"\n",
              "            style=\"display:none;\">\n",
              "\n",
              "<svg xmlns=\"http://www.w3.org/2000/svg\" height=\"24px\"viewBox=\"0 0 24 24\"\n",
              "     width=\"24px\">\n",
              "    <g>\n",
              "        <path d=\"M19 3H5c-1.1 0-2 .9-2 2v14c0 1.1.9 2 2 2h14c1.1 0 2-.9 2-2V5c0-1.1-.9-2-2-2zM9 17H7v-7h2v7zm4 0h-2V7h2v10zm4 0h-2v-4h2v4z\"/>\n",
              "    </g>\n",
              "</svg>\n",
              "  </button>\n",
              "\n",
              "<style>\n",
              "  .colab-df-quickchart {\n",
              "      --bg-color: #E8F0FE;\n",
              "      --fill-color: #1967D2;\n",
              "      --hover-bg-color: #E2EBFA;\n",
              "      --hover-fill-color: #174EA6;\n",
              "      --disabled-fill-color: #AAA;\n",
              "      --disabled-bg-color: #DDD;\n",
              "  }\n",
              "\n",
              "  [theme=dark] .colab-df-quickchart {\n",
              "      --bg-color: #3B4455;\n",
              "      --fill-color: #D2E3FC;\n",
              "      --hover-bg-color: #434B5C;\n",
              "      --hover-fill-color: #FFFFFF;\n",
              "      --disabled-bg-color: #3B4455;\n",
              "      --disabled-fill-color: #666;\n",
              "  }\n",
              "\n",
              "  .colab-df-quickchart {\n",
              "    background-color: var(--bg-color);\n",
              "    border: none;\n",
              "    border-radius: 50%;\n",
              "    cursor: pointer;\n",
              "    display: none;\n",
              "    fill: var(--fill-color);\n",
              "    height: 32px;\n",
              "    padding: 0;\n",
              "    width: 32px;\n",
              "  }\n",
              "\n",
              "  .colab-df-quickchart:hover {\n",
              "    background-color: var(--hover-bg-color);\n",
              "    box-shadow: 0 1px 2px rgba(60, 64, 67, 0.3), 0 1px 3px 1px rgba(60, 64, 67, 0.15);\n",
              "    fill: var(--button-hover-fill-color);\n",
              "  }\n",
              "\n",
              "  .colab-df-quickchart-complete:disabled,\n",
              "  .colab-df-quickchart-complete:disabled:hover {\n",
              "    background-color: var(--disabled-bg-color);\n",
              "    fill: var(--disabled-fill-color);\n",
              "    box-shadow: none;\n",
              "  }\n",
              "\n",
              "  .colab-df-spinner {\n",
              "    border: 2px solid var(--fill-color);\n",
              "    border-color: transparent;\n",
              "    border-bottom-color: var(--fill-color);\n",
              "    animation:\n",
              "      spin 1s steps(1) infinite;\n",
              "  }\n",
              "\n",
              "  @keyframes spin {\n",
              "    0% {\n",
              "      border-color: transparent;\n",
              "      border-bottom-color: var(--fill-color);\n",
              "      border-left-color: var(--fill-color);\n",
              "    }\n",
              "    20% {\n",
              "      border-color: transparent;\n",
              "      border-left-color: var(--fill-color);\n",
              "      border-top-color: var(--fill-color);\n",
              "    }\n",
              "    30% {\n",
              "      border-color: transparent;\n",
              "      border-left-color: var(--fill-color);\n",
              "      border-top-color: var(--fill-color);\n",
              "      border-right-color: var(--fill-color);\n",
              "    }\n",
              "    40% {\n",
              "      border-color: transparent;\n",
              "      border-right-color: var(--fill-color);\n",
              "      border-top-color: var(--fill-color);\n",
              "    }\n",
              "    60% {\n",
              "      border-color: transparent;\n",
              "      border-right-color: var(--fill-color);\n",
              "    }\n",
              "    80% {\n",
              "      border-color: transparent;\n",
              "      border-right-color: var(--fill-color);\n",
              "      border-bottom-color: var(--fill-color);\n",
              "    }\n",
              "    90% {\n",
              "      border-color: transparent;\n",
              "      border-bottom-color: var(--fill-color);\n",
              "    }\n",
              "  }\n",
              "</style>\n",
              "\n",
              "  <script>\n",
              "    async function quickchart(key) {\n",
              "      const quickchartButtonEl =\n",
              "        document.querySelector('#' + key + ' button');\n",
              "      quickchartButtonEl.disabled = true;  // To prevent multiple clicks.\n",
              "      quickchartButtonEl.classList.add('colab-df-spinner');\n",
              "      try {\n",
              "        const charts = await google.colab.kernel.invokeFunction(\n",
              "            'suggestCharts', [key], {});\n",
              "      } catch (error) {\n",
              "        console.error('Error during call to suggestCharts:', error);\n",
              "      }\n",
              "      quickchartButtonEl.classList.remove('colab-df-spinner');\n",
              "      quickchartButtonEl.classList.add('colab-df-quickchart-complete');\n",
              "    }\n",
              "    (() => {\n",
              "      let quickchartButtonEl =\n",
              "        document.querySelector('#df-85bcd948-8125-4aea-9ca2-a4a4690e5bbe button');\n",
              "      quickchartButtonEl.style.display =\n",
              "        google.colab.kernel.accessAllowed ? 'block' : 'none';\n",
              "    })();\n",
              "  </script>\n",
              "</div>\n",
              "    </div>\n",
              "  </div>\n"
            ]
          },
          "metadata": {},
          "execution_count": 151
        }
      ]
    },
    {
      "cell_type": "code",
      "source": [
        "transactions62 = filtered_df62.groupby(['Country', 'Month'])['StockCode'].apply(list)"
      ],
      "metadata": {
        "id": "-luDfGqIkNem"
      },
      "execution_count": null,
      "outputs": []
    },
    {
      "cell_type": "code",
      "source": [
        "transactions62"
      ],
      "metadata": {
        "id": "cfZj-MTFqgS0",
        "outputId": "b75c19ef-bd56-42cb-bd49-49f69368c900",
        "colab": {
          "base_uri": "https://localhost:8080/"
        }
      },
      "execution_count": null,
      "outputs": [
        {
          "output_type": "execute_result",
          "data": {
            "text/plain": [
              "Country         Month\n",
              "Austria         2        [20713, 21931, 22553, 20724, 20719, 20726, 223...\n",
              "                3        [22556, 22139, 84879, POST, 22582, 22584, 2213...\n",
              "                4        [47566B, 47599A, 22128, 21977, POST, 23053, 23...\n",
              "                5        [47566, 47590B, 47590A, 21172, 21207, POST, 21...\n",
              "                6                                           [22697, 22357]\n",
              "                                               ...                        \n",
              "United Kingdom  8        [22075, 85049E, 21385, 84970L, 84970S, 84978, ...\n",
              "                9        [20677, 22128, 21067, 22423, 15060B, 23245, 22...\n",
              "                10       [79321, 21154, 21790, 23284, 23355, 22207, 221...\n",
              "                11       [21314, 21704, 21791, 21892, 21915, 22065, 223...\n",
              "                12       [85123A, 71053, 84406B, 84029G, 84029E, 22752,...\n",
              "Name: StockCode, Length: 226, dtype: object"
            ]
          },
          "metadata": {},
          "execution_count": 153
        }
      ]
    },
    {
      "cell_type": "code",
      "source": [
        "frequentItemset62 = list(apriori(transactions62, min_support=0.4))\n",
        "\n",
        "for record in frequentItemset62:\n",
        "    if len(record.items) > 1:\n",
        "        print('yes')\n",
        "        print(f\"Items: {', '.join(record.items)}\")\n",
        "        print(f\"Support: {record.support:.4f} ({record.support*100:.2f}%)\")\n",
        "\n",
        "        for i, stat in enumerate(record.ordered_statistics, 1):\n",
        "            items_base = 'None' if not stat.items_base else ', '.join(stat.items_base)\n",
        "            items_add = ', '.join(stat.items_add)\n",
        "            confidence = stat.confidence\n",
        "            lift = stat.lift\n",
        "\n",
        "            print(f\"Rule {i}: ({items_base} -> {items_add} : Confidence={confidence:.4f}, Lift={lift:.4f})\")\n",
        "        print()\n"
      ],
      "metadata": {
        "outputId": "68c52ca6-8558-4451-845c-039945ab440c",
        "colab": {
          "base_uri": "https://localhost:8080/"
        },
        "id": "--jlBS1jkNen"
      },
      "execution_count": null,
      "outputs": [
        {
          "output_type": "stream",
          "name": "stdout",
          "text": [
            "yes\n",
            "Items: POST, 22326\n",
            "Support: 0.4115 (41.15%)\n",
            "Rule 1: (None -> POST, 22326 : Confidence=0.4115, Lift=1.0000)\n",
            "Rule 2: (22326 -> POST : Confidence=0.9208, Lift=1.2689)\n",
            "Rule 3: (POST -> 22326 : Confidence=0.5671, Lift=1.2689)\n",
            "\n"
          ]
        }
      ]
    },
    {
      "cell_type": "markdown",
      "source": [
        "- check description item"
      ],
      "metadata": {
        "id": "gmlBhAbdcg0m"
      }
    },
    {
      "cell_type": "code",
      "source": [
        "find_des('POST', '22326')"
      ],
      "metadata": {
        "id": "d0PWFYmfchya",
        "outputId": "6decf663-2c9d-4d06-f261-26883458a3ae",
        "colab": {
          "base_uri": "https://localhost:8080/"
        }
      },
      "execution_count": null,
      "outputs": [
        {
          "output_type": "execute_result",
          "data": {
            "text/plain": [
              "{'POSTAGE', 'ROUND SNACK BOXES SET OF4 WOODLAND ', nan}"
            ]
          },
          "metadata": {},
          "execution_count": 155
        }
      ]
    },
    {
      "cell_type": "markdown",
      "source": [
        "### 6.3 ช่วงเวลา Chirtmas & New Year(1 Dec -31 Dec)"
      ],
      "metadata": {
        "id": "ezfQ2zwWc96T"
      }
    },
    {
      "cell_type": "code",
      "source": [
        "filtered_df63 = df6[\n",
        "     (((df6['InvoiceDate'].dt.month == 1) & (df6['InvoiceDate'].dt.day >= 15)) |\n",
        "    ((df6['InvoiceDate'].dt.month == 2) & (df6['InvoiceDate'].dt.day <= 15))) &\n",
        "    (df6['Country'].isin(asia_countries))\n",
        "]"
      ],
      "metadata": {
        "id": "x2QpivWLkwQ6"
      },
      "execution_count": null,
      "outputs": []
    },
    {
      "cell_type": "code",
      "source": [
        "transactions63 = filtered_df63.groupby(['Country', 'Month'])['StockCode'].apply(list)"
      ],
      "metadata": {
        "id": "jVqSXKKTk7Lk"
      },
      "execution_count": null,
      "outputs": []
    },
    {
      "cell_type": "code",
      "source": [
        "frequentItemset63 = list(apriori(transactions63, min_support=0.35))\n",
        "\n",
        "for record in frequentItemset63:\n",
        "    if len(record.items) > 1:\n",
        "        print('yes')\n",
        "        print(f\"Items: {', '.join(record.items)}\")\n",
        "        print(f\"Support: {record.support:.4f} ({record.support*100:.2f}%)\")\n",
        "\n",
        "        for i, stat in enumerate(record.ordered_statistics, 1):\n",
        "            items_base = 'None' if not stat.items_base else ', '.join(stat.items_base)\n",
        "            items_add = ', '.join(stat.items_add)\n",
        "            confidence = stat.confidence\n",
        "            lift = stat.lift\n",
        "\n",
        "            print(f\"Rule {i}: ({items_base} -> {items_add} : Confidence={confidence:.4f}, Lift={lift:.4f})\")\n",
        "        print()\n"
      ],
      "metadata": {
        "outputId": "630c8a41-b811-45c3-805b-e07bc9a91923",
        "colab": {
          "base_uri": "https://localhost:8080/"
        },
        "id": "z_xrd3P0k7Lm"
      },
      "execution_count": null,
      "outputs": [
        {
          "output_type": "stream",
          "name": "stdout",
          "text": [
            "yes\n",
            "Items: 22202, 20682\n",
            "Support: 0.4000 (40.00%)\n",
            "Rule 1: (None -> 20682, 22202 : Confidence=0.4000, Lift=1.0000)\n",
            "Rule 2: (20682 -> 22202 : Confidence=1.0000, Lift=2.5000)\n",
            "Rule 3: (22202 -> 20682 : Confidence=1.0000, Lift=2.5000)\n",
            "\n",
            "yes\n",
            "Items: 22203, 20682\n",
            "Support: 0.4000 (40.00%)\n",
            "Rule 1: (None -> 22203, 20682 : Confidence=0.4000, Lift=1.0000)\n",
            "Rule 2: (20682 -> 22203 : Confidence=1.0000, Lift=2.5000)\n",
            "Rule 3: (22203 -> 20682 : Confidence=1.0000, Lift=2.5000)\n",
            "\n",
            "yes\n",
            "Items: 20682, 22551\n",
            "Support: 0.4000 (40.00%)\n",
            "Rule 1: (None -> 20682, 22551 : Confidence=0.4000, Lift=1.0000)\n",
            "Rule 2: (20682 -> 22551 : Confidence=1.0000, Lift=2.5000)\n",
            "Rule 3: (22551 -> 20682 : Confidence=1.0000, Lift=2.5000)\n",
            "\n",
            "yes\n",
            "Items: 21216, 20725\n",
            "Support: 0.4000 (40.00%)\n",
            "Rule 1: (None -> 21216, 20725 : Confidence=0.4000, Lift=1.0000)\n",
            "Rule 2: (20725 -> 21216 : Confidence=1.0000, Lift=2.5000)\n",
            "Rule 3: (21216 -> 20725 : Confidence=1.0000, Lift=2.5000)\n",
            "\n",
            "yes\n",
            "Items: 21439, 20725\n",
            "Support: 0.4000 (40.00%)\n",
            "Rule 1: (None -> 21439, 20725 : Confidence=0.4000, Lift=1.0000)\n",
            "Rule 2: (20725 -> 21439 : Confidence=1.0000, Lift=2.5000)\n",
            "Rule 3: (21439 -> 20725 : Confidence=1.0000, Lift=2.5000)\n",
            "\n",
            "yes\n",
            "Items: 22620, 20725\n",
            "Support: 0.4000 (40.00%)\n",
            "Rule 1: (None -> 22620, 20725 : Confidence=0.4000, Lift=1.0000)\n",
            "Rule 2: (20725 -> 22620 : Confidence=1.0000, Lift=2.5000)\n",
            "Rule 3: (22620 -> 20725 : Confidence=1.0000, Lift=2.5000)\n",
            "\n",
            "yes\n",
            "Items: 21165, 82551\n",
            "Support: 0.4000 (40.00%)\n",
            "Rule 1: (None -> 21165, 82551 : Confidence=0.4000, Lift=1.0000)\n",
            "Rule 2: (21165 -> 82551 : Confidence=1.0000, Lift=2.5000)\n",
            "Rule 3: (82551 -> 21165 : Confidence=1.0000, Lift=2.5000)\n",
            "\n",
            "yes\n",
            "Items: 21165, 82552\n",
            "Support: 0.4000 (40.00%)\n",
            "Rule 1: (None -> 21165, 82552 : Confidence=0.4000, Lift=1.0000)\n",
            "Rule 2: (21165 -> 82552 : Confidence=1.0000, Lift=2.5000)\n",
            "Rule 3: (82552 -> 21165 : Confidence=1.0000, Lift=2.5000)\n",
            "\n",
            "yes\n",
            "Items: 21165, 85150\n",
            "Support: 0.4000 (40.00%)\n",
            "Rule 1: (None -> 21165, 85150 : Confidence=0.4000, Lift=1.0000)\n",
            "Rule 2: (21165 -> 85150 : Confidence=1.0000, Lift=1.6667)\n",
            "Rule 3: (85150 -> 21165 : Confidence=0.6667, Lift=1.6667)\n",
            "\n",
            "yes\n",
            "Items: 21216, 21439\n",
            "Support: 0.4000 (40.00%)\n",
            "Rule 1: (None -> 21216, 21439 : Confidence=0.4000, Lift=1.0000)\n",
            "Rule 2: (21216 -> 21439 : Confidence=1.0000, Lift=2.5000)\n",
            "Rule 3: (21439 -> 21216 : Confidence=1.0000, Lift=2.5000)\n",
            "\n",
            "yes\n",
            "Items: 21216, 22620\n",
            "Support: 0.4000 (40.00%)\n",
            "Rule 1: (None -> 21216, 22620 : Confidence=0.4000, Lift=1.0000)\n",
            "Rule 2: (21216 -> 22620 : Confidence=1.0000, Lift=2.5000)\n",
            "Rule 3: (22620 -> 21216 : Confidence=1.0000, Lift=2.5000)\n",
            "\n",
            "yes\n",
            "Items: 21439, 22620\n",
            "Support: 0.4000 (40.00%)\n",
            "Rule 1: (None -> 21439, 22620 : Confidence=0.4000, Lift=1.0000)\n",
            "Rule 2: (21439 -> 22620 : Confidence=1.0000, Lift=2.5000)\n",
            "Rule 3: (22620 -> 21439 : Confidence=1.0000, Lift=2.5000)\n",
            "\n",
            "yes\n",
            "Items: 21756, 22957\n",
            "Support: 0.4000 (40.00%)\n",
            "Rule 1: (None -> 21756, 22957 : Confidence=0.4000, Lift=1.0000)\n",
            "Rule 2: (21756 -> 22957 : Confidence=1.0000, Lift=1.6667)\n",
            "Rule 3: (22957 -> 21756 : Confidence=0.6667, Lift=1.6667)\n",
            "\n",
            "yes\n",
            "Items: 21756, 22960\n",
            "Support: 0.4000 (40.00%)\n",
            "Rule 1: (None -> 21756, 22960 : Confidence=0.4000, Lift=1.0000)\n",
            "Rule 2: (21756 -> 22960 : Confidence=1.0000, Lift=2.5000)\n",
            "Rule 3: (22960 -> 21756 : Confidence=1.0000, Lift=2.5000)\n",
            "\n",
            "yes\n",
            "Items: 21756, 85150\n",
            "Support: 0.4000 (40.00%)\n",
            "Rule 1: (None -> 21756, 85150 : Confidence=0.4000, Lift=1.0000)\n",
            "Rule 2: (21756 -> 85150 : Confidence=1.0000, Lift=1.6667)\n",
            "Rule 3: (85150 -> 21756 : Confidence=0.6667, Lift=1.6667)\n",
            "\n",
            "yes\n",
            "Items: 22203, 22202\n",
            "Support: 0.4000 (40.00%)\n",
            "Rule 1: (None -> 22203, 22202 : Confidence=0.4000, Lift=1.0000)\n",
            "Rule 2: (22202 -> 22203 : Confidence=1.0000, Lift=2.5000)\n",
            "Rule 3: (22203 -> 22202 : Confidence=1.0000, Lift=2.5000)\n",
            "\n",
            "yes\n",
            "Items: 22202, 22551\n",
            "Support: 0.4000 (40.00%)\n",
            "Rule 1: (None -> 22202, 22551 : Confidence=0.4000, Lift=1.0000)\n",
            "Rule 2: (22202 -> 22551 : Confidence=1.0000, Lift=2.5000)\n",
            "Rule 3: (22551 -> 22202 : Confidence=1.0000, Lift=2.5000)\n",
            "\n",
            "yes\n",
            "Items: 22203, 22551\n",
            "Support: 0.4000 (40.00%)\n",
            "Rule 1: (None -> 22203, 22551 : Confidence=0.4000, Lift=1.0000)\n",
            "Rule 2: (22203 -> 22551 : Confidence=1.0000, Lift=2.5000)\n",
            "Rule 3: (22551 -> 22203 : Confidence=1.0000, Lift=2.5000)\n",
            "\n",
            "yes\n",
            "Items: 22413, 48138\n",
            "Support: 0.4000 (40.00%)\n",
            "Rule 1: (None -> 22413, 48138 : Confidence=0.4000, Lift=1.0000)\n",
            "Rule 2: (22413 -> 48138 : Confidence=1.0000, Lift=2.5000)\n",
            "Rule 3: (48138 -> 22413 : Confidence=1.0000, Lift=2.5000)\n",
            "\n",
            "yes\n",
            "Items: 85150, 22413\n",
            "Support: 0.4000 (40.00%)\n",
            "Rule 1: (None -> 85150, 22413 : Confidence=0.4000, Lift=1.0000)\n",
            "Rule 2: (22413 -> 85150 : Confidence=1.0000, Lift=1.6667)\n",
            "Rule 3: (85150 -> 22413 : Confidence=0.6667, Lift=1.6667)\n",
            "\n",
            "yes\n",
            "Items: 22960, 22957\n",
            "Support: 0.4000 (40.00%)\n",
            "Rule 1: (None -> 22960, 22957 : Confidence=0.4000, Lift=1.0000)\n",
            "Rule 2: (22957 -> 22960 : Confidence=0.6667, Lift=1.6667)\n",
            "Rule 3: (22960 -> 22957 : Confidence=1.0000, Lift=1.6667)\n",
            "\n",
            "yes\n",
            "Items: 22957, 47566\n",
            "Support: 0.4000 (40.00%)\n",
            "Rule 1: (None -> 22957, 47566 : Confidence=0.4000, Lift=1.0000)\n",
            "Rule 2: (22957 -> 47566 : Confidence=0.6667, Lift=1.6667)\n",
            "Rule 3: (47566 -> 22957 : Confidence=1.0000, Lift=1.6667)\n",
            "\n",
            "yes\n",
            "Items: 84988, 22957\n",
            "Support: 0.4000 (40.00%)\n",
            "Rule 1: (None -> 84988, 22957 : Confidence=0.4000, Lift=1.0000)\n",
            "Rule 2: (22957 -> 84988 : Confidence=0.6667, Lift=1.6667)\n",
            "Rule 3: (84988 -> 22957 : Confidence=1.0000, Lift=1.6667)\n",
            "\n",
            "yes\n",
            "Items: 85150, 22957\n",
            "Support: 0.4000 (40.00%)\n",
            "Rule 1: (None -> 85150, 22957 : Confidence=0.4000, Lift=1.0000)\n",
            "Rule 2: (22957 -> 85150 : Confidence=0.6667, Lift=1.1111)\n",
            "Rule 3: (85150 -> 22957 : Confidence=0.6667, Lift=1.1111)\n",
            "\n",
            "yes\n",
            "Items: 85150, 22960\n",
            "Support: 0.4000 (40.00%)\n",
            "Rule 1: (None -> 85150, 22960 : Confidence=0.4000, Lift=1.0000)\n",
            "Rule 2: (22960 -> 85150 : Confidence=1.0000, Lift=1.6667)\n",
            "Rule 3: (85150 -> 22960 : Confidence=0.6667, Lift=1.6667)\n",
            "\n",
            "yes\n",
            "Items: 85150, 48138\n",
            "Support: 0.4000 (40.00%)\n",
            "Rule 1: (None -> 85150, 48138 : Confidence=0.4000, Lift=1.0000)\n",
            "Rule 2: (48138 -> 85150 : Confidence=1.0000, Lift=1.6667)\n",
            "Rule 3: (85150 -> 48138 : Confidence=0.6667, Lift=1.6667)\n",
            "\n",
            "yes\n",
            "Items: 82551, 82552\n",
            "Support: 0.4000 (40.00%)\n",
            "Rule 1: (None -> 82551, 82552 : Confidence=0.4000, Lift=1.0000)\n",
            "Rule 2: (82551 -> 82552 : Confidence=1.0000, Lift=2.5000)\n",
            "Rule 3: (82552 -> 82551 : Confidence=1.0000, Lift=2.5000)\n",
            "\n",
            "yes\n",
            "Items: 82551, 85150\n",
            "Support: 0.4000 (40.00%)\n",
            "Rule 1: (None -> 82551, 85150 : Confidence=0.4000, Lift=1.0000)\n",
            "Rule 2: (82551 -> 85150 : Confidence=1.0000, Lift=1.6667)\n",
            "Rule 3: (85150 -> 82551 : Confidence=0.6667, Lift=1.6667)\n",
            "\n",
            "yes\n",
            "Items: 85150, 82552\n",
            "Support: 0.4000 (40.00%)\n",
            "Rule 1: (None -> 82552, 85150 : Confidence=0.4000, Lift=1.0000)\n",
            "Rule 2: (82552 -> 85150 : Confidence=1.0000, Lift=1.6667)\n",
            "Rule 3: (85150 -> 82552 : Confidence=0.6667, Lift=1.6667)\n",
            "\n",
            "yes\n",
            "Items: 22203, 22202, 20682\n",
            "Support: 0.4000 (40.00%)\n",
            "Rule 1: (None -> 20682, 22203, 22202 : Confidence=0.4000, Lift=1.0000)\n",
            "Rule 2: (20682 -> 22203, 22202 : Confidence=1.0000, Lift=2.5000)\n",
            "Rule 3: (22202 -> 22203, 20682 : Confidence=1.0000, Lift=2.5000)\n",
            "Rule 4: (22203 -> 20682, 22202 : Confidence=1.0000, Lift=2.5000)\n",
            "Rule 5: (22202, 20682 -> 22203 : Confidence=1.0000, Lift=2.5000)\n",
            "Rule 6: (22203, 20682 -> 22202 : Confidence=1.0000, Lift=2.5000)\n",
            "Rule 7: (22203, 22202 -> 20682 : Confidence=1.0000, Lift=2.5000)\n",
            "\n",
            "yes\n",
            "Items: 22202, 20682, 22551\n",
            "Support: 0.4000 (40.00%)\n",
            "Rule 1: (None -> 20682, 22202, 22551 : Confidence=0.4000, Lift=1.0000)\n",
            "Rule 2: (20682 -> 22202, 22551 : Confidence=1.0000, Lift=2.5000)\n",
            "Rule 3: (22202 -> 20682, 22551 : Confidence=1.0000, Lift=2.5000)\n",
            "Rule 4: (22551 -> 20682, 22202 : Confidence=1.0000, Lift=2.5000)\n",
            "Rule 5: (22202, 20682 -> 22551 : Confidence=1.0000, Lift=2.5000)\n",
            "Rule 6: (20682, 22551 -> 22202 : Confidence=1.0000, Lift=2.5000)\n",
            "Rule 7: (22202, 22551 -> 20682 : Confidence=1.0000, Lift=2.5000)\n",
            "\n",
            "yes\n",
            "Items: 22203, 20682, 22551\n",
            "Support: 0.4000 (40.00%)\n",
            "Rule 1: (None -> 22203, 20682, 22551 : Confidence=0.4000, Lift=1.0000)\n",
            "Rule 2: (20682 -> 22203, 22551 : Confidence=1.0000, Lift=2.5000)\n",
            "Rule 3: (22203 -> 20682, 22551 : Confidence=1.0000, Lift=2.5000)\n",
            "Rule 4: (22551 -> 22203, 20682 : Confidence=1.0000, Lift=2.5000)\n",
            "Rule 5: (22203, 20682 -> 22551 : Confidence=1.0000, Lift=2.5000)\n",
            "Rule 6: (20682, 22551 -> 22203 : Confidence=1.0000, Lift=2.5000)\n",
            "Rule 7: (22203, 22551 -> 20682 : Confidence=1.0000, Lift=2.5000)\n",
            "\n",
            "yes\n",
            "Items: 21216, 21439, 20725\n",
            "Support: 0.4000 (40.00%)\n",
            "Rule 1: (None -> 21216, 21439, 20725 : Confidence=0.4000, Lift=1.0000)\n",
            "Rule 2: (20725 -> 21216, 21439 : Confidence=1.0000, Lift=2.5000)\n",
            "Rule 3: (21216 -> 21439, 20725 : Confidence=1.0000, Lift=2.5000)\n",
            "Rule 4: (21439 -> 21216, 20725 : Confidence=1.0000, Lift=2.5000)\n",
            "Rule 5: (21216, 20725 -> 21439 : Confidence=1.0000, Lift=2.5000)\n",
            "Rule 6: (21439, 20725 -> 21216 : Confidence=1.0000, Lift=2.5000)\n",
            "Rule 7: (21216, 21439 -> 20725 : Confidence=1.0000, Lift=2.5000)\n",
            "\n",
            "yes\n",
            "Items: 21216, 22620, 20725\n",
            "Support: 0.4000 (40.00%)\n",
            "Rule 1: (None -> 21216, 22620, 20725 : Confidence=0.4000, Lift=1.0000)\n",
            "Rule 2: (20725 -> 21216, 22620 : Confidence=1.0000, Lift=2.5000)\n",
            "Rule 3: (21216 -> 22620, 20725 : Confidence=1.0000, Lift=2.5000)\n",
            "Rule 4: (22620 -> 21216, 20725 : Confidence=1.0000, Lift=2.5000)\n",
            "Rule 5: (21216, 20725 -> 22620 : Confidence=1.0000, Lift=2.5000)\n",
            "Rule 6: (22620, 20725 -> 21216 : Confidence=1.0000, Lift=2.5000)\n",
            "Rule 7: (21216, 22620 -> 20725 : Confidence=1.0000, Lift=2.5000)\n",
            "\n",
            "yes\n",
            "Items: 21439, 22620, 20725\n",
            "Support: 0.4000 (40.00%)\n",
            "Rule 1: (None -> 21439, 22620, 20725 : Confidence=0.4000, Lift=1.0000)\n",
            "Rule 2: (20725 -> 21439, 22620 : Confidence=1.0000, Lift=2.5000)\n",
            "Rule 3: (21439 -> 22620, 20725 : Confidence=1.0000, Lift=2.5000)\n",
            "Rule 4: (22620 -> 21439, 20725 : Confidence=1.0000, Lift=2.5000)\n",
            "Rule 5: (21439, 20725 -> 22620 : Confidence=1.0000, Lift=2.5000)\n",
            "Rule 6: (22620, 20725 -> 21439 : Confidence=1.0000, Lift=2.5000)\n",
            "Rule 7: (21439, 22620 -> 20725 : Confidence=1.0000, Lift=2.5000)\n",
            "\n",
            "yes\n",
            "Items: 21165, 82551, 82552\n",
            "Support: 0.4000 (40.00%)\n",
            "Rule 1: (None -> 21165, 82551, 82552 : Confidence=0.4000, Lift=1.0000)\n",
            "Rule 2: (21165 -> 82551, 82552 : Confidence=1.0000, Lift=2.5000)\n",
            "Rule 3: (82551 -> 21165, 82552 : Confidence=1.0000, Lift=2.5000)\n",
            "Rule 4: (82552 -> 21165, 82551 : Confidence=1.0000, Lift=2.5000)\n",
            "Rule 5: (21165, 82551 -> 82552 : Confidence=1.0000, Lift=2.5000)\n",
            "Rule 6: (21165, 82552 -> 82551 : Confidence=1.0000, Lift=2.5000)\n",
            "Rule 7: (82551, 82552 -> 21165 : Confidence=1.0000, Lift=2.5000)\n",
            "\n",
            "yes\n",
            "Items: 21165, 82551, 85150\n",
            "Support: 0.4000 (40.00%)\n",
            "Rule 1: (None -> 21165, 82551, 85150 : Confidence=0.4000, Lift=1.0000)\n",
            "Rule 2: (21165 -> 82551, 85150 : Confidence=1.0000, Lift=2.5000)\n",
            "Rule 3: (82551 -> 21165, 85150 : Confidence=1.0000, Lift=2.5000)\n",
            "Rule 4: (85150 -> 21165, 82551 : Confidence=0.6667, Lift=1.6667)\n",
            "Rule 5: (21165, 82551 -> 85150 : Confidence=1.0000, Lift=1.6667)\n",
            "Rule 6: (21165, 85150 -> 82551 : Confidence=1.0000, Lift=2.5000)\n",
            "Rule 7: (82551, 85150 -> 21165 : Confidence=1.0000, Lift=2.5000)\n",
            "\n",
            "yes\n",
            "Items: 21165, 85150, 82552\n",
            "Support: 0.4000 (40.00%)\n",
            "Rule 1: (None -> 21165, 82552, 85150 : Confidence=0.4000, Lift=1.0000)\n",
            "Rule 2: (21165 -> 82552, 85150 : Confidence=1.0000, Lift=2.5000)\n",
            "Rule 3: (82552 -> 21165, 85150 : Confidence=1.0000, Lift=2.5000)\n",
            "Rule 4: (85150 -> 21165, 82552 : Confidence=0.6667, Lift=1.6667)\n",
            "Rule 5: (21165, 82552 -> 85150 : Confidence=1.0000, Lift=1.6667)\n",
            "Rule 6: (21165, 85150 -> 82552 : Confidence=1.0000, Lift=2.5000)\n",
            "Rule 7: (85150, 82552 -> 21165 : Confidence=1.0000, Lift=2.5000)\n",
            "\n",
            "yes\n",
            "Items: 21216, 21439, 22620\n",
            "Support: 0.4000 (40.00%)\n",
            "Rule 1: (None -> 21216, 21439, 22620 : Confidence=0.4000, Lift=1.0000)\n",
            "Rule 2: (21216 -> 21439, 22620 : Confidence=1.0000, Lift=2.5000)\n",
            "Rule 3: (21439 -> 21216, 22620 : Confidence=1.0000, Lift=2.5000)\n",
            "Rule 4: (22620 -> 21216, 21439 : Confidence=1.0000, Lift=2.5000)\n",
            "Rule 5: (21216, 21439 -> 22620 : Confidence=1.0000, Lift=2.5000)\n",
            "Rule 6: (21216, 22620 -> 21439 : Confidence=1.0000, Lift=2.5000)\n",
            "Rule 7: (21439, 22620 -> 21216 : Confidence=1.0000, Lift=2.5000)\n",
            "\n",
            "yes\n",
            "Items: 21756, 22960, 22957\n",
            "Support: 0.4000 (40.00%)\n",
            "Rule 1: (None -> 21756, 22960, 22957 : Confidence=0.4000, Lift=1.0000)\n",
            "Rule 2: (21756 -> 22960, 22957 : Confidence=1.0000, Lift=2.5000)\n",
            "Rule 3: (22957 -> 21756, 22960 : Confidence=0.6667, Lift=1.6667)\n",
            "Rule 4: (22960 -> 21756, 22957 : Confidence=1.0000, Lift=2.5000)\n",
            "Rule 5: (21756, 22957 -> 22960 : Confidence=1.0000, Lift=2.5000)\n",
            "Rule 6: (21756, 22960 -> 22957 : Confidence=1.0000, Lift=1.6667)\n",
            "Rule 7: (22960, 22957 -> 21756 : Confidence=1.0000, Lift=2.5000)\n",
            "\n",
            "yes\n",
            "Items: 21756, 85150, 22957\n",
            "Support: 0.4000 (40.00%)\n",
            "Rule 1: (None -> 21756, 85150, 22957 : Confidence=0.4000, Lift=1.0000)\n",
            "Rule 2: (21756 -> 85150, 22957 : Confidence=1.0000, Lift=2.5000)\n",
            "Rule 3: (22957 -> 21756, 85150 : Confidence=0.6667, Lift=1.6667)\n",
            "Rule 4: (85150 -> 21756, 22957 : Confidence=0.6667, Lift=1.6667)\n",
            "Rule 5: (21756, 22957 -> 85150 : Confidence=1.0000, Lift=1.6667)\n",
            "Rule 6: (21756, 85150 -> 22957 : Confidence=1.0000, Lift=1.6667)\n",
            "Rule 7: (85150, 22957 -> 21756 : Confidence=1.0000, Lift=2.5000)\n",
            "\n",
            "yes\n",
            "Items: 21756, 85150, 22960\n",
            "Support: 0.4000 (40.00%)\n",
            "Rule 1: (None -> 21756, 85150, 22960 : Confidence=0.4000, Lift=1.0000)\n",
            "Rule 2: (21756 -> 85150, 22960 : Confidence=1.0000, Lift=2.5000)\n",
            "Rule 3: (22960 -> 21756, 85150 : Confidence=1.0000, Lift=2.5000)\n",
            "Rule 4: (85150 -> 21756, 22960 : Confidence=0.6667, Lift=1.6667)\n",
            "Rule 5: (21756, 22960 -> 85150 : Confidence=1.0000, Lift=1.6667)\n",
            "Rule 6: (21756, 85150 -> 22960 : Confidence=1.0000, Lift=2.5000)\n",
            "Rule 7: (85150, 22960 -> 21756 : Confidence=1.0000, Lift=2.5000)\n",
            "\n",
            "yes\n",
            "Items: 22203, 22202, 22551\n",
            "Support: 0.4000 (40.00%)\n",
            "Rule 1: (None -> 22203, 22202, 22551 : Confidence=0.4000, Lift=1.0000)\n",
            "Rule 2: (22202 -> 22203, 22551 : Confidence=1.0000, Lift=2.5000)\n",
            "Rule 3: (22203 -> 22202, 22551 : Confidence=1.0000, Lift=2.5000)\n",
            "Rule 4: (22551 -> 22203, 22202 : Confidence=1.0000, Lift=2.5000)\n",
            "Rule 5: (22203, 22202 -> 22551 : Confidence=1.0000, Lift=2.5000)\n",
            "Rule 6: (22202, 22551 -> 22203 : Confidence=1.0000, Lift=2.5000)\n",
            "Rule 7: (22203, 22551 -> 22202 : Confidence=1.0000, Lift=2.5000)\n",
            "\n",
            "yes\n",
            "Items: 85150, 22413, 48138\n",
            "Support: 0.4000 (40.00%)\n",
            "Rule 1: (None -> 48138, 85150, 22413 : Confidence=0.4000, Lift=1.0000)\n",
            "Rule 2: (22413 -> 85150, 48138 : Confidence=1.0000, Lift=2.5000)\n",
            "Rule 3: (48138 -> 85150, 22413 : Confidence=1.0000, Lift=2.5000)\n",
            "Rule 4: (85150 -> 22413, 48138 : Confidence=0.6667, Lift=1.6667)\n",
            "Rule 5: (22413, 48138 -> 85150 : Confidence=1.0000, Lift=1.6667)\n",
            "Rule 6: (85150, 22413 -> 48138 : Confidence=1.0000, Lift=2.5000)\n",
            "Rule 7: (85150, 48138 -> 22413 : Confidence=1.0000, Lift=2.5000)\n",
            "\n",
            "yes\n",
            "Items: 85150, 22960, 22957\n",
            "Support: 0.4000 (40.00%)\n",
            "Rule 1: (None -> 85150, 22960, 22957 : Confidence=0.4000, Lift=1.0000)\n",
            "Rule 2: (22957 -> 85150, 22960 : Confidence=0.6667, Lift=1.6667)\n",
            "Rule 3: (22960 -> 85150, 22957 : Confidence=1.0000, Lift=2.5000)\n",
            "Rule 4: (85150 -> 22960, 22957 : Confidence=0.6667, Lift=1.6667)\n",
            "Rule 5: (22960, 22957 -> 85150 : Confidence=1.0000, Lift=1.6667)\n",
            "Rule 6: (85150, 22957 -> 22960 : Confidence=1.0000, Lift=2.5000)\n",
            "Rule 7: (85150, 22960 -> 22957 : Confidence=1.0000, Lift=1.6667)\n",
            "\n",
            "yes\n",
            "Items: 82551, 85150, 82552\n",
            "Support: 0.4000 (40.00%)\n",
            "Rule 1: (None -> 82551, 82552, 85150 : Confidence=0.4000, Lift=1.0000)\n",
            "Rule 2: (82551 -> 82552, 85150 : Confidence=1.0000, Lift=2.5000)\n",
            "Rule 3: (82552 -> 82551, 85150 : Confidence=1.0000, Lift=2.5000)\n",
            "Rule 4: (85150 -> 82551, 82552 : Confidence=0.6667, Lift=1.6667)\n",
            "Rule 5: (82551, 82552 -> 85150 : Confidence=1.0000, Lift=1.6667)\n",
            "Rule 6: (82551, 85150 -> 82552 : Confidence=1.0000, Lift=2.5000)\n",
            "Rule 7: (85150, 82552 -> 82551 : Confidence=1.0000, Lift=2.5000)\n",
            "\n",
            "yes\n",
            "Items: 22203, 22202, 20682, 22551\n",
            "Support: 0.4000 (40.00%)\n",
            "Rule 1: (None -> 22203, 22202, 20682, 22551 : Confidence=0.4000, Lift=1.0000)\n",
            "Rule 2: (20682 -> 22203, 22202, 22551 : Confidence=1.0000, Lift=2.5000)\n",
            "Rule 3: (22202 -> 22203, 20682, 22551 : Confidence=1.0000, Lift=2.5000)\n",
            "Rule 4: (22203 -> 20682, 22202, 22551 : Confidence=1.0000, Lift=2.5000)\n",
            "Rule 5: (22551 -> 20682, 22203, 22202 : Confidence=1.0000, Lift=2.5000)\n",
            "Rule 6: (22202, 20682 -> 22203, 22551 : Confidence=1.0000, Lift=2.5000)\n",
            "Rule 7: (22203, 20682 -> 22202, 22551 : Confidence=1.0000, Lift=2.5000)\n",
            "Rule 8: (20682, 22551 -> 22203, 22202 : Confidence=1.0000, Lift=2.5000)\n",
            "Rule 9: (22203, 22202 -> 20682, 22551 : Confidence=1.0000, Lift=2.5000)\n",
            "Rule 10: (22202, 22551 -> 22203, 20682 : Confidence=1.0000, Lift=2.5000)\n",
            "Rule 11: (22203, 22551 -> 20682, 22202 : Confidence=1.0000, Lift=2.5000)\n",
            "Rule 12: (22203, 22202, 20682 -> 22551 : Confidence=1.0000, Lift=2.5000)\n",
            "Rule 13: (22202, 20682, 22551 -> 22203 : Confidence=1.0000, Lift=2.5000)\n",
            "Rule 14: (22203, 20682, 22551 -> 22202 : Confidence=1.0000, Lift=2.5000)\n",
            "Rule 15: (22203, 22202, 22551 -> 20682 : Confidence=1.0000, Lift=2.5000)\n",
            "\n",
            "yes\n",
            "Items: 21216, 21439, 22620, 20725\n",
            "Support: 0.4000 (40.00%)\n",
            "Rule 1: (None -> 21216, 21439, 22620, 20725 : Confidence=0.4000, Lift=1.0000)\n",
            "Rule 2: (20725 -> 21216, 21439, 22620 : Confidence=1.0000, Lift=2.5000)\n",
            "Rule 3: (21216 -> 21439, 22620, 20725 : Confidence=1.0000, Lift=2.5000)\n",
            "Rule 4: (21439 -> 21216, 22620, 20725 : Confidence=1.0000, Lift=2.5000)\n",
            "Rule 5: (22620 -> 21216, 21439, 20725 : Confidence=1.0000, Lift=2.5000)\n",
            "Rule 6: (21216, 20725 -> 21439, 22620 : Confidence=1.0000, Lift=2.5000)\n",
            "Rule 7: (21439, 20725 -> 21216, 22620 : Confidence=1.0000, Lift=2.5000)\n",
            "Rule 8: (22620, 20725 -> 21216, 21439 : Confidence=1.0000, Lift=2.5000)\n",
            "Rule 9: (21216, 21439 -> 22620, 20725 : Confidence=1.0000, Lift=2.5000)\n",
            "Rule 10: (21216, 22620 -> 21439, 20725 : Confidence=1.0000, Lift=2.5000)\n",
            "Rule 11: (21439, 22620 -> 21216, 20725 : Confidence=1.0000, Lift=2.5000)\n",
            "Rule 12: (21216, 21439, 20725 -> 22620 : Confidence=1.0000, Lift=2.5000)\n",
            "Rule 13: (21216, 22620, 20725 -> 21439 : Confidence=1.0000, Lift=2.5000)\n",
            "Rule 14: (21439, 22620, 20725 -> 21216 : Confidence=1.0000, Lift=2.5000)\n",
            "Rule 15: (21216, 21439, 22620 -> 20725 : Confidence=1.0000, Lift=2.5000)\n",
            "\n",
            "yes\n",
            "Items: 21165, 82551, 85150, 82552\n",
            "Support: 0.4000 (40.00%)\n",
            "Rule 1: (None -> 21165, 82551, 85150, 82552 : Confidence=0.4000, Lift=1.0000)\n",
            "Rule 2: (21165 -> 82551, 82552, 85150 : Confidence=1.0000, Lift=2.5000)\n",
            "Rule 3: (82551 -> 21165, 82552, 85150 : Confidence=1.0000, Lift=2.5000)\n",
            "Rule 4: (82552 -> 21165, 82551, 85150 : Confidence=1.0000, Lift=2.5000)\n",
            "Rule 5: (85150 -> 21165, 82551, 82552 : Confidence=0.6667, Lift=1.6667)\n",
            "Rule 6: (21165, 82551 -> 82552, 85150 : Confidence=1.0000, Lift=2.5000)\n",
            "Rule 7: (21165, 82552 -> 82551, 85150 : Confidence=1.0000, Lift=2.5000)\n",
            "Rule 8: (21165, 85150 -> 82551, 82552 : Confidence=1.0000, Lift=2.5000)\n",
            "Rule 9: (82551, 82552 -> 21165, 85150 : Confidence=1.0000, Lift=2.5000)\n",
            "Rule 10: (82551, 85150 -> 21165, 82552 : Confidence=1.0000, Lift=2.5000)\n",
            "Rule 11: (85150, 82552 -> 21165, 82551 : Confidence=1.0000, Lift=2.5000)\n",
            "Rule 12: (21165, 82551, 82552 -> 85150 : Confidence=1.0000, Lift=1.6667)\n",
            "Rule 13: (21165, 82551, 85150 -> 82552 : Confidence=1.0000, Lift=2.5000)\n",
            "Rule 14: (21165, 85150, 82552 -> 82551 : Confidence=1.0000, Lift=2.5000)\n",
            "Rule 15: (82551, 85150, 82552 -> 21165 : Confidence=1.0000, Lift=2.5000)\n",
            "\n",
            "yes\n",
            "Items: 21756, 85150, 22960, 22957\n",
            "Support: 0.4000 (40.00%)\n",
            "Rule 1: (None -> 21756, 85150, 22960, 22957 : Confidence=0.4000, Lift=1.0000)\n",
            "Rule 2: (21756 -> 85150, 22960, 22957 : Confidence=1.0000, Lift=2.5000)\n",
            "Rule 3: (22957 -> 21756, 85150, 22960 : Confidence=0.6667, Lift=1.6667)\n",
            "Rule 4: (22960 -> 21756, 85150, 22957 : Confidence=1.0000, Lift=2.5000)\n",
            "Rule 5: (85150 -> 21756, 22960, 22957 : Confidence=0.6667, Lift=1.6667)\n",
            "Rule 6: (21756, 22957 -> 85150, 22960 : Confidence=1.0000, Lift=2.5000)\n",
            "Rule 7: (21756, 22960 -> 85150, 22957 : Confidence=1.0000, Lift=2.5000)\n",
            "Rule 8: (21756, 85150 -> 22960, 22957 : Confidence=1.0000, Lift=2.5000)\n",
            "Rule 9: (22960, 22957 -> 21756, 85150 : Confidence=1.0000, Lift=2.5000)\n",
            "Rule 10: (85150, 22957 -> 21756, 22960 : Confidence=1.0000, Lift=2.5000)\n",
            "Rule 11: (85150, 22960 -> 21756, 22957 : Confidence=1.0000, Lift=2.5000)\n",
            "Rule 12: (21756, 22960, 22957 -> 85150 : Confidence=1.0000, Lift=1.6667)\n",
            "Rule 13: (21756, 85150, 22957 -> 22960 : Confidence=1.0000, Lift=2.5000)\n",
            "Rule 14: (21756, 85150, 22960 -> 22957 : Confidence=1.0000, Lift=1.6667)\n",
            "Rule 15: (85150, 22960, 22957 -> 21756 : Confidence=1.0000, Lift=2.5000)\n",
            "\n"
          ]
        }
      ]
    },
    {
      "cell_type": "markdown",
      "source": [
        "- check description item"
      ],
      "metadata": {
        "id": "VtBLdlV_cljJ"
      }
    },
    {
      "cell_type": "code",
      "source": [
        "find_des('22202', '22326')"
      ],
      "metadata": {
        "id": "x7tkqFBScmtT",
        "outputId": "15969fd5-4558-43d7-c216-14341975de69",
        "colab": {
          "base_uri": "https://localhost:8080/"
        }
      },
      "execution_count": null,
      "outputs": [
        {
          "output_type": "execute_result",
          "data": {
            "text/plain": [
              "{'MILK PAN PINK POLKADOT', 'ROUND SNACK BOXES SET OF4 WOODLAND ', nan}"
            ]
          },
          "metadata": {},
          "execution_count": 159
        }
      ]
    },
    {
      "cell_type": "markdown",
      "source": [
        "### 6.4 ช่วงเวลา Chirtmas & New Year(1 Dec -31 Dec)"
      ],
      "metadata": {
        "id": "4T1MXsZ1dFk4"
      }
    },
    {
      "cell_type": "code",
      "source": [
        "filtered_df64 = df6[\n",
        "     (df6['InvoiceDate'].dt.month == 12)  &\n",
        "    (df6['Country'].isin(europe_countries))\n",
        "]"
      ],
      "metadata": {
        "id": "XAk6gDLvlt28"
      },
      "execution_count": null,
      "outputs": []
    },
    {
      "cell_type": "code",
      "source": [
        "transactions64 = filtered_df64.groupby(['Country', 'Month'])['StockCode'].apply(list)"
      ],
      "metadata": {
        "id": "fzHvn01PluQj"
      },
      "execution_count": null,
      "outputs": []
    },
    {
      "cell_type": "code",
      "source": [
        "frequentItemset64 = list(apriori(transactions64, min_support=0.4))\n",
        "\n",
        "for record in frequentItemset64:\n",
        "    if len(record.items) > 1:\n",
        "        print('yes')\n",
        "        print(f\"Items: {', '.join(record.items)}\")\n",
        "        print(f\"Support: {record.support:.4f} ({record.support*100:.2f}%)\")\n",
        "\n",
        "        for i, stat in enumerate(record.ordered_statistics, 1):\n",
        "            items_base = 'None' if not stat.items_base else ', '.join(stat.items_base)\n",
        "            items_add = ', '.join(stat.items_add)\n",
        "            confidence = stat.confidence\n",
        "            lift = stat.lift\n",
        "\n",
        "            print(f\"Rule {i}: ({items_base} -> {items_add} : Confidence={confidence:.4f}, Lift={lift:.4f})\")\n",
        "        print()\n"
      ],
      "metadata": {
        "outputId": "2f3ba088-d97a-475f-ac85-db387a282c80",
        "colab": {
          "base_uri": "https://localhost:8080/"
        },
        "id": "bahCwKrlluQk"
      },
      "execution_count": null,
      "outputs": [
        {
          "output_type": "stream",
          "name": "stdout",
          "text": [
            "yes\n",
            "Items: 20750, POST\n",
            "Support: 0.4091 (40.91%)\n",
            "Rule 1: (None -> 20750, POST : Confidence=0.4091, Lift=1.0000)\n",
            "Rule 2: (20750 -> POST : Confidence=0.9000, Lift=1.4143)\n",
            "Rule 3: (POST -> 20750 : Confidence=0.6429, Lift=1.4143)\n",
            "\n"
          ]
        }
      ]
    },
    {
      "cell_type": "markdown",
      "source": [
        "- check description item"
      ],
      "metadata": {
        "id": "986fn_x3cnzj"
      }
    },
    {
      "cell_type": "code",
      "source": [
        "find_des('20750', 'POST')"
      ],
      "metadata": {
        "id": "C_MKZU8ccoRR",
        "outputId": "b190c667-106c-43d6-8197-32cb5d512a51",
        "colab": {
          "base_uri": "https://localhost:8080/"
        }
      },
      "execution_count": null,
      "outputs": [
        {
          "output_type": "execute_result",
          "data": {
            "text/plain": [
              "{'POSTAGE', 'RED RETROSPOT MINI CASES', nan}"
            ]
          },
          "metadata": {},
          "execution_count": 163
        }
      ]
    },
    {
      "cell_type": "markdown",
      "source": [
        "### 6.5 ช่วงเวลา Chirtmas & New Year(1 Dec -31 Dec)"
      ],
      "metadata": {
        "id": "1m5KhayadFwl"
      }
    },
    {
      "cell_type": "code",
      "source": [
        "filtered_df65 = df6[(df6['InvoiceDate'].dt.month == 2) & (df6['InvoiceDate'].dt.day == 14) ]"
      ],
      "metadata": {
        "id": "TuzcW2NjmC9G"
      },
      "execution_count": null,
      "outputs": []
    },
    {
      "cell_type": "code",
      "source": [
        "transactions65 = filtered_df65.groupby(['Country', 'Month'])['StockCode'].apply(list)"
      ],
      "metadata": {
        "id": "UOLl-12DmC9I"
      },
      "execution_count": null,
      "outputs": []
    },
    {
      "cell_type": "code",
      "source": [
        "min_sup = 0.5\n",
        "frequentItemsets_va= list(apriori(transactions65,min_support = min_sup))\n",
        "for i in frequentItemsets_va:\n",
        "    if i[0].__len__()==2:\n",
        "        print('yes')\n",
        "        print(i)"
      ],
      "metadata": {
        "id": "_PftO1ppxqpQ",
        "outputId": "05f7cb34-c281-420b-af59-1236a672bf38",
        "colab": {
          "base_uri": "https://localhost:8080/"
        }
      },
      "execution_count": null,
      "outputs": [
        {
          "output_type": "stream",
          "name": "stdout",
          "text": [
            "yes\n",
            "RelationRecord(items=frozenset({'20726', '20719'}), support=0.5, ordered_statistics=[OrderedStatistic(items_base=frozenset(), items_add=frozenset({'20726', '20719'}), confidence=0.5, lift=1.0), OrderedStatistic(items_base=frozenset({'20719'}), items_add=frozenset({'20726'}), confidence=1.0, lift=2.0), OrderedStatistic(items_base=frozenset({'20726'}), items_add=frozenset({'20719'}), confidence=1.0, lift=2.0)])\n",
            "yes\n",
            "RelationRecord(items=frozenset({'20728', '20719'}), support=0.5, ordered_statistics=[OrderedStatistic(items_base=frozenset(), items_add=frozenset({'20728', '20719'}), confidence=0.5, lift=1.0), OrderedStatistic(items_base=frozenset({'20719'}), items_add=frozenset({'20728'}), confidence=1.0, lift=2.0), OrderedStatistic(items_base=frozenset({'20728'}), items_add=frozenset({'20719'}), confidence=1.0, lift=2.0)])\n",
            "yes\n",
            "RelationRecord(items=frozenset({'22383', '20719'}), support=0.5, ordered_statistics=[OrderedStatistic(items_base=frozenset(), items_add=frozenset({'22383', '20719'}), confidence=0.5, lift=1.0), OrderedStatistic(items_base=frozenset({'20719'}), items_add=frozenset({'22383'}), confidence=1.0, lift=2.0), OrderedStatistic(items_base=frozenset({'22383'}), items_add=frozenset({'20719'}), confidence=1.0, lift=2.0)])\n",
            "yes\n",
            "RelationRecord(items=frozenset({'22661', '20719'}), support=0.5, ordered_statistics=[OrderedStatistic(items_base=frozenset(), items_add=frozenset({'22661', '20719'}), confidence=0.5, lift=1.0), OrderedStatistic(items_base=frozenset({'20719'}), items_add=frozenset({'22661'}), confidence=1.0, lift=2.0), OrderedStatistic(items_base=frozenset({'22661'}), items_add=frozenset({'20719'}), confidence=1.0, lift=2.0)])\n",
            "yes\n",
            "RelationRecord(items=frozenset({'22662', '20719'}), support=0.5, ordered_statistics=[OrderedStatistic(items_base=frozenset(), items_add=frozenset({'22662', '20719'}), confidence=0.5, lift=1.0), OrderedStatistic(items_base=frozenset({'20719'}), items_add=frozenset({'22662'}), confidence=1.0, lift=2.0), OrderedStatistic(items_base=frozenset({'22662'}), items_add=frozenset({'20719'}), confidence=1.0, lift=2.0)])\n",
            "yes\n",
            "RelationRecord(items=frozenset({'22720', '20719'}), support=0.5, ordered_statistics=[OrderedStatistic(items_base=frozenset(), items_add=frozenset({'22720', '20719'}), confidence=0.5, lift=1.0), OrderedStatistic(items_base=frozenset({'20719'}), items_add=frozenset({'22720'}), confidence=1.0, lift=2.0), OrderedStatistic(items_base=frozenset({'22720'}), items_add=frozenset({'20719'}), confidence=1.0, lift=2.0)])\n",
            "yes\n",
            "RelationRecord(items=frozenset({'22722', '20719'}), support=0.5, ordered_statistics=[OrderedStatistic(items_base=frozenset(), items_add=frozenset({'22722', '20719'}), confidence=0.5, lift=1.0), OrderedStatistic(items_base=frozenset({'20719'}), items_add=frozenset({'22722'}), confidence=1.0, lift=2.0), OrderedStatistic(items_base=frozenset({'22722'}), items_add=frozenset({'20719'}), confidence=1.0, lift=2.0)])\n",
            "yes\n",
            "RelationRecord(items=frozenset({'22957', '20719'}), support=0.5, ordered_statistics=[OrderedStatistic(items_base=frozenset(), items_add=frozenset({'22957', '20719'}), confidence=0.5, lift=1.0), OrderedStatistic(items_base=frozenset({'20719'}), items_add=frozenset({'22957'}), confidence=1.0, lift=2.0), OrderedStatistic(items_base=frozenset({'22957'}), items_add=frozenset({'20719'}), confidence=1.0, lift=2.0)])\n",
            "yes\n",
            "RelationRecord(items=frozenset({'20728', '20726'}), support=0.5, ordered_statistics=[OrderedStatistic(items_base=frozenset(), items_add=frozenset({'20728', '20726'}), confidence=0.5, lift=1.0), OrderedStatistic(items_base=frozenset({'20726'}), items_add=frozenset({'20728'}), confidence=1.0, lift=2.0), OrderedStatistic(items_base=frozenset({'20728'}), items_add=frozenset({'20726'}), confidence=1.0, lift=2.0)])\n",
            "yes\n",
            "RelationRecord(items=frozenset({'22383', '20726'}), support=0.5, ordered_statistics=[OrderedStatistic(items_base=frozenset(), items_add=frozenset({'22383', '20726'}), confidence=0.5, lift=1.0), OrderedStatistic(items_base=frozenset({'20726'}), items_add=frozenset({'22383'}), confidence=1.0, lift=2.0), OrderedStatistic(items_base=frozenset({'22383'}), items_add=frozenset({'20726'}), confidence=1.0, lift=2.0)])\n",
            "yes\n",
            "RelationRecord(items=frozenset({'22661', '20726'}), support=0.5, ordered_statistics=[OrderedStatistic(items_base=frozenset(), items_add=frozenset({'22661', '20726'}), confidence=0.5, lift=1.0), OrderedStatistic(items_base=frozenset({'20726'}), items_add=frozenset({'22661'}), confidence=1.0, lift=2.0), OrderedStatistic(items_base=frozenset({'22661'}), items_add=frozenset({'20726'}), confidence=1.0, lift=2.0)])\n",
            "yes\n",
            "RelationRecord(items=frozenset({'22662', '20726'}), support=0.5, ordered_statistics=[OrderedStatistic(items_base=frozenset(), items_add=frozenset({'22662', '20726'}), confidence=0.5, lift=1.0), OrderedStatistic(items_base=frozenset({'20726'}), items_add=frozenset({'22662'}), confidence=1.0, lift=2.0), OrderedStatistic(items_base=frozenset({'22662'}), items_add=frozenset({'20726'}), confidence=1.0, lift=2.0)])\n",
            "yes\n",
            "RelationRecord(items=frozenset({'22720', '20726'}), support=0.5, ordered_statistics=[OrderedStatistic(items_base=frozenset(), items_add=frozenset({'22720', '20726'}), confidence=0.5, lift=1.0), OrderedStatistic(items_base=frozenset({'20726'}), items_add=frozenset({'22720'}), confidence=1.0, lift=2.0), OrderedStatistic(items_base=frozenset({'22720'}), items_add=frozenset({'20726'}), confidence=1.0, lift=2.0)])\n",
            "yes\n",
            "RelationRecord(items=frozenset({'22722', '20726'}), support=0.5, ordered_statistics=[OrderedStatistic(items_base=frozenset(), items_add=frozenset({'22722', '20726'}), confidence=0.5, lift=1.0), OrderedStatistic(items_base=frozenset({'20726'}), items_add=frozenset({'22722'}), confidence=1.0, lift=2.0), OrderedStatistic(items_base=frozenset({'22722'}), items_add=frozenset({'20726'}), confidence=1.0, lift=2.0)])\n",
            "yes\n",
            "RelationRecord(items=frozenset({'20726', '22957'}), support=0.5, ordered_statistics=[OrderedStatistic(items_base=frozenset(), items_add=frozenset({'20726', '22957'}), confidence=0.5, lift=1.0), OrderedStatistic(items_base=frozenset({'20726'}), items_add=frozenset({'22957'}), confidence=1.0, lift=2.0), OrderedStatistic(items_base=frozenset({'22957'}), items_add=frozenset({'20726'}), confidence=1.0, lift=2.0)])\n",
            "yes\n",
            "RelationRecord(items=frozenset({'20728', '22383'}), support=0.5, ordered_statistics=[OrderedStatistic(items_base=frozenset(), items_add=frozenset({'20728', '22383'}), confidence=0.5, lift=1.0), OrderedStatistic(items_base=frozenset({'20728'}), items_add=frozenset({'22383'}), confidence=1.0, lift=2.0), OrderedStatistic(items_base=frozenset({'22383'}), items_add=frozenset({'20728'}), confidence=1.0, lift=2.0)])\n",
            "yes\n",
            "RelationRecord(items=frozenset({'20728', '22661'}), support=0.5, ordered_statistics=[OrderedStatistic(items_base=frozenset(), items_add=frozenset({'20728', '22661'}), confidence=0.5, lift=1.0), OrderedStatistic(items_base=frozenset({'20728'}), items_add=frozenset({'22661'}), confidence=1.0, lift=2.0), OrderedStatistic(items_base=frozenset({'22661'}), items_add=frozenset({'20728'}), confidence=1.0, lift=2.0)])\n",
            "yes\n",
            "RelationRecord(items=frozenset({'20728', '22662'}), support=0.5, ordered_statistics=[OrderedStatistic(items_base=frozenset(), items_add=frozenset({'20728', '22662'}), confidence=0.5, lift=1.0), OrderedStatistic(items_base=frozenset({'20728'}), items_add=frozenset({'22662'}), confidence=1.0, lift=2.0), OrderedStatistic(items_base=frozenset({'22662'}), items_add=frozenset({'20728'}), confidence=1.0, lift=2.0)])\n",
            "yes\n",
            "RelationRecord(items=frozenset({'20728', '22720'}), support=0.5, ordered_statistics=[OrderedStatistic(items_base=frozenset(), items_add=frozenset({'20728', '22720'}), confidence=0.5, lift=1.0), OrderedStatistic(items_base=frozenset({'20728'}), items_add=frozenset({'22720'}), confidence=1.0, lift=2.0), OrderedStatistic(items_base=frozenset({'22720'}), items_add=frozenset({'20728'}), confidence=1.0, lift=2.0)])\n",
            "yes\n",
            "RelationRecord(items=frozenset({'20728', '22722'}), support=0.5, ordered_statistics=[OrderedStatistic(items_base=frozenset(), items_add=frozenset({'20728', '22722'}), confidence=0.5, lift=1.0), OrderedStatistic(items_base=frozenset({'20728'}), items_add=frozenset({'22722'}), confidence=1.0, lift=2.0), OrderedStatistic(items_base=frozenset({'22722'}), items_add=frozenset({'20728'}), confidence=1.0, lift=2.0)])\n",
            "yes\n",
            "RelationRecord(items=frozenset({'20728', '22957'}), support=0.5, ordered_statistics=[OrderedStatistic(items_base=frozenset(), items_add=frozenset({'20728', '22957'}), confidence=0.5, lift=1.0), OrderedStatistic(items_base=frozenset({'20728'}), items_add=frozenset({'22957'}), confidence=1.0, lift=2.0), OrderedStatistic(items_base=frozenset({'22957'}), items_add=frozenset({'20728'}), confidence=1.0, lift=2.0)])\n",
            "yes\n",
            "RelationRecord(items=frozenset({'21832', '22195'}), support=0.5, ordered_statistics=[OrderedStatistic(items_base=frozenset(), items_add=frozenset({'21832', '22195'}), confidence=0.5, lift=1.0), OrderedStatistic(items_base=frozenset({'21832'}), items_add=frozenset({'22195'}), confidence=1.0, lift=2.0), OrderedStatistic(items_base=frozenset({'22195'}), items_add=frozenset({'21832'}), confidence=1.0, lift=2.0)])\n",
            "yes\n",
            "RelationRecord(items=frozenset({'22383', '22661'}), support=0.5, ordered_statistics=[OrderedStatistic(items_base=frozenset(), items_add=frozenset({'22383', '22661'}), confidence=0.5, lift=1.0), OrderedStatistic(items_base=frozenset({'22383'}), items_add=frozenset({'22661'}), confidence=1.0, lift=2.0), OrderedStatistic(items_base=frozenset({'22661'}), items_add=frozenset({'22383'}), confidence=1.0, lift=2.0)])\n",
            "yes\n",
            "RelationRecord(items=frozenset({'22383', '22662'}), support=0.5, ordered_statistics=[OrderedStatistic(items_base=frozenset(), items_add=frozenset({'22383', '22662'}), confidence=0.5, lift=1.0), OrderedStatistic(items_base=frozenset({'22383'}), items_add=frozenset({'22662'}), confidence=1.0, lift=2.0), OrderedStatistic(items_base=frozenset({'22662'}), items_add=frozenset({'22383'}), confidence=1.0, lift=2.0)])\n",
            "yes\n",
            "RelationRecord(items=frozenset({'22383', '22720'}), support=0.5, ordered_statistics=[OrderedStatistic(items_base=frozenset(), items_add=frozenset({'22383', '22720'}), confidence=0.5, lift=1.0), OrderedStatistic(items_base=frozenset({'22383'}), items_add=frozenset({'22720'}), confidence=1.0, lift=2.0), OrderedStatistic(items_base=frozenset({'22720'}), items_add=frozenset({'22383'}), confidence=1.0, lift=2.0)])\n",
            "yes\n",
            "RelationRecord(items=frozenset({'22383', '22722'}), support=0.5, ordered_statistics=[OrderedStatistic(items_base=frozenset(), items_add=frozenset({'22383', '22722'}), confidence=0.5, lift=1.0), OrderedStatistic(items_base=frozenset({'22383'}), items_add=frozenset({'22722'}), confidence=1.0, lift=2.0), OrderedStatistic(items_base=frozenset({'22722'}), items_add=frozenset({'22383'}), confidence=1.0, lift=2.0)])\n",
            "yes\n",
            "RelationRecord(items=frozenset({'22383', '22957'}), support=0.5, ordered_statistics=[OrderedStatistic(items_base=frozenset(), items_add=frozenset({'22383', '22957'}), confidence=0.5, lift=1.0), OrderedStatistic(items_base=frozenset({'22383'}), items_add=frozenset({'22957'}), confidence=1.0, lift=2.0), OrderedStatistic(items_base=frozenset({'22957'}), items_add=frozenset({'22383'}), confidence=1.0, lift=2.0)])\n",
            "yes\n",
            "RelationRecord(items=frozenset({'22661', '22662'}), support=0.5, ordered_statistics=[OrderedStatistic(items_base=frozenset(), items_add=frozenset({'22661', '22662'}), confidence=0.5, lift=1.0), OrderedStatistic(items_base=frozenset({'22661'}), items_add=frozenset({'22662'}), confidence=1.0, lift=2.0), OrderedStatistic(items_base=frozenset({'22662'}), items_add=frozenset({'22661'}), confidence=1.0, lift=2.0)])\n",
            "yes\n",
            "RelationRecord(items=frozenset({'22661', '22720'}), support=0.5, ordered_statistics=[OrderedStatistic(items_base=frozenset(), items_add=frozenset({'22661', '22720'}), confidence=0.5, lift=1.0), OrderedStatistic(items_base=frozenset({'22661'}), items_add=frozenset({'22720'}), confidence=1.0, lift=2.0), OrderedStatistic(items_base=frozenset({'22720'}), items_add=frozenset({'22661'}), confidence=1.0, lift=2.0)])\n",
            "yes\n",
            "RelationRecord(items=frozenset({'22661', '22722'}), support=0.5, ordered_statistics=[OrderedStatistic(items_base=frozenset(), items_add=frozenset({'22661', '22722'}), confidence=0.5, lift=1.0), OrderedStatistic(items_base=frozenset({'22661'}), items_add=frozenset({'22722'}), confidence=1.0, lift=2.0), OrderedStatistic(items_base=frozenset({'22722'}), items_add=frozenset({'22661'}), confidence=1.0, lift=2.0)])\n",
            "yes\n",
            "RelationRecord(items=frozenset({'22661', '22957'}), support=0.5, ordered_statistics=[OrderedStatistic(items_base=frozenset(), items_add=frozenset({'22661', '22957'}), confidence=0.5, lift=1.0), OrderedStatistic(items_base=frozenset({'22661'}), items_add=frozenset({'22957'}), confidence=1.0, lift=2.0), OrderedStatistic(items_base=frozenset({'22957'}), items_add=frozenset({'22661'}), confidence=1.0, lift=2.0)])\n",
            "yes\n",
            "RelationRecord(items=frozenset({'22662', '22720'}), support=0.5, ordered_statistics=[OrderedStatistic(items_base=frozenset(), items_add=frozenset({'22662', '22720'}), confidence=0.5, lift=1.0), OrderedStatistic(items_base=frozenset({'22662'}), items_add=frozenset({'22720'}), confidence=1.0, lift=2.0), OrderedStatistic(items_base=frozenset({'22720'}), items_add=frozenset({'22662'}), confidence=1.0, lift=2.0)])\n",
            "yes\n",
            "RelationRecord(items=frozenset({'22662', '22722'}), support=0.5, ordered_statistics=[OrderedStatistic(items_base=frozenset(), items_add=frozenset({'22662', '22722'}), confidence=0.5, lift=1.0), OrderedStatistic(items_base=frozenset({'22662'}), items_add=frozenset({'22722'}), confidence=1.0, lift=2.0), OrderedStatistic(items_base=frozenset({'22722'}), items_add=frozenset({'22662'}), confidence=1.0, lift=2.0)])\n",
            "yes\n",
            "RelationRecord(items=frozenset({'22662', '22957'}), support=0.5, ordered_statistics=[OrderedStatistic(items_base=frozenset(), items_add=frozenset({'22662', '22957'}), confidence=0.5, lift=1.0), OrderedStatistic(items_base=frozenset({'22662'}), items_add=frozenset({'22957'}), confidence=1.0, lift=2.0), OrderedStatistic(items_base=frozenset({'22957'}), items_add=frozenset({'22662'}), confidence=1.0, lift=2.0)])\n",
            "yes\n",
            "RelationRecord(items=frozenset({'22722', '22720'}), support=0.5, ordered_statistics=[OrderedStatistic(items_base=frozenset(), items_add=frozenset({'22722', '22720'}), confidence=0.5, lift=1.0), OrderedStatistic(items_base=frozenset({'22720'}), items_add=frozenset({'22722'}), confidence=1.0, lift=2.0), OrderedStatistic(items_base=frozenset({'22722'}), items_add=frozenset({'22720'}), confidence=1.0, lift=2.0)])\n",
            "yes\n",
            "RelationRecord(items=frozenset({'22720', '22957'}), support=0.5, ordered_statistics=[OrderedStatistic(items_base=frozenset(), items_add=frozenset({'22720', '22957'}), confidence=0.5, lift=1.0), OrderedStatistic(items_base=frozenset({'22720'}), items_add=frozenset({'22957'}), confidence=1.0, lift=2.0), OrderedStatistic(items_base=frozenset({'22957'}), items_add=frozenset({'22720'}), confidence=1.0, lift=2.0)])\n",
            "yes\n",
            "RelationRecord(items=frozenset({'22722', '22957'}), support=0.5, ordered_statistics=[OrderedStatistic(items_base=frozenset(), items_add=frozenset({'22722', '22957'}), confidence=0.5, lift=1.0), OrderedStatistic(items_base=frozenset({'22722'}), items_add=frozenset({'22957'}), confidence=1.0, lift=2.0), OrderedStatistic(items_base=frozenset({'22957'}), items_add=frozenset({'22722'}), confidence=1.0, lift=2.0)])\n",
            "yes\n",
            "RelationRecord(items=frozenset({'84380', '22965'}), support=0.5, ordered_statistics=[OrderedStatistic(items_base=frozenset(), items_add=frozenset({'84380', '22965'}), confidence=0.5, lift=1.0), OrderedStatistic(items_base=frozenset({'22965'}), items_add=frozenset({'84380'}), confidence=1.0, lift=2.0), OrderedStatistic(items_base=frozenset({'84380'}), items_add=frozenset({'22965'}), confidence=1.0, lift=2.0)])\n"
          ]
        }
      ]
    },
    {
      "cell_type": "markdown",
      "source": [
        "- check description item"
      ],
      "metadata": {
        "id": "93hGokPEcqL-"
      }
    },
    {
      "cell_type": "code",
      "source": [
        "find_des('20726', '20719')"
      ],
      "metadata": {
        "id": "cqVaQL4WcqGk",
        "outputId": "e101fa21-7d94-4c51-898f-2fe1ae311522",
        "colab": {
          "base_uri": "https://localhost:8080/"
        }
      },
      "execution_count": null,
      "outputs": [
        {
          "output_type": "execute_result",
          "data": {
            "text/plain": [
              "{'LUNCH BAG WOODLAND', 'WOODLAND CHARLOTTE BAG'}"
            ]
          },
          "metadata": {},
          "execution_count": 169
        }
      ]
    },
    {
      "cell_type": "code",
      "source": [
        "# frequentItemset65 = list(apriori(transactions65, min_support=0.5))\n",
        "\n",
        "# for record in frequentItemset65:\n",
        "#     if len(record.items) > 1:\n",
        "#         print('yes')\n",
        "#         print(f\"Items: {', '.join(record.items)}\")\n",
        "#         print(f\"Support: {record.support:.4f} ({record.support*100:.2f}%)\")\n",
        "\n",
        "#         for i, stat in enumerate(record.ordered_statistics, 1):\n",
        "#             items_base = 'None' if not stat.items_base else ', '.join(stat.items_base)\n",
        "#             items_add = ', '.join(stat.items_add)\n",
        "#             confidence = stat.confidence\n",
        "#             lift = stat.lift\n",
        "\n",
        "#             print(f\"Rule {i}: ({items_base} -> {items_add} : Confidence={confidence:.4f}, Lift={lift:.4f})\")\n",
        "#         print()\n"
      ],
      "metadata": {
        "id": "eZic2xdqmC9I"
      },
      "execution_count": null,
      "outputs": []
    }
  ]
}